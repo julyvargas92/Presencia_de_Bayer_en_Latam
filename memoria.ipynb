{
 "cells": [
  {
   "cell_type": "markdown",
   "metadata": {},
   "source": [
    "# **MEMORIA**"
   ]
  },
  {
   "cell_type": "markdown",
   "metadata": {},
   "source": [
    "\n",
    "    He cargado el conjunto de datos original, bayer_df, que contiene información sobre productos y su presencia en diferentes países.\n",
    "\n",
    "    Creamos un DataFrame llamado countries usando pd.get_dummies para convertir la columna de países en una matriz de 0 y 1 que representa la presencia de productos en cada país.\n",
    "\n",
    "    Filtramos los países que tienen más de 20 productos usando un enfoque de suma.\n",
    "    \n",
    "    Intentos fallidos al calcular la correlación entre productos y la presencia en estos países filtrados. En este punto, se produjeron errores relacionados con la indexación y los nombres de los países en los DataFrames.\n",
    "\n",
    "A partir de esto, me replanteo mi existencia entera y decido centrarme en otros objetivos: \n",
    "\n",
    "1. **Identificar productos líderes en cada país**: Podría analizar los países filtrados y determinar qué productos tienen la mayor presencia en cada uno de ellos.\n",
    "\n",
    "2. **Análisis de productos en tendencia**: Puedo examinar los productos que están en tendencia o que muestran un aumento en la presencia en ciertos países.\n",
    "\n",
    "3. **Segmentación de productos por categoría o marca**: agruparía los productos en función de su categoría o marca y analizar cómo se distribuyen en los países.\n",
    "\n",
    "4. **Análisis de correlación entre países**: En lugar de la correlación entre productos y países, podríamos explorar cómo se relacionan los países entre sí en términos de la presencia de productos.\n",
    "\n",
    "5. **Predicción de la expansión de productos**: Si tienes datos históricos, podríamos utilizar técnicas de predicción para anticipar la expansión de ciertos productos en diferentes países.\n",
    "\n"
   ]
  },
  {
   "cell_type": "code",
   "execution_count": 2,
   "metadata": {},
   "outputs": [],
   "source": [
    "import pandas as pd\n",
    "import numpy as np"
   ]
  },
  {
   "cell_type": "code",
   "execution_count": 3,
   "metadata": {},
   "outputs": [],
   "source": [
    "import ssl\n",
    "ssl._create_default_https_context = ssl._create_unverified_context"
   ]
  },
  {
   "cell_type": "code",
   "execution_count": 4,
   "metadata": {},
   "outputs": [
    {
     "data": {
      "text/html": [
       "<div>\n",
       "<style scoped>\n",
       "    .dataframe tbody tr th:only-of-type {\n",
       "        vertical-align: middle;\n",
       "    }\n",
       "\n",
       "    .dataframe tbody tr th {\n",
       "        vertical-align: top;\n",
       "    }\n",
       "\n",
       "    .dataframe thead th {\n",
       "        text-align: right;\n",
       "    }\n",
       "</style>\n",
       "<table border=\"1\" class=\"dataframe\">\n",
       "  <thead>\n",
       "    <tr style=\"text-align: right;\">\n",
       "      <th></th>\n",
       "      <th>Number</th>\n",
       "      <th>Material Description (Name)</th>\n",
       "      <th>Number (Relationships.Formulation.Title Block)</th>\n",
       "      <th>SBU Category (Relationships.Formulation.Formulation Attributes)</th>\n",
       "      <th>Dossier Type (Relationships.Formulation.Formulation Attributes)</th>\n",
       "      <th>Lifecycle Phase (Relationships.Formulation.Title Block)</th>\n",
       "      <th>Lifecycle Phase</th>\n",
       "      <th>Triangulated (Page Two)</th>\n",
       "      <th>Marketed Countries (Page Three)</th>\n",
       "      <th>Country lead cluster</th>\n",
       "      <th>...</th>\n",
       "      <th>Volume 2</th>\n",
       "      <th>Class of goods</th>\n",
       "      <th>Primary Pack Type (Page Three).1</th>\n",
       "      <th>FG Pack Size (Page Three).1</th>\n",
       "      <th>FG Pack Size UoM (Page Three).1</th>\n",
       "      <th>Roman Number</th>\n",
       "      <th>Low performer</th>\n",
       "      <th>Samples</th>\n",
       "      <th>Galenical form.1</th>\n",
       "      <th>Combipack (Page Three)</th>\n",
       "    </tr>\n",
       "  </thead>\n",
       "  <tbody>\n",
       "    <tr>\n",
       "      <th>0</th>\n",
       "      <td>10056107</td>\n",
       "      <td>REDOXON NA ef x10 BO/PY/UY</td>\n",
       "      <td>1600106</td>\n",
       "      <td>Nutritionals</td>\n",
       "      <td>Pharma</td>\n",
       "      <td>Active</td>\n",
       "      <td>Active</td>\n",
       "      <td>Yes</td>\n",
       "      <td>Bolivia [BO];Uruguay [UY]</td>\n",
       "      <td>Other Conosur</td>\n",
       "      <td>...</td>\n",
       "      <td>197</td>\n",
       "      <td>SG (Sales Goods)</td>\n",
       "      <td>Tube Rigid</td>\n",
       "      <td>10.0</td>\n",
       "      <td>Piece [PCE]</td>\n",
       "      <td>IX</td>\n",
       "      <td>NaN</td>\n",
       "      <td>NO</td>\n",
       "      <td>Solid|Tablet|Effervescent</td>\n",
       "      <td>No</td>\n",
       "    </tr>\n",
       "    <tr>\n",
       "      <th>1</th>\n",
       "      <td>10056110</td>\n",
       "      <td>REDOXON LI ef x10 AR/BO/PY</td>\n",
       "      <td>1600105</td>\n",
       "      <td>Nutritionals</td>\n",
       "      <td>Pharma</td>\n",
       "      <td>Active</td>\n",
       "      <td>Active</td>\n",
       "      <td>No</td>\n",
       "      <td>Argentina [AR];Bolivia [BO];Paraguay [PY]</td>\n",
       "      <td>Argentina</td>\n",
       "      <td>...</td>\n",
       "      <td>251</td>\n",
       "      <td>SG (Sales Goods)</td>\n",
       "      <td>Tube Rigid</td>\n",
       "      <td>10.0</td>\n",
       "      <td>Piece [PCE]</td>\n",
       "      <td>IX</td>\n",
       "      <td>NaN</td>\n",
       "      <td>NO</td>\n",
       "      <td>Solid|Tablet|Effervescent</td>\n",
       "      <td>No</td>\n",
       "    </tr>\n",
       "    <tr>\n",
       "      <th>2</th>\n",
       "      <td>10055778</td>\n",
       "      <td>BEROCCA PLUS laq x30 CL</td>\n",
       "      <td>1600119</td>\n",
       "      <td>Nutritionals</td>\n",
       "      <td>Pharma</td>\n",
       "      <td>Active</td>\n",
       "      <td>Active</td>\n",
       "      <td>Yes</td>\n",
       "      <td>Chile [CL]</td>\n",
       "      <td>Chile</td>\n",
       "      <td>...</td>\n",
       "      <td>5</td>\n",
       "      <td>SG (Sales Goods)</td>\n",
       "      <td>Blister</td>\n",
       "      <td>30.0</td>\n",
       "      <td>Piece [PCE]</td>\n",
       "      <td>IX</td>\n",
       "      <td>NaN</td>\n",
       "      <td>NO</td>\n",
       "      <td>Solid|Tablet|Film-coated</td>\n",
       "      <td>No</td>\n",
       "    </tr>\n",
       "  </tbody>\n",
       "</table>\n",
       "<p>3 rows × 34 columns</p>\n",
       "</div>"
      ],
      "text/plain": [
       "     Number Material Description (Name)  \\\n",
       "0  10056107  REDOXON NA ef x10 BO/PY/UY   \n",
       "1  10056110  REDOXON LI ef x10 AR/BO/PY   \n",
       "2  10055778     BEROCCA PLUS laq x30 CL   \n",
       "\n",
       "   Number (Relationships.Formulation.Title Block)  \\\n",
       "0                                         1600106   \n",
       "1                                         1600105   \n",
       "2                                         1600119   \n",
       "\n",
       "  SBU Category (Relationships.Formulation.Formulation Attributes)  \\\n",
       "0                                       Nutritionals                \n",
       "1                                       Nutritionals                \n",
       "2                                       Nutritionals                \n",
       "\n",
       "  Dossier Type (Relationships.Formulation.Formulation Attributes)  \\\n",
       "0                                             Pharma                \n",
       "1                                             Pharma                \n",
       "2                                             Pharma                \n",
       "\n",
       "  Lifecycle Phase (Relationships.Formulation.Title Block) Lifecycle Phase  \\\n",
       "0                                             Active               Active   \n",
       "1                                             Active               Active   \n",
       "2                                             Active               Active   \n",
       "\n",
       "  Triangulated (Page Two)            Marketed Countries (Page Three)  \\\n",
       "0                     Yes                  Bolivia [BO];Uruguay [UY]   \n",
       "1                      No  Argentina [AR];Bolivia [BO];Paraguay [PY]   \n",
       "2                     Yes                                 Chile [CL]   \n",
       "\n",
       "  Country lead cluster  ... Volume 2    Class of goods  \\\n",
       "0        Other Conosur  ...     197   SG (Sales Goods)   \n",
       "1            Argentina  ...     251   SG (Sales Goods)   \n",
       "2                Chile  ...       5   SG (Sales Goods)   \n",
       "\n",
       "   Primary Pack Type (Page Three).1 FG Pack Size (Page Three).1  \\\n",
       "0                        Tube Rigid                        10.0   \n",
       "1                        Tube Rigid                        10.0   \n",
       "2                           Blister                        30.0   \n",
       "\n",
       "  FG Pack Size UoM (Page Three).1  Roman Number Low performer Samples  \\\n",
       "0                     Piece [PCE]            IX           NaN      NO   \n",
       "1                     Piece [PCE]            IX           NaN      NO   \n",
       "2                     Piece [PCE]            IX           NaN      NO   \n",
       "\n",
       "            Galenical form.1  Combipack (Page Three)  \n",
       "0  Solid|Tablet|Effervescent                      No  \n",
       "1  Solid|Tablet|Effervescent                      No  \n",
       "2   Solid|Tablet|Film-coated                      No  \n",
       "\n",
       "[3 rows x 34 columns]"
      ]
     },
     "execution_count": 4,
     "metadata": {},
     "output_type": "execute_result"
    }
   ],
   "source": [
    "bayer_df=pd.read_csv('/Users/julyetsi/Data Science VSCode/Carpeta_trabajo/eda_notebooks /bayerdata.csv')\n",
    "bayer_df.head(3)"
   ]
  },
  {
   "cell_type": "markdown",
   "metadata": {},
   "source": [
    "## *Quiero coger la columna de las marketed countries y recuperar los países que contiene para darle una columna a cada uno.*\n",
    "#### Los países me mostrarán con ceros y unos si en ese país se está comercializando un fármaco o no."
   ]
  },
  {
   "cell_type": "code",
   "execution_count": 5,
   "metadata": {},
   "outputs": [
    {
     "data": {
      "text/html": [
       "<div>\n",
       "<style scoped>\n",
       "    .dataframe tbody tr th:only-of-type {\n",
       "        vertical-align: middle;\n",
       "    }\n",
       "\n",
       "    .dataframe tbody tr th {\n",
       "        vertical-align: top;\n",
       "    }\n",
       "\n",
       "    .dataframe thead th {\n",
       "        text-align: right;\n",
       "    }\n",
       "</style>\n",
       "<table border=\"1\" class=\"dataframe\">\n",
       "  <thead>\n",
       "    <tr style=\"text-align: right;\">\n",
       "      <th></th>\n",
       "      <th>Antigua and Barbuda [AG]</th>\n",
       "      <th>Argentina [AR]</th>\n",
       "      <th>Aruba [AW]</th>\n",
       "      <th>Bahamas [BS]</th>\n",
       "      <th>Barbados [BB]</th>\n",
       "      <th>Belize [BZ]</th>\n",
       "      <th>Bermuda [BM]</th>\n",
       "      <th>Bolivia [BO]</th>\n",
       "      <th>Brazil [BR]</th>\n",
       "      <th>Cayman Islands [KY]</th>\n",
       "      <th>...</th>\n",
       "      <th>Nicaragua [NI]</th>\n",
       "      <th>Panama [PA]</th>\n",
       "      <th>Paraguay [PY]</th>\n",
       "      <th>Peru [PE]</th>\n",
       "      <th>Saint Lucia [LC]</th>\n",
       "      <th>Sint Maarten [SX]</th>\n",
       "      <th>Suriname [SR]</th>\n",
       "      <th>Trinidad and Tobago [TT]</th>\n",
       "      <th>Uruguay [UY]</th>\n",
       "      <th>Venezuela [VE]</th>\n",
       "    </tr>\n",
       "  </thead>\n",
       "  <tbody>\n",
       "    <tr>\n",
       "      <th>0</th>\n",
       "      <td>0</td>\n",
       "      <td>0</td>\n",
       "      <td>0</td>\n",
       "      <td>0</td>\n",
       "      <td>0</td>\n",
       "      <td>0</td>\n",
       "      <td>0</td>\n",
       "      <td>1</td>\n",
       "      <td>0</td>\n",
       "      <td>0</td>\n",
       "      <td>...</td>\n",
       "      <td>0</td>\n",
       "      <td>0</td>\n",
       "      <td>0</td>\n",
       "      <td>0</td>\n",
       "      <td>0</td>\n",
       "      <td>0</td>\n",
       "      <td>0</td>\n",
       "      <td>0</td>\n",
       "      <td>1</td>\n",
       "      <td>0</td>\n",
       "    </tr>\n",
       "    <tr>\n",
       "      <th>1</th>\n",
       "      <td>0</td>\n",
       "      <td>1</td>\n",
       "      <td>0</td>\n",
       "      <td>0</td>\n",
       "      <td>0</td>\n",
       "      <td>0</td>\n",
       "      <td>0</td>\n",
       "      <td>1</td>\n",
       "      <td>0</td>\n",
       "      <td>0</td>\n",
       "      <td>...</td>\n",
       "      <td>0</td>\n",
       "      <td>0</td>\n",
       "      <td>1</td>\n",
       "      <td>0</td>\n",
       "      <td>0</td>\n",
       "      <td>0</td>\n",
       "      <td>0</td>\n",
       "      <td>0</td>\n",
       "      <td>0</td>\n",
       "      <td>0</td>\n",
       "    </tr>\n",
       "    <tr>\n",
       "      <th>2</th>\n",
       "      <td>0</td>\n",
       "      <td>0</td>\n",
       "      <td>0</td>\n",
       "      <td>0</td>\n",
       "      <td>0</td>\n",
       "      <td>0</td>\n",
       "      <td>0</td>\n",
       "      <td>0</td>\n",
       "      <td>0</td>\n",
       "      <td>0</td>\n",
       "      <td>...</td>\n",
       "      <td>0</td>\n",
       "      <td>0</td>\n",
       "      <td>0</td>\n",
       "      <td>0</td>\n",
       "      <td>0</td>\n",
       "      <td>0</td>\n",
       "      <td>0</td>\n",
       "      <td>0</td>\n",
       "      <td>0</td>\n",
       "      <td>0</td>\n",
       "    </tr>\n",
       "    <tr>\n",
       "      <th>3</th>\n",
       "      <td>0</td>\n",
       "      <td>0</td>\n",
       "      <td>0</td>\n",
       "      <td>0</td>\n",
       "      <td>0</td>\n",
       "      <td>0</td>\n",
       "      <td>0</td>\n",
       "      <td>0</td>\n",
       "      <td>0</td>\n",
       "      <td>0</td>\n",
       "      <td>...</td>\n",
       "      <td>0</td>\n",
       "      <td>0</td>\n",
       "      <td>0</td>\n",
       "      <td>0</td>\n",
       "      <td>0</td>\n",
       "      <td>0</td>\n",
       "      <td>0</td>\n",
       "      <td>0</td>\n",
       "      <td>0</td>\n",
       "      <td>0</td>\n",
       "    </tr>\n",
       "    <tr>\n",
       "      <th>4</th>\n",
       "      <td>0</td>\n",
       "      <td>0</td>\n",
       "      <td>0</td>\n",
       "      <td>0</td>\n",
       "      <td>0</td>\n",
       "      <td>0</td>\n",
       "      <td>0</td>\n",
       "      <td>0</td>\n",
       "      <td>0</td>\n",
       "      <td>0</td>\n",
       "      <td>...</td>\n",
       "      <td>0</td>\n",
       "      <td>0</td>\n",
       "      <td>0</td>\n",
       "      <td>1</td>\n",
       "      <td>0</td>\n",
       "      <td>0</td>\n",
       "      <td>0</td>\n",
       "      <td>0</td>\n",
       "      <td>0</td>\n",
       "      <td>0</td>\n",
       "    </tr>\n",
       "    <tr>\n",
       "      <th>5</th>\n",
       "      <td>0</td>\n",
       "      <td>1</td>\n",
       "      <td>0</td>\n",
       "      <td>0</td>\n",
       "      <td>0</td>\n",
       "      <td>0</td>\n",
       "      <td>0</td>\n",
       "      <td>0</td>\n",
       "      <td>0</td>\n",
       "      <td>0</td>\n",
       "      <td>...</td>\n",
       "      <td>0</td>\n",
       "      <td>0</td>\n",
       "      <td>0</td>\n",
       "      <td>0</td>\n",
       "      <td>0</td>\n",
       "      <td>0</td>\n",
       "      <td>0</td>\n",
       "      <td>0</td>\n",
       "      <td>0</td>\n",
       "      <td>0</td>\n",
       "    </tr>\n",
       "    <tr>\n",
       "      <th>6</th>\n",
       "      <td>0</td>\n",
       "      <td>0</td>\n",
       "      <td>0</td>\n",
       "      <td>0</td>\n",
       "      <td>0</td>\n",
       "      <td>0</td>\n",
       "      <td>0</td>\n",
       "      <td>0</td>\n",
       "      <td>0</td>\n",
       "      <td>0</td>\n",
       "      <td>...</td>\n",
       "      <td>0</td>\n",
       "      <td>0</td>\n",
       "      <td>0</td>\n",
       "      <td>0</td>\n",
       "      <td>0</td>\n",
       "      <td>0</td>\n",
       "      <td>0</td>\n",
       "      <td>0</td>\n",
       "      <td>0</td>\n",
       "      <td>0</td>\n",
       "    </tr>\n",
       "    <tr>\n",
       "      <th>7</th>\n",
       "      <td>0</td>\n",
       "      <td>0</td>\n",
       "      <td>0</td>\n",
       "      <td>0</td>\n",
       "      <td>0</td>\n",
       "      <td>0</td>\n",
       "      <td>0</td>\n",
       "      <td>0</td>\n",
       "      <td>0</td>\n",
       "      <td>0</td>\n",
       "      <td>...</td>\n",
       "      <td>0</td>\n",
       "      <td>0</td>\n",
       "      <td>0</td>\n",
       "      <td>1</td>\n",
       "      <td>0</td>\n",
       "      <td>0</td>\n",
       "      <td>0</td>\n",
       "      <td>0</td>\n",
       "      <td>0</td>\n",
       "      <td>0</td>\n",
       "    </tr>\n",
       "    <tr>\n",
       "      <th>8</th>\n",
       "      <td>0</td>\n",
       "      <td>0</td>\n",
       "      <td>0</td>\n",
       "      <td>0</td>\n",
       "      <td>0</td>\n",
       "      <td>0</td>\n",
       "      <td>0</td>\n",
       "      <td>0</td>\n",
       "      <td>0</td>\n",
       "      <td>0</td>\n",
       "      <td>...</td>\n",
       "      <td>0</td>\n",
       "      <td>0</td>\n",
       "      <td>0</td>\n",
       "      <td>0</td>\n",
       "      <td>0</td>\n",
       "      <td>0</td>\n",
       "      <td>0</td>\n",
       "      <td>0</td>\n",
       "      <td>0</td>\n",
       "      <td>0</td>\n",
       "    </tr>\n",
       "    <tr>\n",
       "      <th>9</th>\n",
       "      <td>0</td>\n",
       "      <td>0</td>\n",
       "      <td>0</td>\n",
       "      <td>0</td>\n",
       "      <td>1</td>\n",
       "      <td>0</td>\n",
       "      <td>0</td>\n",
       "      <td>0</td>\n",
       "      <td>0</td>\n",
       "      <td>0</td>\n",
       "      <td>...</td>\n",
       "      <td>1</td>\n",
       "      <td>0</td>\n",
       "      <td>0</td>\n",
       "      <td>0</td>\n",
       "      <td>0</td>\n",
       "      <td>0</td>\n",
       "      <td>0</td>\n",
       "      <td>0</td>\n",
       "      <td>0</td>\n",
       "      <td>0</td>\n",
       "    </tr>\n",
       "    <tr>\n",
       "      <th>10</th>\n",
       "      <td>0</td>\n",
       "      <td>0</td>\n",
       "      <td>0</td>\n",
       "      <td>0</td>\n",
       "      <td>0</td>\n",
       "      <td>0</td>\n",
       "      <td>0</td>\n",
       "      <td>0</td>\n",
       "      <td>0</td>\n",
       "      <td>0</td>\n",
       "      <td>...</td>\n",
       "      <td>0</td>\n",
       "      <td>0</td>\n",
       "      <td>0</td>\n",
       "      <td>0</td>\n",
       "      <td>0</td>\n",
       "      <td>0</td>\n",
       "      <td>0</td>\n",
       "      <td>0</td>\n",
       "      <td>0</td>\n",
       "      <td>0</td>\n",
       "    </tr>\n",
       "    <tr>\n",
       "      <th>11</th>\n",
       "      <td>0</td>\n",
       "      <td>1</td>\n",
       "      <td>0</td>\n",
       "      <td>0</td>\n",
       "      <td>0</td>\n",
       "      <td>0</td>\n",
       "      <td>0</td>\n",
       "      <td>0</td>\n",
       "      <td>0</td>\n",
       "      <td>0</td>\n",
       "      <td>...</td>\n",
       "      <td>0</td>\n",
       "      <td>0</td>\n",
       "      <td>0</td>\n",
       "      <td>0</td>\n",
       "      <td>0</td>\n",
       "      <td>0</td>\n",
       "      <td>0</td>\n",
       "      <td>0</td>\n",
       "      <td>0</td>\n",
       "      <td>0</td>\n",
       "    </tr>\n",
       "    <tr>\n",
       "      <th>12</th>\n",
       "      <td>0</td>\n",
       "      <td>0</td>\n",
       "      <td>0</td>\n",
       "      <td>0</td>\n",
       "      <td>0</td>\n",
       "      <td>0</td>\n",
       "      <td>0</td>\n",
       "      <td>0</td>\n",
       "      <td>0</td>\n",
       "      <td>0</td>\n",
       "      <td>...</td>\n",
       "      <td>0</td>\n",
       "      <td>0</td>\n",
       "      <td>0</td>\n",
       "      <td>1</td>\n",
       "      <td>0</td>\n",
       "      <td>0</td>\n",
       "      <td>0</td>\n",
       "      <td>0</td>\n",
       "      <td>0</td>\n",
       "      <td>0</td>\n",
       "    </tr>\n",
       "    <tr>\n",
       "      <th>13</th>\n",
       "      <td>0</td>\n",
       "      <td>0</td>\n",
       "      <td>0</td>\n",
       "      <td>0</td>\n",
       "      <td>0</td>\n",
       "      <td>0</td>\n",
       "      <td>0</td>\n",
       "      <td>0</td>\n",
       "      <td>0</td>\n",
       "      <td>0</td>\n",
       "      <td>...</td>\n",
       "      <td>0</td>\n",
       "      <td>0</td>\n",
       "      <td>0</td>\n",
       "      <td>1</td>\n",
       "      <td>0</td>\n",
       "      <td>0</td>\n",
       "      <td>0</td>\n",
       "      <td>0</td>\n",
       "      <td>0</td>\n",
       "      <td>0</td>\n",
       "    </tr>\n",
       "    <tr>\n",
       "      <th>14</th>\n",
       "      <td>0</td>\n",
       "      <td>1</td>\n",
       "      <td>0</td>\n",
       "      <td>0</td>\n",
       "      <td>0</td>\n",
       "      <td>0</td>\n",
       "      <td>0</td>\n",
       "      <td>0</td>\n",
       "      <td>0</td>\n",
       "      <td>0</td>\n",
       "      <td>...</td>\n",
       "      <td>0</td>\n",
       "      <td>0</td>\n",
       "      <td>0</td>\n",
       "      <td>0</td>\n",
       "      <td>0</td>\n",
       "      <td>0</td>\n",
       "      <td>0</td>\n",
       "      <td>0</td>\n",
       "      <td>0</td>\n",
       "      <td>0</td>\n",
       "    </tr>\n",
       "    <tr>\n",
       "      <th>15</th>\n",
       "      <td>0</td>\n",
       "      <td>0</td>\n",
       "      <td>0</td>\n",
       "      <td>0</td>\n",
       "      <td>0</td>\n",
       "      <td>0</td>\n",
       "      <td>0</td>\n",
       "      <td>0</td>\n",
       "      <td>0</td>\n",
       "      <td>0</td>\n",
       "      <td>...</td>\n",
       "      <td>0</td>\n",
       "      <td>0</td>\n",
       "      <td>0</td>\n",
       "      <td>0</td>\n",
       "      <td>0</td>\n",
       "      <td>0</td>\n",
       "      <td>0</td>\n",
       "      <td>0</td>\n",
       "      <td>0</td>\n",
       "      <td>0</td>\n",
       "    </tr>\n",
       "    <tr>\n",
       "      <th>16</th>\n",
       "      <td>0</td>\n",
       "      <td>1</td>\n",
       "      <td>0</td>\n",
       "      <td>0</td>\n",
       "      <td>0</td>\n",
       "      <td>0</td>\n",
       "      <td>0</td>\n",
       "      <td>0</td>\n",
       "      <td>0</td>\n",
       "      <td>0</td>\n",
       "      <td>...</td>\n",
       "      <td>0</td>\n",
       "      <td>0</td>\n",
       "      <td>0</td>\n",
       "      <td>0</td>\n",
       "      <td>0</td>\n",
       "      <td>0</td>\n",
       "      <td>0</td>\n",
       "      <td>0</td>\n",
       "      <td>0</td>\n",
       "      <td>0</td>\n",
       "    </tr>\n",
       "    <tr>\n",
       "      <th>17</th>\n",
       "      <td>0</td>\n",
       "      <td>1</td>\n",
       "      <td>0</td>\n",
       "      <td>0</td>\n",
       "      <td>0</td>\n",
       "      <td>0</td>\n",
       "      <td>0</td>\n",
       "      <td>0</td>\n",
       "      <td>0</td>\n",
       "      <td>0</td>\n",
       "      <td>...</td>\n",
       "      <td>0</td>\n",
       "      <td>0</td>\n",
       "      <td>0</td>\n",
       "      <td>0</td>\n",
       "      <td>0</td>\n",
       "      <td>0</td>\n",
       "      <td>0</td>\n",
       "      <td>0</td>\n",
       "      <td>0</td>\n",
       "      <td>0</td>\n",
       "    </tr>\n",
       "    <tr>\n",
       "      <th>18</th>\n",
       "      <td>0</td>\n",
       "      <td>0</td>\n",
       "      <td>0</td>\n",
       "      <td>0</td>\n",
       "      <td>0</td>\n",
       "      <td>0</td>\n",
       "      <td>0</td>\n",
       "      <td>0</td>\n",
       "      <td>0</td>\n",
       "      <td>0</td>\n",
       "      <td>...</td>\n",
       "      <td>0</td>\n",
       "      <td>0</td>\n",
       "      <td>0</td>\n",
       "      <td>0</td>\n",
       "      <td>0</td>\n",
       "      <td>0</td>\n",
       "      <td>0</td>\n",
       "      <td>0</td>\n",
       "      <td>0</td>\n",
       "      <td>0</td>\n",
       "    </tr>\n",
       "    <tr>\n",
       "      <th>19</th>\n",
       "      <td>0</td>\n",
       "      <td>1</td>\n",
       "      <td>0</td>\n",
       "      <td>0</td>\n",
       "      <td>0</td>\n",
       "      <td>0</td>\n",
       "      <td>0</td>\n",
       "      <td>0</td>\n",
       "      <td>0</td>\n",
       "      <td>0</td>\n",
       "      <td>...</td>\n",
       "      <td>0</td>\n",
       "      <td>0</td>\n",
       "      <td>1</td>\n",
       "      <td>0</td>\n",
       "      <td>0</td>\n",
       "      <td>0</td>\n",
       "      <td>0</td>\n",
       "      <td>0</td>\n",
       "      <td>0</td>\n",
       "      <td>0</td>\n",
       "    </tr>\n",
       "  </tbody>\n",
       "</table>\n",
       "<p>20 rows × 36 columns</p>\n",
       "</div>"
      ],
      "text/plain": [
       "    Antigua and Barbuda [AG]  Argentina [AR]  Aruba [AW]  Bahamas [BS]  \\\n",
       "0                          0               0           0             0   \n",
       "1                          0               1           0             0   \n",
       "2                          0               0           0             0   \n",
       "3                          0               0           0             0   \n",
       "4                          0               0           0             0   \n",
       "5                          0               1           0             0   \n",
       "6                          0               0           0             0   \n",
       "7                          0               0           0             0   \n",
       "8                          0               0           0             0   \n",
       "9                          0               0           0             0   \n",
       "10                         0               0           0             0   \n",
       "11                         0               1           0             0   \n",
       "12                         0               0           0             0   \n",
       "13                         0               0           0             0   \n",
       "14                         0               1           0             0   \n",
       "15                         0               0           0             0   \n",
       "16                         0               1           0             0   \n",
       "17                         0               1           0             0   \n",
       "18                         0               0           0             0   \n",
       "19                         0               1           0             0   \n",
       "\n",
       "    Barbados [BB]  Belize [BZ]  Bermuda [BM]  Bolivia [BO]  Brazil [BR]  \\\n",
       "0               0            0             0             1            0   \n",
       "1               0            0             0             1            0   \n",
       "2               0            0             0             0            0   \n",
       "3               0            0             0             0            0   \n",
       "4               0            0             0             0            0   \n",
       "5               0            0             0             0            0   \n",
       "6               0            0             0             0            0   \n",
       "7               0            0             0             0            0   \n",
       "8               0            0             0             0            0   \n",
       "9               1            0             0             0            0   \n",
       "10              0            0             0             0            0   \n",
       "11              0            0             0             0            0   \n",
       "12              0            0             0             0            0   \n",
       "13              0            0             0             0            0   \n",
       "14              0            0             0             0            0   \n",
       "15              0            0             0             0            0   \n",
       "16              0            0             0             0            0   \n",
       "17              0            0             0             0            0   \n",
       "18              0            0             0             0            0   \n",
       "19              0            0             0             0            0   \n",
       "\n",
       "    Cayman Islands [KY]  ...  Nicaragua [NI]  Panama [PA]  Paraguay [PY]  \\\n",
       "0                     0  ...               0            0              0   \n",
       "1                     0  ...               0            0              1   \n",
       "2                     0  ...               0            0              0   \n",
       "3                     0  ...               0            0              0   \n",
       "4                     0  ...               0            0              0   \n",
       "5                     0  ...               0            0              0   \n",
       "6                     0  ...               0            0              0   \n",
       "7                     0  ...               0            0              0   \n",
       "8                     0  ...               0            0              0   \n",
       "9                     0  ...               1            0              0   \n",
       "10                    0  ...               0            0              0   \n",
       "11                    0  ...               0            0              0   \n",
       "12                    0  ...               0            0              0   \n",
       "13                    0  ...               0            0              0   \n",
       "14                    0  ...               0            0              0   \n",
       "15                    0  ...               0            0              0   \n",
       "16                    0  ...               0            0              0   \n",
       "17                    0  ...               0            0              0   \n",
       "18                    0  ...               0            0              0   \n",
       "19                    0  ...               0            0              1   \n",
       "\n",
       "    Peru [PE]  Saint Lucia [LC]  Sint Maarten [SX]  Suriname [SR]  \\\n",
       "0           0                 0                  0              0   \n",
       "1           0                 0                  0              0   \n",
       "2           0                 0                  0              0   \n",
       "3           0                 0                  0              0   \n",
       "4           1                 0                  0              0   \n",
       "5           0                 0                  0              0   \n",
       "6           0                 0                  0              0   \n",
       "7           1                 0                  0              0   \n",
       "8           0                 0                  0              0   \n",
       "9           0                 0                  0              0   \n",
       "10          0                 0                  0              0   \n",
       "11          0                 0                  0              0   \n",
       "12          1                 0                  0              0   \n",
       "13          1                 0                  0              0   \n",
       "14          0                 0                  0              0   \n",
       "15          0                 0                  0              0   \n",
       "16          0                 0                  0              0   \n",
       "17          0                 0                  0              0   \n",
       "18          0                 0                  0              0   \n",
       "19          0                 0                  0              0   \n",
       "\n",
       "    Trinidad and Tobago [TT]  Uruguay [UY]  Venezuela [VE]  \n",
       "0                          0             1               0  \n",
       "1                          0             0               0  \n",
       "2                          0             0               0  \n",
       "3                          0             0               0  \n",
       "4                          0             0               0  \n",
       "5                          0             0               0  \n",
       "6                          0             0               0  \n",
       "7                          0             0               0  \n",
       "8                          0             0               0  \n",
       "9                          0             0               0  \n",
       "10                         0             0               0  \n",
       "11                         0             0               0  \n",
       "12                         0             0               0  \n",
       "13                         0             0               0  \n",
       "14                         0             0               0  \n",
       "15                         0             0               0  \n",
       "16                         0             0               0  \n",
       "17                         0             0               0  \n",
       "18                         0             0               0  \n",
       "19                         0             0               0  \n",
       "\n",
       "[20 rows x 36 columns]"
      ]
     },
     "execution_count": 5,
     "metadata": {},
     "output_type": "execute_result"
    }
   ],
   "source": [
    "countries=bayer_df['Marketed Countries (Page Three)'].str.get_dummies(\";\")\n",
    "countries.head(20)"
   ]
  },
  {
   "cell_type": "code",
   "execution_count": 6,
   "metadata": {},
   "outputs": [
    {
     "data": {
      "text/html": [
       "<div>\n",
       "<style scoped>\n",
       "    .dataframe tbody tr th:only-of-type {\n",
       "        vertical-align: middle;\n",
       "    }\n",
       "\n",
       "    .dataframe tbody tr th {\n",
       "        vertical-align: top;\n",
       "    }\n",
       "\n",
       "    .dataframe thead th {\n",
       "        text-align: right;\n",
       "    }\n",
       "</style>\n",
       "<table border=\"1\" class=\"dataframe\">\n",
       "  <thead>\n",
       "    <tr style=\"text-align: right;\">\n",
       "      <th></th>\n",
       "      <th>Number</th>\n",
       "      <th>Material Description (Name)</th>\n",
       "      <th>Number (Relationships.Formulation.Title Block)</th>\n",
       "      <th>SBU Category (Relationships.Formulation.Formulation Attributes)</th>\n",
       "      <th>Dossier Type (Relationships.Formulation.Formulation Attributes)</th>\n",
       "      <th>Lifecycle Phase (Relationships.Formulation.Title Block)</th>\n",
       "      <th>Lifecycle Phase</th>\n",
       "      <th>Triangulated (Page Two)</th>\n",
       "      <th>Marketed Countries (Page Three)</th>\n",
       "      <th>Country lead cluster</th>\n",
       "      <th>...</th>\n",
       "      <th>Volume 2</th>\n",
       "      <th>Class of goods</th>\n",
       "      <th>Primary Pack Type (Page Three).1</th>\n",
       "      <th>FG Pack Size (Page Three).1</th>\n",
       "      <th>FG Pack Size UoM (Page Three).1</th>\n",
       "      <th>Roman Number</th>\n",
       "      <th>Low performer</th>\n",
       "      <th>Samples</th>\n",
       "      <th>Galenical form.1</th>\n",
       "      <th>Combipack (Page Three)</th>\n",
       "    </tr>\n",
       "  </thead>\n",
       "  <tbody>\n",
       "    <tr>\n",
       "      <th>0</th>\n",
       "      <td>10056107</td>\n",
       "      <td>REDOXON NA ef x10 BO/PY/UY</td>\n",
       "      <td>1600106</td>\n",
       "      <td>Nutritionals</td>\n",
       "      <td>Pharma</td>\n",
       "      <td>Active</td>\n",
       "      <td>Active</td>\n",
       "      <td>Yes</td>\n",
       "      <td>Bolivia [BO];Uruguay [UY]</td>\n",
       "      <td>Other Conosur</td>\n",
       "      <td>...</td>\n",
       "      <td>197</td>\n",
       "      <td>SG (Sales Goods)</td>\n",
       "      <td>Tube Rigid</td>\n",
       "      <td>10.0</td>\n",
       "      <td>Piece [PCE]</td>\n",
       "      <td>IX</td>\n",
       "      <td>NaN</td>\n",
       "      <td>NO</td>\n",
       "      <td>Solid|Tablet|Effervescent</td>\n",
       "      <td>No</td>\n",
       "    </tr>\n",
       "    <tr>\n",
       "      <th>1</th>\n",
       "      <td>10056110</td>\n",
       "      <td>REDOXON LI ef x10 AR/BO/PY</td>\n",
       "      <td>1600105</td>\n",
       "      <td>Nutritionals</td>\n",
       "      <td>Pharma</td>\n",
       "      <td>Active</td>\n",
       "      <td>Active</td>\n",
       "      <td>No</td>\n",
       "      <td>Argentina [AR];Bolivia [BO];Paraguay [PY]</td>\n",
       "      <td>Argentina</td>\n",
       "      <td>...</td>\n",
       "      <td>251</td>\n",
       "      <td>SG (Sales Goods)</td>\n",
       "      <td>Tube Rigid</td>\n",
       "      <td>10.0</td>\n",
       "      <td>Piece [PCE]</td>\n",
       "      <td>IX</td>\n",
       "      <td>NaN</td>\n",
       "      <td>NO</td>\n",
       "      <td>Solid|Tablet|Effervescent</td>\n",
       "      <td>No</td>\n",
       "    </tr>\n",
       "  </tbody>\n",
       "</table>\n",
       "<p>2 rows × 34 columns</p>\n",
       "</div>"
      ],
      "text/plain": [
       "     Number Material Description (Name)  \\\n",
       "0  10056107  REDOXON NA ef x10 BO/PY/UY   \n",
       "1  10056110  REDOXON LI ef x10 AR/BO/PY   \n",
       "\n",
       "   Number (Relationships.Formulation.Title Block)  \\\n",
       "0                                         1600106   \n",
       "1                                         1600105   \n",
       "\n",
       "  SBU Category (Relationships.Formulation.Formulation Attributes)  \\\n",
       "0                                       Nutritionals                \n",
       "1                                       Nutritionals                \n",
       "\n",
       "  Dossier Type (Relationships.Formulation.Formulation Attributes)  \\\n",
       "0                                             Pharma                \n",
       "1                                             Pharma                \n",
       "\n",
       "  Lifecycle Phase (Relationships.Formulation.Title Block) Lifecycle Phase  \\\n",
       "0                                             Active               Active   \n",
       "1                                             Active               Active   \n",
       "\n",
       "  Triangulated (Page Two)            Marketed Countries (Page Three)  \\\n",
       "0                     Yes                  Bolivia [BO];Uruguay [UY]   \n",
       "1                      No  Argentina [AR];Bolivia [BO];Paraguay [PY]   \n",
       "\n",
       "  Country lead cluster  ... Volume 2    Class of goods  \\\n",
       "0        Other Conosur  ...     197   SG (Sales Goods)   \n",
       "1            Argentina  ...     251   SG (Sales Goods)   \n",
       "\n",
       "   Primary Pack Type (Page Three).1 FG Pack Size (Page Three).1  \\\n",
       "0                        Tube Rigid                        10.0   \n",
       "1                        Tube Rigid                        10.0   \n",
       "\n",
       "  FG Pack Size UoM (Page Three).1  Roman Number Low performer Samples  \\\n",
       "0                     Piece [PCE]            IX           NaN      NO   \n",
       "1                     Piece [PCE]            IX           NaN      NO   \n",
       "\n",
       "            Galenical form.1  Combipack (Page Three)  \n",
       "0  Solid|Tablet|Effervescent                      No  \n",
       "1  Solid|Tablet|Effervescent                      No  \n",
       "\n",
       "[2 rows x 34 columns]"
      ]
     },
     "execution_count": 6,
     "metadata": {},
     "output_type": "execute_result"
    }
   ],
   "source": [
    "bayer_df.head(2)"
   ]
  },
  {
   "cell_type": "code",
   "execution_count": 7,
   "metadata": {},
   "outputs": [
    {
     "data": {
      "text/plain": [
       "(657, 34)"
      ]
     },
     "execution_count": 7,
     "metadata": {},
     "output_type": "execute_result"
    }
   ],
   "source": [
    "bayer_df.shape"
   ]
  },
  {
   "cell_type": "code",
   "execution_count": 8,
   "metadata": {},
   "outputs": [
    {
     "data": {
      "text/plain": [
       "Index(['Number', 'Material Description (Name)',\n",
       "       'Number (Relationships.Formulation.Title Block)',\n",
       "       'SBU Category (Relationships.Formulation.Formulation Attributes)',\n",
       "       'Dossier Type (Relationships.Formulation.Formulation Attributes)',\n",
       "       'Lifecycle Phase (Relationships.Formulation.Title Block)',\n",
       "       'Lifecycle Phase', 'Triangulated (Page Two)',\n",
       "       'Marketed Countries (Page Three)', 'Country lead cluster', 'Region',\n",
       "       'Primary Pack Type (Page Three)', 'FG Pack Size (Page Three)',\n",
       "       'FG Pack Size UoM (Page Three)', 'Created on (Page Two)',\n",
       "       'Year created', 'Repack', 'SBU Category', 'Brand', 'UI',\n",
       "       'UI Description', 'Galenical form', 'Volume 4', 'Volume 3', 'Volume 2',\n",
       "       'Class of goods', 'Primary Pack Type (Page Three).1',\n",
       "       'FG Pack Size (Page Three).1', 'FG Pack Size UoM (Page Three).1',\n",
       "       'Roman Number', 'Low performer', 'Samples', 'Galenical form.1',\n",
       "       'Combipack (Page Three)'],\n",
       "      dtype='object')"
      ]
     },
     "execution_count": 8,
     "metadata": {},
     "output_type": "execute_result"
    }
   ],
   "source": [
    "bayer_df.columns"
   ]
  },
  {
   "cell_type": "code",
   "execution_count": 9,
   "metadata": {},
   "outputs": [],
   "source": [
    "bayer_df.drop(columns=['Dossier Type (Relationships.Formulation.Formulation Attributes)',\\\n",
    "    'Lifecycle Phase (Relationships.Formulation.Title Block)', 'Lifecycle Phase', 'Triangulated (Page Two)',\\\n",
    "        'Class of goods','Samples','Roman Number', 'Combipack (Page Three)'], inplace=True)"
   ]
  },
  {
   "cell_type": "code",
   "execution_count": null,
   "metadata": {},
   "outputs": [],
   "source": []
  },
  {
   "cell_type": "code",
   "execution_count": null,
   "metadata": {},
   "outputs": [],
   "source": []
  },
  {
   "cell_type": "code",
   "execution_count": 10,
   "metadata": {},
   "outputs": [
    {
     "data": {
      "text/plain": [
       "Index(['Number', 'Material Description (Name)',\n",
       "       'Number (Relationships.Formulation.Title Block)',\n",
       "       'SBU Category (Relationships.Formulation.Formulation Attributes)',\n",
       "       'Marketed Countries (Page Three)', 'Country lead cluster', 'Region',\n",
       "       'Primary Pack Type (Page Three)', 'FG Pack Size (Page Three)',\n",
       "       'FG Pack Size UoM (Page Three)', 'Created on (Page Two)',\n",
       "       'Year created', 'Repack', 'SBU Category', 'Brand', 'UI',\n",
       "       'UI Description', 'Galenical form', 'Volume 4', 'Volume 3', 'Volume 2',\n",
       "       'Primary Pack Type (Page Three).1', 'FG Pack Size (Page Three).1',\n",
       "       'FG Pack Size UoM (Page Three).1', 'Low performer', 'Galenical form.1'],\n",
       "      dtype='object')"
      ]
     },
     "execution_count": 10,
     "metadata": {},
     "output_type": "execute_result"
    }
   ],
   "source": [
    "bayer_df.columns"
   ]
  },
  {
   "cell_type": "code",
   "execution_count": 27,
   "metadata": {},
   "outputs": [],
   "source": [
    "#comentado para que no me de error \n",
    "#bayer_df.drop(columns=['Region', 'Year created', 'Low performer', 'Repack', 'Created on (Page Two)'], inplace=True)"
   ]
  },
  {
   "cell_type": "code",
   "execution_count": 12,
   "metadata": {},
   "outputs": [
    {
     "data": {
      "text/html": [
       "<div>\n",
       "<style scoped>\n",
       "    .dataframe tbody tr th:only-of-type {\n",
       "        vertical-align: middle;\n",
       "    }\n",
       "\n",
       "    .dataframe tbody tr th {\n",
       "        vertical-align: top;\n",
       "    }\n",
       "\n",
       "    .dataframe thead th {\n",
       "        text-align: right;\n",
       "    }\n",
       "</style>\n",
       "<table border=\"1\" class=\"dataframe\">\n",
       "  <thead>\n",
       "    <tr style=\"text-align: right;\">\n",
       "      <th></th>\n",
       "      <th>Number</th>\n",
       "      <th>Material Description (Name)</th>\n",
       "      <th>Number (Relationships.Formulation.Title Block)</th>\n",
       "      <th>SBU Category (Relationships.Formulation.Formulation Attributes)</th>\n",
       "      <th>Marketed Countries (Page Three)</th>\n",
       "      <th>Country lead cluster</th>\n",
       "      <th>Region</th>\n",
       "      <th>Primary Pack Type (Page Three)</th>\n",
       "      <th>FG Pack Size (Page Three)</th>\n",
       "      <th>FG Pack Size UoM (Page Three)</th>\n",
       "      <th>...</th>\n",
       "      <th>UI Description</th>\n",
       "      <th>Galenical form</th>\n",
       "      <th>Volume 4</th>\n",
       "      <th>Volume 3</th>\n",
       "      <th>Volume 2</th>\n",
       "      <th>Primary Pack Type (Page Three).1</th>\n",
       "      <th>FG Pack Size (Page Three).1</th>\n",
       "      <th>FG Pack Size UoM (Page Three).1</th>\n",
       "      <th>Low performer</th>\n",
       "      <th>Galenical form.1</th>\n",
       "    </tr>\n",
       "  </thead>\n",
       "  <tbody>\n",
       "    <tr>\n",
       "      <th>0</th>\n",
       "      <td>10056107</td>\n",
       "      <td>REDOXON NA ef x10 BO/PY/UY</td>\n",
       "      <td>1600106</td>\n",
       "      <td>Nutritionals</td>\n",
       "      <td>Bolivia [BO];Uruguay [UY]</td>\n",
       "      <td>Other Conosur</td>\n",
       "      <td>LATAM</td>\n",
       "      <td>Tube Rigid</td>\n",
       "      <td>10.0</td>\n",
       "      <td>Piece [PCE]</td>\n",
       "      <td>...</td>\n",
       "      <td>REDOXON Orange 1000 mg Effervescent Tablet</td>\n",
       "      <td>Solid|Tablet|Effervescent</td>\n",
       "      <td>85</td>\n",
       "      <td>164</td>\n",
       "      <td>197</td>\n",
       "      <td>Tube Rigid</td>\n",
       "      <td>10.0</td>\n",
       "      <td>Piece [PCE]</td>\n",
       "      <td>NaN</td>\n",
       "      <td>Solid|Tablet|Effervescent</td>\n",
       "    </tr>\n",
       "    <tr>\n",
       "      <th>1</th>\n",
       "      <td>10056110</td>\n",
       "      <td>REDOXON LI ef x10 AR/BO/PY</td>\n",
       "      <td>1600105</td>\n",
       "      <td>Nutritionals</td>\n",
       "      <td>Argentina [AR];Bolivia [BO];Paraguay [PY]</td>\n",
       "      <td>Argentina</td>\n",
       "      <td>LATAM</td>\n",
       "      <td>Tube Rigid</td>\n",
       "      <td>10.0</td>\n",
       "      <td>Piece [PCE]</td>\n",
       "      <td>...</td>\n",
       "      <td>REDOXON 2000 mg Effervescent Tablet</td>\n",
       "      <td>Solid|Tablet|Effervescent</td>\n",
       "      <td>184</td>\n",
       "      <td>246</td>\n",
       "      <td>251</td>\n",
       "      <td>Tube Rigid</td>\n",
       "      <td>10.0</td>\n",
       "      <td>Piece [PCE]</td>\n",
       "      <td>NaN</td>\n",
       "      <td>Solid|Tablet|Effervescent</td>\n",
       "    </tr>\n",
       "  </tbody>\n",
       "</table>\n",
       "<p>2 rows × 26 columns</p>\n",
       "</div>"
      ],
      "text/plain": [
       "     Number Material Description (Name)  \\\n",
       "0  10056107  REDOXON NA ef x10 BO/PY/UY   \n",
       "1  10056110  REDOXON LI ef x10 AR/BO/PY   \n",
       "\n",
       "   Number (Relationships.Formulation.Title Block)  \\\n",
       "0                                         1600106   \n",
       "1                                         1600105   \n",
       "\n",
       "  SBU Category (Relationships.Formulation.Formulation Attributes)  \\\n",
       "0                                       Nutritionals                \n",
       "1                                       Nutritionals                \n",
       "\n",
       "             Marketed Countries (Page Three) Country lead cluster Region  \\\n",
       "0                  Bolivia [BO];Uruguay [UY]        Other Conosur  LATAM   \n",
       "1  Argentina [AR];Bolivia [BO];Paraguay [PY]            Argentina  LATAM   \n",
       "\n",
       "  Primary Pack Type (Page Three)  FG Pack Size (Page Three)  \\\n",
       "0                     Tube Rigid                       10.0   \n",
       "1                     Tube Rigid                       10.0   \n",
       "\n",
       "  FG Pack Size UoM (Page Three)  ...  \\\n",
       "0                   Piece [PCE]  ...   \n",
       "1                   Piece [PCE]  ...   \n",
       "\n",
       "                               UI Description             Galenical form  \\\n",
       "0  REDOXON Orange 1000 mg Effervescent Tablet  Solid|Tablet|Effervescent   \n",
       "1         REDOXON 2000 mg Effervescent Tablet  Solid|Tablet|Effervescent   \n",
       "\n",
       "  Volume 4 Volume 3 Volume 2  Primary Pack Type (Page Three).1  \\\n",
       "0      85      164      197                         Tube Rigid   \n",
       "1     184      246      251                         Tube Rigid   \n",
       "\n",
       "  FG Pack Size (Page Three).1 FG Pack Size UoM (Page Three).1 Low performer  \\\n",
       "0                        10.0                     Piece [PCE]           NaN   \n",
       "1                        10.0                     Piece [PCE]           NaN   \n",
       "\n",
       "            Galenical form.1  \n",
       "0  Solid|Tablet|Effervescent  \n",
       "1  Solid|Tablet|Effervescent  \n",
       "\n",
       "[2 rows x 26 columns]"
      ]
     },
     "execution_count": 12,
     "metadata": {},
     "output_type": "execute_result"
    }
   ],
   "source": [
    "bayer_df.head(2)"
   ]
  },
  {
   "cell_type": "code",
   "execution_count": 28,
   "metadata": {},
   "outputs": [
    {
     "data": {
      "text/html": [
       "<div>\n",
       "<style scoped>\n",
       "    .dataframe tbody tr th:only-of-type {\n",
       "        vertical-align: middle;\n",
       "    }\n",
       "\n",
       "    .dataframe tbody tr th {\n",
       "        vertical-align: top;\n",
       "    }\n",
       "\n",
       "    .dataframe thead th {\n",
       "        text-align: right;\n",
       "    }\n",
       "</style>\n",
       "<table border=\"1\" class=\"dataframe\">\n",
       "  <thead>\n",
       "    <tr style=\"text-align: right;\">\n",
       "      <th></th>\n",
       "      <th>Number</th>\n",
       "      <th>Material Description (Name)</th>\n",
       "      <th>Number (Relationships.Formulation.Title Block)</th>\n",
       "      <th>SBU Category (Relationships.Formulation.Formulation Attributes)</th>\n",
       "      <th>Marketed Countries (Page Three)</th>\n",
       "      <th>Country lead cluster</th>\n",
       "      <th>Primary Pack Type (Page Three)</th>\n",
       "      <th>FG Pack Size (Page Three)</th>\n",
       "      <th>FG Pack Size UoM (Page Three)</th>\n",
       "      <th>SBU Category</th>\n",
       "      <th>Brand</th>\n",
       "      <th>UI</th>\n",
       "      <th>UI Description</th>\n",
       "      <th>Galenical form</th>\n",
       "      <th>Volume 4</th>\n",
       "      <th>Volume 3</th>\n",
       "      <th>Volume 2</th>\n",
       "      <th>Primary Pack Type (Page Three).1</th>\n",
       "      <th>FG Pack Size (Page Three).1</th>\n",
       "      <th>FG Pack Size UoM (Page Three).1</th>\n",
       "    </tr>\n",
       "  </thead>\n",
       "  <tbody>\n",
       "    <tr>\n",
       "      <th>0</th>\n",
       "      <td>10056107</td>\n",
       "      <td>REDOXON NA ef x10 BO/PY/UY</td>\n",
       "      <td>1600106</td>\n",
       "      <td>Nutritionals</td>\n",
       "      <td>Bolivia [BO];Uruguay [UY]</td>\n",
       "      <td>Other Conosur</td>\n",
       "      <td>Tube Rigid</td>\n",
       "      <td>10.0</td>\n",
       "      <td>Piece [PCE]</td>\n",
       "      <td>Nutritionals</td>\n",
       "      <td>REDOXON</td>\n",
       "      <td>1600106</td>\n",
       "      <td>REDOXON Orange 1000 mg Effervescent Tablet</td>\n",
       "      <td>Solid|Tablet|Effervescent</td>\n",
       "      <td>85</td>\n",
       "      <td>164</td>\n",
       "      <td>197</td>\n",
       "      <td>Tube Rigid</td>\n",
       "      <td>10.0</td>\n",
       "      <td>Piece [PCE]</td>\n",
       "    </tr>\n",
       "    <tr>\n",
       "      <th>1</th>\n",
       "      <td>10056110</td>\n",
       "      <td>REDOXON LI ef x10 AR/BO/PY</td>\n",
       "      <td>1600105</td>\n",
       "      <td>Nutritionals</td>\n",
       "      <td>Argentina [AR];Bolivia [BO];Paraguay [PY]</td>\n",
       "      <td>Argentina</td>\n",
       "      <td>Tube Rigid</td>\n",
       "      <td>10.0</td>\n",
       "      <td>Piece [PCE]</td>\n",
       "      <td>Nutritionals</td>\n",
       "      <td>REDOXON</td>\n",
       "      <td>1600105</td>\n",
       "      <td>REDOXON 2000 mg Effervescent Tablet</td>\n",
       "      <td>Solid|Tablet|Effervescent</td>\n",
       "      <td>184</td>\n",
       "      <td>246</td>\n",
       "      <td>251</td>\n",
       "      <td>Tube Rigid</td>\n",
       "      <td>10.0</td>\n",
       "      <td>Piece [PCE]</td>\n",
       "    </tr>\n",
       "  </tbody>\n",
       "</table>\n",
       "</div>"
      ],
      "text/plain": [
       "     Number Material Description (Name)  \\\n",
       "0  10056107  REDOXON NA ef x10 BO/PY/UY   \n",
       "1  10056110  REDOXON LI ef x10 AR/BO/PY   \n",
       "\n",
       "   Number (Relationships.Formulation.Title Block)  \\\n",
       "0                                         1600106   \n",
       "1                                         1600105   \n",
       "\n",
       "  SBU Category (Relationships.Formulation.Formulation Attributes)  \\\n",
       "0                                       Nutritionals                \n",
       "1                                       Nutritionals                \n",
       "\n",
       "             Marketed Countries (Page Three) Country lead cluster  \\\n",
       "0                  Bolivia [BO];Uruguay [UY]        Other Conosur   \n",
       "1  Argentina [AR];Bolivia [BO];Paraguay [PY]            Argentina   \n",
       "\n",
       "  Primary Pack Type (Page Three)  FG Pack Size (Page Three)  \\\n",
       "0                     Tube Rigid                       10.0   \n",
       "1                     Tube Rigid                       10.0   \n",
       "\n",
       "  FG Pack Size UoM (Page Three)  SBU Category    Brand       UI  \\\n",
       "0                   Piece [PCE]  Nutritionals  REDOXON  1600106   \n",
       "1                   Piece [PCE]  Nutritionals  REDOXON  1600105   \n",
       "\n",
       "                               UI Description             Galenical form  \\\n",
       "0  REDOXON Orange 1000 mg Effervescent Tablet  Solid|Tablet|Effervescent   \n",
       "1         REDOXON 2000 mg Effervescent Tablet  Solid|Tablet|Effervescent   \n",
       "\n",
       "  Volume 4 Volume 3 Volume 2 Primary Pack Type (Page Three).1  \\\n",
       "0      85      164      197                        Tube Rigid   \n",
       "1     184      246      251                        Tube Rigid   \n",
       "\n",
       "   FG Pack Size (Page Three).1 FG Pack Size UoM (Page Three).1  \n",
       "0                         10.0                     Piece [PCE]  \n",
       "1                         10.0                     Piece [PCE]  "
      ]
     },
     "execution_count": 28,
     "metadata": {},
     "output_type": "execute_result"
    }
   ],
   "source": [
    "#bayer_df.drop(columns=['Galenical form.1'],inplace=True)\n",
    "bayer_df.head(2)"
   ]
  },
  {
   "cell_type": "code",
   "execution_count": 29,
   "metadata": {},
   "outputs": [
    {
     "data": {
      "text/plain": [
       "Index(['Number', 'Material Description (Name)',\n",
       "       'Number (Relationships.Formulation.Title Block)',\n",
       "       'SBU Category (Relationships.Formulation.Formulation Attributes)',\n",
       "       'Marketed Countries (Page Three)', 'Country lead cluster',\n",
       "       'Primary Pack Type (Page Three)', 'FG Pack Size (Page Three)',\n",
       "       'FG Pack Size UoM (Page Three)', 'SBU Category', 'Brand', 'UI',\n",
       "       'UI Description', 'Galenical form', 'Volume 4', 'Volume 3', 'Volume 2',\n",
       "       'Primary Pack Type (Page Three).1', 'FG Pack Size (Page Three).1',\n",
       "       'FG Pack Size UoM (Page Three).1'],\n",
       "      dtype='object')"
      ]
     },
     "execution_count": 29,
     "metadata": {},
     "output_type": "execute_result"
    }
   ],
   "source": [
    "bayer_df.columns"
   ]
  },
  {
   "cell_type": "code",
   "execution_count": 30,
   "metadata": {},
   "outputs": [
    {
     "data": {
      "text/plain": [
       "(657, 20)"
      ]
     },
     "execution_count": 30,
     "metadata": {},
     "output_type": "execute_result"
    }
   ],
   "source": [
    "bayer_df.shape"
   ]
  },
  {
   "cell_type": "code",
   "execution_count": 31,
   "metadata": {},
   "outputs": [
    {
     "data": {
      "text/html": [
       "<div>\n",
       "<style scoped>\n",
       "    .dataframe tbody tr th:only-of-type {\n",
       "        vertical-align: middle;\n",
       "    }\n",
       "\n",
       "    .dataframe tbody tr th {\n",
       "        vertical-align: top;\n",
       "    }\n",
       "\n",
       "    .dataframe thead th {\n",
       "        text-align: right;\n",
       "    }\n",
       "</style>\n",
       "<table border=\"1\" class=\"dataframe\">\n",
       "  <thead>\n",
       "    <tr style=\"text-align: right;\">\n",
       "      <th></th>\n",
       "      <th>Number</th>\n",
       "      <th>Number (Relationships.Formulation.Title Block)</th>\n",
       "      <th>FG Pack Size (Page Three)</th>\n",
       "      <th>UI</th>\n",
       "      <th>FG Pack Size (Page Three).1</th>\n",
       "    </tr>\n",
       "  </thead>\n",
       "  <tbody>\n",
       "    <tr>\n",
       "      <th>count</th>\n",
       "      <td>6.570000e+02</td>\n",
       "      <td>6.570000e+02</td>\n",
       "      <td>657.000000</td>\n",
       "      <td>6.570000e+02</td>\n",
       "      <td>657.000000</td>\n",
       "    </tr>\n",
       "    <tr>\n",
       "      <th>mean</th>\n",
       "      <td>7.925405e+07</td>\n",
       "      <td>1.606115e+06</td>\n",
       "      <td>51.327245</td>\n",
       "      <td>1.606083e+06</td>\n",
       "      <td>51.327245</td>\n",
       "    </tr>\n",
       "    <tr>\n",
       "      <th>std</th>\n",
       "      <td>2.247976e+07</td>\n",
       "      <td>6.167990e+03</td>\n",
       "      <td>119.034372</td>\n",
       "      <td>6.159247e+03</td>\n",
       "      <td>119.034372</td>\n",
       "    </tr>\n",
       "    <tr>\n",
       "      <th>min</th>\n",
       "      <td>4.410797e+06</td>\n",
       "      <td>1.600001e+06</td>\n",
       "      <td>1.000000</td>\n",
       "      <td>1.600001e+06</td>\n",
       "      <td>1.000000</td>\n",
       "    </tr>\n",
       "    <tr>\n",
       "      <th>25%</th>\n",
       "      <td>8.453937e+07</td>\n",
       "      <td>1.600133e+06</td>\n",
       "      <td>10.000000</td>\n",
       "      <td>1.600132e+06</td>\n",
       "      <td>10.000000</td>\n",
       "    </tr>\n",
       "    <tr>\n",
       "      <th>50%</th>\n",
       "      <td>8.690624e+07</td>\n",
       "      <td>1.601238e+06</td>\n",
       "      <td>24.000000</td>\n",
       "      <td>1.601236e+06</td>\n",
       "      <td>24.000000</td>\n",
       "    </tr>\n",
       "    <tr>\n",
       "      <th>75%</th>\n",
       "      <td>8.769056e+07</td>\n",
       "      <td>1.611945e+06</td>\n",
       "      <td>60.000000</td>\n",
       "      <td>1.611945e+06</td>\n",
       "      <td>60.000000</td>\n",
       "    </tr>\n",
       "    <tr>\n",
       "      <th>max</th>\n",
       "      <td>8.979245e+07</td>\n",
       "      <td>1.615412e+06</td>\n",
       "      <td>2400.000000</td>\n",
       "      <td>1.615412e+06</td>\n",
       "      <td>2400.000000</td>\n",
       "    </tr>\n",
       "  </tbody>\n",
       "</table>\n",
       "</div>"
      ],
      "text/plain": [
       "             Number  Number (Relationships.Formulation.Title Block)  \\\n",
       "count  6.570000e+02                                    6.570000e+02   \n",
       "mean   7.925405e+07                                    1.606115e+06   \n",
       "std    2.247976e+07                                    6.167990e+03   \n",
       "min    4.410797e+06                                    1.600001e+06   \n",
       "25%    8.453937e+07                                    1.600133e+06   \n",
       "50%    8.690624e+07                                    1.601238e+06   \n",
       "75%    8.769056e+07                                    1.611945e+06   \n",
       "max    8.979245e+07                                    1.615412e+06   \n",
       "\n",
       "       FG Pack Size (Page Three)            UI  FG Pack Size (Page Three).1  \n",
       "count                 657.000000  6.570000e+02                   657.000000  \n",
       "mean                   51.327245  1.606083e+06                    51.327245  \n",
       "std                   119.034372  6.159247e+03                   119.034372  \n",
       "min                     1.000000  1.600001e+06                     1.000000  \n",
       "25%                    10.000000  1.600132e+06                    10.000000  \n",
       "50%                    24.000000  1.601236e+06                    24.000000  \n",
       "75%                    60.000000  1.611945e+06                    60.000000  \n",
       "max                  2400.000000  1.615412e+06                  2400.000000  "
      ]
     },
     "execution_count": 31,
     "metadata": {},
     "output_type": "execute_result"
    }
   ],
   "source": [
    "bayer_df.describe()"
   ]
  },
  {
   "cell_type": "markdown",
   "metadata": {},
   "source": [
    "Al ser identificadores, y poco más no me es posible sacar mucha info de este data set de buenas a primeras simplemente con el .describe()"
   ]
  },
  {
   "cell_type": "code",
   "execution_count": 19,
   "metadata": {},
   "outputs": [],
   "source": [
    "from sklearn.datasets import load_iris\n",
    "import seaborn as sns\n",
    "import pandas as pd\n",
    "import numpy as np\n",
    "import matplotlib.pyplot as plt"
   ]
  },
  {
   "cell_type": "code",
   "execution_count": 21,
   "metadata": {},
   "outputs": [],
   "source": [
    "x= bayer_df['Brand']\n",
    "y= countries"
   ]
  },
  {
   "cell_type": "code",
   "execution_count": 22,
   "metadata": {},
   "outputs": [
    {
     "data": {
      "text/plain": [
       "Brand\n",
       "REDOXON              81\n",
       "ASPIRIN PAIN         58\n",
       "BEPANTHEN            43\n",
       "CANESTEN GYNE        40\n",
       "ALKA-SELTZER         38\n",
       "BEPANTHOL            36\n",
       "TABCIN               36\n",
       "MEXSANA              28\n",
       "ACTRON               26\n",
       "APRONAX              24\n",
       "SUPRADYN             22\n",
       "CANESTEN DERM        22\n",
       "ASPIRIN CARDIO       20\n",
       "FLANAX               18\n",
       "BEROCCA              17\n",
       "ALEVE                17\n",
       "AFRIN                15\n",
       "DESENFRIOL           13\n",
       "CLARITIN             11\n",
       "ALKA-SELTZER PLUS    10\n",
       "ACID MANTLE           8\n",
       "ASPIRIN PLUS C        7\n",
       "ELEVIT                6\n",
       "NATELE                6\n",
       "TALCID                6\n",
       "CELESTAMINE           5\n",
       "CLARITIN-D            4\n",
       "FOCUS                 4\n",
       "HYDRALIN              3\n",
       "MERTHIOLATE           3\n",
       "SARIDON               3\n",
       "BECOZYM               3\n",
       "RENNIE                2\n",
       "BENEXOL               2\n",
       "IBEROGAST             2\n",
       "CITRACAL              2\n",
       "AKTREN                2\n",
       "BAYCUTEN              2\n",
       "CORILIN               2\n",
       "BAYKID                2\n",
       "PROTOVIT              1\n",
       "CAL-C-VITA            1\n",
       "NERVINE               1\n",
       "ONE-A-DAY             1\n",
       "MADECASSOL OTC        1\n",
       "EPHYNAL               1\n",
       "LASONIL               1\n",
       "BILAXIL               1\n",
       "Name: count, dtype: int64"
      ]
     },
     "execution_count": 22,
     "metadata": {},
     "output_type": "execute_result"
    }
   ],
   "source": [
    "bayer_df['Brand'].value_counts()"
   ]
  },
  {
   "cell_type": "code",
   "execution_count": 23,
   "metadata": {},
   "outputs": [
    {
     "data": {
      "text/plain": [
       "UI Description\n",
       "BEPANTHEN 5 % Ointment                                   32\n",
       "ALKA SELTZER Effervescent Tablet                         23\n",
       "REDOXON Triple Action Effervescent Tablet                22\n",
       "ASPIRIN PAIN 500 mg Plain Tablet                         15\n",
       "FLANAX 550 mg Film-coated tablet (LAM)                   14\n",
       "                                                         ..\n",
       "AFRIN Paediatric Decongestant 0.025% Nasal Spray          1\n",
       "CANESTEN GYNE CanesOral 150 mg Hard Gelatine Capsules     1\n",
       "LASONIL 10% Gel                                           1\n",
       "ACTRON Mujer 400 mg Soft Gelatine Capsules                1\n",
       "DESENFRIOL Coated tablet                                  1\n",
       "Name: count, Length: 174, dtype: int64"
      ]
     },
     "execution_count": 23,
     "metadata": {},
     "output_type": "execute_result"
    }
   ],
   "source": [
    "bayer_df['UI Description'].value_counts()"
   ]
  },
  {
   "cell_type": "code",
   "execution_count": 24,
   "metadata": {},
   "outputs": [
    {
     "data": {
      "text/plain": [
       "Material Description (Name)\n",
       "Redoxon Infantil 100mg TACH BT 100 CEA      3\n",
       "Alka-Seltzer 750mg TSCH BT 36 CEA           3\n",
       "REDOXON INFANTIL TACH Mixed flavour MX      3\n",
       "REDOX INF 100TAB M-SAB NF MX                3\n",
       "AlkaSeltzer60T AlkaExtreme 4Sach Free CO    2\n",
       "                                           ..\n",
       "REDOXON DROS 20% FCO X 20ML EC              1\n",
       "ACTRON PEDIAT 4% BBL x100 AR/BO/PY          1\n",
       "ACTRONRA cap x10 CL                         1\n",
       "ELEVIT 30 TAB 2 PACK CLUBES MX              1\n",
       "Bepantol Baby WIPE POU 6x48  BR             1\n",
       "Name: count, Length: 641, dtype: int64"
      ]
     },
     "execution_count": 24,
     "metadata": {},
     "output_type": "execute_result"
    }
   ],
   "source": [
    "bayer_df['Material Description (Name)'].value_counts()"
   ]
  },
  {
   "cell_type": "markdown",
   "metadata": {},
   "source": [
    "Originalmente sí que han habido valores nulos, pero se encontraban en tres de las columnas que he borrado."
   ]
  },
  {
   "cell_type": "code",
   "execution_count": 32,
   "metadata": {},
   "outputs": [
    {
     "data": {
      "text/plain": [
       "Number                                                             0\n",
       "Material Description (Name)                                        0\n",
       "Number (Relationships.Formulation.Title Block)                     0\n",
       "SBU Category (Relationships.Formulation.Formulation Attributes)    0\n",
       "Marketed Countries (Page Three)                                    0\n",
       "Country lead cluster                                               0\n",
       "Primary Pack Type (Page Three)                                     0\n",
       "FG Pack Size (Page Three)                                          0\n",
       "FG Pack Size UoM (Page Three)                                      0\n",
       "SBU Category                                                       0\n",
       "Brand                                                              0\n",
       "UI                                                                 0\n",
       "UI Description                                                     0\n",
       "Galenical form                                                     0\n",
       "Volume 4                                                           0\n",
       "Volume 3                                                           0\n",
       "Volume 2                                                           0\n",
       "Primary Pack Type (Page Three).1                                   0\n",
       "FG Pack Size (Page Three).1                                        0\n",
       "FG Pack Size UoM (Page Three).1                                    0\n",
       "dtype: int64"
      ]
     },
     "execution_count": 32,
     "metadata": {},
     "output_type": "execute_result"
    }
   ],
   "source": [
    "bayer_df.isnull().sum()"
   ]
  },
  {
   "cell_type": "markdown",
   "metadata": {},
   "source": [
    "Continuamos, esta vez limpiando los caracteresque sobren con .replace y conexpresiones regulares"
   ]
  },
  {
   "cell_type": "code",
   "execution_count": 77,
   "metadata": {},
   "outputs": [],
   "source": [
    "import re\n",
    "\n",
    "# de nuevoremover comas y espacios en las columnas\n",
    "bayer_df['Volume 2'] = bayer_df['Volume 2'].str.replace(',', '').str.strip()\n",
    "bayer_df['Volume 3'] = bayer_df['Volume 3'].str.replace(',', '').str.strip()\n",
    "bayer_df['Volume 4'] = bayer_df['Volume 4'].str.replace(',', '').str.strip()\n",
    "\n",
    "#expresiones regulares para extraer los números entre paréntesis\n",
    "bayer_df['Volume 2'] = bayer_df['Volume 2'].str.extract(r'(\\d+)').astype(float)\n",
    "bayer_df['Volume 3'] = bayer_df['Volume 3'].str.extract(r'(\\d+)').astype(float)\n",
    "bayer_df['Volume 4'] = bayer_df['Volume 4'].str.extract(r'(\\d+)').astype(float)\n"
   ]
  },
  {
   "cell_type": "code",
   "execution_count": 78,
   "metadata": {},
   "outputs": [
    {
     "data": {
      "text/html": [
       "<div>\n",
       "<style scoped>\n",
       "    .dataframe tbody tr th:only-of-type {\n",
       "        vertical-align: middle;\n",
       "    }\n",
       "\n",
       "    .dataframe tbody tr th {\n",
       "        vertical-align: top;\n",
       "    }\n",
       "\n",
       "    .dataframe thead th {\n",
       "        text-align: right;\n",
       "    }\n",
       "</style>\n",
       "<table border=\"1\" class=\"dataframe\">\n",
       "  <thead>\n",
       "    <tr style=\"text-align: right;\">\n",
       "      <th></th>\n",
       "      <th>Volume 2</th>\n",
       "      <th>Volume 3</th>\n",
       "      <th>Volume 4</th>\n",
       "    </tr>\n",
       "  </thead>\n",
       "  <tbody>\n",
       "    <tr>\n",
       "      <th>Volume 2</th>\n",
       "      <td>1.000000</td>\n",
       "      <td>0.933485</td>\n",
       "      <td>0.244875</td>\n",
       "    </tr>\n",
       "    <tr>\n",
       "      <th>Volume 3</th>\n",
       "      <td>0.933485</td>\n",
       "      <td>1.000000</td>\n",
       "      <td>0.224363</td>\n",
       "    </tr>\n",
       "    <tr>\n",
       "      <th>Volume 4</th>\n",
       "      <td>0.244875</td>\n",
       "      <td>0.224363</td>\n",
       "      <td>1.000000</td>\n",
       "    </tr>\n",
       "  </tbody>\n",
       "</table>\n",
       "</div>"
      ],
      "text/plain": [
       "          Volume 2  Volume 3  Volume 4\n",
       "Volume 2  1.000000  0.933485  0.244875\n",
       "Volume 3  0.933485  1.000000  0.224363\n",
       "Volume 4  0.244875  0.224363  1.000000"
      ]
     },
     "execution_count": 78,
     "metadata": {},
     "output_type": "execute_result"
    }
   ],
   "source": [
    "corr_matrix= bayer_df[['Volume 2', 'Volume 3', 'Volume 4']].corr()\n",
    "#Hay mucha corrrelación entre volume 2 y volume 3, pero es lo único.  \n",
    "corr_matrix\n",
    "\n"
   ]
  },
  {
   "cell_type": "code",
   "execution_count": null,
   "metadata": {},
   "outputs": [
    {
     "data": {
      "image/png": "[encoded data removed]",
      "text/plain": [
       "<Figure size 640x480 with 2 Axes>"
      ]
     },
     "metadata": {},
     "output_type": "display_data"
    }
   ],
   "source": [
    "sns.heatmap(corr_matrix, cmap=\"seismic\", annot=True) #vmin=-1, vmax=1\n",
    "plt.show()\n",
    "#me creo un mapa de calor para ver las relaciones entre las variables\n",
    "#entre volumen 2 y 3 la correlación es alta, como vimos antes.\n",
    "#Entre vol 3 y 4 la corr es bajísima. Siendo que es Volumen 4 es la continuación del tres en cuanto a volumen de ventas, pareciera que que va en decrecimiento.\n"
   ]
  },
  {
   "cell_type": "markdown",
   "metadata": {},
   "source": [
    "Ahora  vamos a sacar promedios para esos volúmenes"
   ]
  },
  {
   "cell_type": "code",
   "execution_count": null,
   "metadata": {},
   "outputs": [],
   "source": [
    "# Promedio de Volume 2 por país\n",
    "volume2_country = bayer_df.groupby('Marketed Countries (Page Three)')['Volume 2'].mean()\n",
    "\n",
    "# Promedio de Volume 2 por producto\n",
    "volume2_product = bayer_df.groupby('Material Description (Name)')['Volume 2'].mean()\n"
   ]
  },
  {
   "cell_type": "code",
   "execution_count": null,
   "metadata": {},
   "outputs": [
    {
     "data": {
      "text/plain": [
       "Marketed Countries (Page Three)\n",
       "Antigua and Barbuda [AG];Aruba [AW];Bahamas [BS];Barbados [BB];Cayman Islands [KY];Curaçao [CW];Jamaica [JM];Sint Maarten [SX];Trinidad and Tobago [TT]       9.000000\n",
       "Argentina [AR]                                                                                                                                              431.859649\n",
       "Argentina [AR];Bolivia [BO];Paraguay [PY]                                                                                                                   677.000000\n",
       "Argentina [AR];Paraguay [PY]                                                                                                                                352.500000\n",
       "Argentina [AR];Uruguay [UY]                                                                                                                                4074.000000\n",
       "                                                                                                                                                              ...     \n",
       "Paraguay [PY];Bolivia [BO];Argentina [AR]                                                                                                                    44.000000\n",
       "Peru [PE]                                                                                                                                                   105.740741\n",
       "Uruguay [UY]                                                                                                                                                 47.312500\n",
       "Uruguay [UY];Argentina [AR]                                                                                                                                  66.500000\n",
       "Venezuela [VE];Costa Rica [CR];Dom. Rep.[DO];El Salvador [SV];Guatemala [GT];Honduras [HN];Nicaragua [NI];Panama [PA]                                        15.000000\n",
       "Name: Volume 2, Length: 76, dtype: float64"
      ]
     },
     "execution_count": 32,
     "metadata": {},
     "output_type": "execute_result"
    }
   ],
   "source": [
    "volume2_country"
   ]
  },
  {
   "cell_type": "code",
   "execution_count": null,
   "metadata": {},
   "outputs": [
    {
     "data": {
      "text/plain": [
       "Material Description (Name)\n",
       "ACID MANTLE  LOCION X120ML CO               163.0\n",
       "ACID MANTLE CREMA X60 GR CO                  27.0\n",
       "ACID MANTLE LOCION X400ML CO                 16.0\n",
       "ACID MANTLE SOAP X90GR N.I. CO              304.0\n",
       "ACID MANTLE X120ML x 2 UND P.ESPECIAL CO    111.0\n",
       "                                            ...  \n",
       "Tabcin Pods Night CAPS BLI 12 CEA            69.0\n",
       "Tabcin Pods Night CAPS BLI 60 CEA           132.0\n",
       "Tabcin Pods Noche CAPS BLI 4 MX               0.0\n",
       "Tabcin Pods Phlegm&Cong CAPS  BLI 12 CEA      0.0\n",
       "Tabcin Pods Phlegm&Cong CAPS BLI 60 CEA       0.0\n",
       "Name: Volume 2, Length: 641, dtype: float64"
      ]
     },
     "execution_count": 33,
     "metadata": {},
     "output_type": "execute_result"
    }
   ],
   "source": [
    "volume2_product"
   ]
  },
  {
   "cell_type": "code",
   "execution_count": null,
   "metadata": {},
   "outputs": [],
   "source": [
    "# Promedio de Volume 4 por país\n",
    "volume4_country = bayer_df.groupby('Marketed Countries (Page Three)')['Volume 2'].mean()\n",
    "\n",
    "# Promedio de Volume 4 por producto\n",
    "volume4_product = bayer_df.groupby('Material Description (Name)')['Volume 2'].mean()\n"
   ]
  },
  {
   "cell_type": "code",
   "execution_count": null,
   "metadata": {},
   "outputs": [
    {
     "data": {
      "text/plain": [
       "Marketed Countries (Page Three)\n",
       "Antigua and Barbuda [AG];Aruba [AW];Bahamas [BS];Barbados [BB];Cayman Islands [KY];Curaçao [CW];Jamaica [JM];Sint Maarten [SX];Trinidad and Tobago [TT]       9.000000\n",
       "Argentina [AR]                                                                                                                                              431.859649\n",
       "Argentina [AR];Bolivia [BO];Paraguay [PY]                                                                                                                   677.000000\n",
       "Argentina [AR];Paraguay [PY]                                                                                                                                352.500000\n",
       "Argentina [AR];Uruguay [UY]                                                                                                                                4074.000000\n",
       "                                                                                                                                                              ...     \n",
       "Paraguay [PY];Bolivia [BO];Argentina [AR]                                                                                                                    44.000000\n",
       "Peru [PE]                                                                                                                                                   105.740741\n",
       "Uruguay [UY]                                                                                                                                                 47.312500\n",
       "Uruguay [UY];Argentina [AR]                                                                                                                                  66.500000\n",
       "Venezuela [VE];Costa Rica [CR];Dom. Rep.[DO];El Salvador [SV];Guatemala [GT];Honduras [HN];Nicaragua [NI];Panama [PA]                                        15.000000\n",
       "Name: Volume 2, Length: 76, dtype: float64"
      ]
     },
     "execution_count": 31,
     "metadata": {},
     "output_type": "execute_result"
    }
   ],
   "source": [
    "volume4_country\n"
   ]
  },
  {
   "cell_type": "code",
   "execution_count": null,
   "metadata": {},
   "outputs": [
    {
     "data": {
      "text/plain": [
       "Material Description (Name)\n",
       "ACID MANTLE  LOCION X120ML CO               163.0\n",
       "ACID MANTLE CREMA X60 GR CO                  27.0\n",
       "ACID MANTLE LOCION X400ML CO                 16.0\n",
       "ACID MANTLE SOAP X90GR N.I. CO              304.0\n",
       "ACID MANTLE X120ML x 2 UND P.ESPECIAL CO    111.0\n",
       "                                            ...  \n",
       "Tabcin Pods Night CAPS BLI 12 CEA            69.0\n",
       "Tabcin Pods Night CAPS BLI 60 CEA           132.0\n",
       "Tabcin Pods Noche CAPS BLI 4 MX               0.0\n",
       "Tabcin Pods Phlegm&Cong CAPS  BLI 12 CEA      0.0\n",
       "Tabcin Pods Phlegm&Cong CAPS BLI 60 CEA       0.0\n",
       "Name: Volume 2, Length: 641, dtype: float64"
      ]
     },
     "execution_count": 34,
     "metadata": {},
     "output_type": "execute_result"
    }
   ],
   "source": [
    "volume4_product"
   ]
  },
  {
   "cell_type": "code",
   "execution_count": null,
   "metadata": {},
   "outputs": [],
   "source": [
    "# Promedio de Volume 3por país\n",
    "volume3_country = bayer_df.groupby('Marketed Countries (Page Three)')['Volume 2'].mean()\n",
    "\n",
    "# Promedio de Volume 3 por producto\n",
    "volume3_product = bayer_df.groupby('Material Description (Name)')['Volume 2'].mean()\n"
   ]
  },
  {
   "cell_type": "code",
   "execution_count": null,
   "metadata": {},
   "outputs": [
    {
     "data": {
      "text/plain": [
       "Marketed Countries (Page Three)\n",
       "Antigua and Barbuda [AG];Aruba [AW];Bahamas [BS];Barbados [BB];Cayman Islands [KY];Curaçao [CW];Jamaica [JM];Sint Maarten [SX];Trinidad and Tobago [TT]       9.000000\n",
       "Argentina [AR]                                                                                                                                              431.859649\n",
       "Argentina [AR];Bolivia [BO];Paraguay [PY]                                                                                                                   677.000000\n",
       "Argentina [AR];Paraguay [PY]                                                                                                                                352.500000\n",
       "Argentina [AR];Uruguay [UY]                                                                                                                                4074.000000\n",
       "                                                                                                                                                              ...     \n",
       "Paraguay [PY];Bolivia [BO];Argentina [AR]                                                                                                                    44.000000\n",
       "Peru [PE]                                                                                                                                                   105.740741\n",
       "Uruguay [UY]                                                                                                                                                 47.312500\n",
       "Uruguay [UY];Argentina [AR]                                                                                                                                  66.500000\n",
       "Venezuela [VE];Costa Rica [CR];Dom. Rep.[DO];El Salvador [SV];Guatemala [GT];Honduras [HN];Nicaragua [NI];Panama [PA]                                        15.000000\n",
       "Name: Volume 2, Length: 76, dtype: float64"
      ]
     },
     "execution_count": 39,
     "metadata": {},
     "output_type": "execute_result"
    }
   ],
   "source": [
    "volume3_country"
   ]
  },
  {
   "cell_type": "code",
   "execution_count": null,
   "metadata": {},
   "outputs": [
    {
     "data": {
      "text/plain": [
       "Material Description (Name)\n",
       "ACID MANTLE  LOCION X120ML CO               163.0\n",
       "ACID MANTLE CREMA X60 GR CO                  27.0\n",
       "ACID MANTLE LOCION X400ML CO                 16.0\n",
       "ACID MANTLE SOAP X90GR N.I. CO              304.0\n",
       "ACID MANTLE X120ML x 2 UND P.ESPECIAL CO    111.0\n",
       "                                            ...  \n",
       "Tabcin Pods Night CAPS BLI 12 CEA            69.0\n",
       "Tabcin Pods Night CAPS BLI 60 CEA           132.0\n",
       "Tabcin Pods Noche CAPS BLI 4 MX               0.0\n",
       "Tabcin Pods Phlegm&Cong CAPS  BLI 12 CEA      0.0\n",
       "Tabcin Pods Phlegm&Cong CAPS BLI 60 CEA       0.0\n",
       "Name: Volume 2, Length: 641, dtype: float64"
      ]
     },
     "execution_count": 40,
     "metadata": {},
     "output_type": "execute_result"
    }
   ],
   "source": [
    "volume3_product"
   ]
  },
  {
   "cell_type": "code",
   "execution_count": null,
   "metadata": {},
   "outputs": [],
   "source": [
    "#Ahora cvamosa traernos ese dataframe 'countries', \n",
    "#que contiene valores binariospara saber si unproducto tiene presencia \n",
    "# en un país. Ahora tendré más columnas."
   ]
  },
  {
   "cell_type": "code",
   "execution_count": null,
   "metadata": {},
   "outputs": [
    {
     "data": {
      "text/html": [
       "<div>\n",
       "<style scoped>\n",
       "    .dataframe tbody tr th:only-of-type {\n",
       "        vertical-align: middle;\n",
       "    }\n",
       "\n",
       "    .dataframe tbody tr th {\n",
       "        vertical-align: top;\n",
       "    }\n",
       "\n",
       "    .dataframe thead th {\n",
       "        text-align: right;\n",
       "    }\n",
       "</style>\n",
       "<table border=\"1\" class=\"dataframe\">\n",
       "  <thead>\n",
       "    <tr style=\"text-align: right;\">\n",
       "      <th></th>\n",
       "      <th>Antigua and Barbuda [AG]</th>\n",
       "      <th>Argentina [AR]</th>\n",
       "      <th>Aruba [AW]</th>\n",
       "      <th>Bahamas [BS]</th>\n",
       "      <th>Barbados [BB]</th>\n",
       "      <th>Belize [BZ]</th>\n",
       "      <th>Bermuda [BM]</th>\n",
       "      <th>Bolivia [BO]</th>\n",
       "      <th>Brazil [BR]</th>\n",
       "      <th>Cayman Islands [KY]</th>\n",
       "      <th>...</th>\n",
       "      <th>Nicaragua [NI]</th>\n",
       "      <th>Panama [PA]</th>\n",
       "      <th>Paraguay [PY]</th>\n",
       "      <th>Peru [PE]</th>\n",
       "      <th>Saint Lucia [LC]</th>\n",
       "      <th>Sint Maarten [SX]</th>\n",
       "      <th>Suriname [SR]</th>\n",
       "      <th>Trinidad and Tobago [TT]</th>\n",
       "      <th>Uruguay [UY]</th>\n",
       "      <th>Venezuela [VE]</th>\n",
       "    </tr>\n",
       "  </thead>\n",
       "  <tbody>\n",
       "    <tr>\n",
       "      <th>0</th>\n",
       "      <td>0</td>\n",
       "      <td>0</td>\n",
       "      <td>0</td>\n",
       "      <td>0</td>\n",
       "      <td>0</td>\n",
       "      <td>0</td>\n",
       "      <td>0</td>\n",
       "      <td>1</td>\n",
       "      <td>0</td>\n",
       "      <td>0</td>\n",
       "      <td>...</td>\n",
       "      <td>0</td>\n",
       "      <td>0</td>\n",
       "      <td>0</td>\n",
       "      <td>0</td>\n",
       "      <td>0</td>\n",
       "      <td>0</td>\n",
       "      <td>0</td>\n",
       "      <td>0</td>\n",
       "      <td>1</td>\n",
       "      <td>0</td>\n",
       "    </tr>\n",
       "    <tr>\n",
       "      <th>1</th>\n",
       "      <td>0</td>\n",
       "      <td>1</td>\n",
       "      <td>0</td>\n",
       "      <td>0</td>\n",
       "      <td>0</td>\n",
       "      <td>0</td>\n",
       "      <td>0</td>\n",
       "      <td>1</td>\n",
       "      <td>0</td>\n",
       "      <td>0</td>\n",
       "      <td>...</td>\n",
       "      <td>0</td>\n",
       "      <td>0</td>\n",
       "      <td>1</td>\n",
       "      <td>0</td>\n",
       "      <td>0</td>\n",
       "      <td>0</td>\n",
       "      <td>0</td>\n",
       "      <td>0</td>\n",
       "      <td>0</td>\n",
       "      <td>0</td>\n",
       "    </tr>\n",
       "    <tr>\n",
       "      <th>2</th>\n",
       "      <td>0</td>\n",
       "      <td>0</td>\n",
       "      <td>0</td>\n",
       "      <td>0</td>\n",
       "      <td>0</td>\n",
       "      <td>0</td>\n",
       "      <td>0</td>\n",
       "      <td>0</td>\n",
       "      <td>0</td>\n",
       "      <td>0</td>\n",
       "      <td>...</td>\n",
       "      <td>0</td>\n",
       "      <td>0</td>\n",
       "      <td>0</td>\n",
       "      <td>0</td>\n",
       "      <td>0</td>\n",
       "      <td>0</td>\n",
       "      <td>0</td>\n",
       "      <td>0</td>\n",
       "      <td>0</td>\n",
       "      <td>0</td>\n",
       "    </tr>\n",
       "    <tr>\n",
       "      <th>3</th>\n",
       "      <td>0</td>\n",
       "      <td>0</td>\n",
       "      <td>0</td>\n",
       "      <td>0</td>\n",
       "      <td>0</td>\n",
       "      <td>0</td>\n",
       "      <td>0</td>\n",
       "      <td>0</td>\n",
       "      <td>0</td>\n",
       "      <td>0</td>\n",
       "      <td>...</td>\n",
       "      <td>0</td>\n",
       "      <td>0</td>\n",
       "      <td>0</td>\n",
       "      <td>0</td>\n",
       "      <td>0</td>\n",
       "      <td>0</td>\n",
       "      <td>0</td>\n",
       "      <td>0</td>\n",
       "      <td>0</td>\n",
       "      <td>0</td>\n",
       "    </tr>\n",
       "    <tr>\n",
       "      <th>4</th>\n",
       "      <td>0</td>\n",
       "      <td>0</td>\n",
       "      <td>0</td>\n",
       "      <td>0</td>\n",
       "      <td>0</td>\n",
       "      <td>0</td>\n",
       "      <td>0</td>\n",
       "      <td>0</td>\n",
       "      <td>0</td>\n",
       "      <td>0</td>\n",
       "      <td>...</td>\n",
       "      <td>0</td>\n",
       "      <td>0</td>\n",
       "      <td>0</td>\n",
       "      <td>1</td>\n",
       "      <td>0</td>\n",
       "      <td>0</td>\n",
       "      <td>0</td>\n",
       "      <td>0</td>\n",
       "      <td>0</td>\n",
       "      <td>0</td>\n",
       "    </tr>\n",
       "  </tbody>\n",
       "</table>\n",
       "<p>5 rows × 36 columns</p>\n",
       "</div>"
      ],
      "text/plain": [
       "   Antigua and Barbuda [AG]  Argentina [AR]  Aruba [AW]  Bahamas [BS]  \\\n",
       "0                         0               0           0             0   \n",
       "1                         0               1           0             0   \n",
       "2                         0               0           0             0   \n",
       "3                         0               0           0             0   \n",
       "4                         0               0           0             0   \n",
       "\n",
       "   Barbados [BB]  Belize [BZ]  Bermuda [BM]  Bolivia [BO]  Brazil [BR]  \\\n",
       "0              0            0             0             1            0   \n",
       "1              0            0             0             1            0   \n",
       "2              0            0             0             0            0   \n",
       "3              0            0             0             0            0   \n",
       "4              0            0             0             0            0   \n",
       "\n",
       "   Cayman Islands [KY]  ...  Nicaragua [NI]  Panama [PA]  Paraguay [PY]  \\\n",
       "0                    0  ...               0            0              0   \n",
       "1                    0  ...               0            0              1   \n",
       "2                    0  ...               0            0              0   \n",
       "3                    0  ...               0            0              0   \n",
       "4                    0  ...               0            0              0   \n",
       "\n",
       "   Peru [PE]  Saint Lucia [LC]  Sint Maarten [SX]  Suriname [SR]  \\\n",
       "0          0                 0                  0              0   \n",
       "1          0                 0                  0              0   \n",
       "2          0                 0                  0              0   \n",
       "3          0                 0                  0              0   \n",
       "4          1                 0                  0              0   \n",
       "\n",
       "   Trinidad and Tobago [TT]  Uruguay [UY]  Venezuela [VE]  \n",
       "0                         0             1               0  \n",
       "1                         0             0               0  \n",
       "2                         0             0               0  \n",
       "3                         0             0               0  \n",
       "4                         0             0               0  \n",
       "\n",
       "[5 rows x 36 columns]"
      ]
     },
     "execution_count": 180,
     "metadata": {},
     "output_type": "execute_result"
    }
   ],
   "source": [
    "countries.head()"
   ]
  },
  {
   "cell_type": "markdown",
   "metadata": {},
   "source": []
  },
  {
   "cell_type": "code",
   "execution_count": 45,
   "metadata": {},
   "outputs": [],
   "source": [
    "#oncateno los DataFrames a lo largo de las columnas (ejes)\n",
    "bayer_df_countries = pd.concat([bayer_df, countries], axis=1)"
   ]
  },
  {
   "cell_type": "code",
   "execution_count": 46,
   "metadata": {},
   "outputs": [
    {
     "data": {
      "text/plain": [
       "count    657.000000\n",
       "mean       0.007610\n",
       "std        0.086971\n",
       "min        0.000000\n",
       "25%        0.000000\n",
       "50%        0.000000\n",
       "75%        0.000000\n",
       "max        1.000000\n",
       "Name: Suriname [SR], dtype: float64"
      ]
     },
     "execution_count": 46,
     "metadata": {},
     "output_type": "execute_result"
    }
   ],
   "source": [
    "countries['Suriname [SR]'].describe()"
   ]
  },
  {
   "cell_type": "code",
   "execution_count": 47,
   "metadata": {},
   "outputs": [
    {
     "data": {
      "text/html": [
       "<div>\n",
       "<style scoped>\n",
       "    .dataframe tbody tr th:only-of-type {\n",
       "        vertical-align: middle;\n",
       "    }\n",
       "\n",
       "    .dataframe tbody tr th {\n",
       "        vertical-align: top;\n",
       "    }\n",
       "\n",
       "    .dataframe thead th {\n",
       "        text-align: right;\n",
       "    }\n",
       "</style>\n",
       "<table border=\"1\" class=\"dataframe\">\n",
       "  <thead>\n",
       "    <tr style=\"text-align: right;\">\n",
       "      <th></th>\n",
       "      <th>Number</th>\n",
       "      <th>Material Description (Name)</th>\n",
       "      <th>Number (Relationships.Formulation.Title Block)</th>\n",
       "      <th>SBU Category (Relationships.Formulation.Formulation Attributes)</th>\n",
       "      <th>Marketed Countries (Page Three)</th>\n",
       "      <th>Country lead cluster</th>\n",
       "      <th>Primary Pack Type (Page Three)</th>\n",
       "      <th>FG Pack Size (Page Three)</th>\n",
       "      <th>FG Pack Size UoM (Page Three)</th>\n",
       "      <th>SBU Category</th>\n",
       "      <th>...</th>\n",
       "      <th>Nicaragua [NI]</th>\n",
       "      <th>Panama [PA]</th>\n",
       "      <th>Paraguay [PY]</th>\n",
       "      <th>Peru [PE]</th>\n",
       "      <th>Saint Lucia [LC]</th>\n",
       "      <th>Sint Maarten [SX]</th>\n",
       "      <th>Suriname [SR]</th>\n",
       "      <th>Trinidad and Tobago [TT]</th>\n",
       "      <th>Uruguay [UY]</th>\n",
       "      <th>Venezuela [VE]</th>\n",
       "    </tr>\n",
       "  </thead>\n",
       "  <tbody>\n",
       "    <tr>\n",
       "      <th>410</th>\n",
       "      <td>87481166</td>\n",
       "      <td>Natele Stage 2 DHA CAPS BLI 28 CEA</td>\n",
       "      <td>1614566</td>\n",
       "      <td>Nutritionals</td>\n",
       "      <td>El Salvador [SV];Barbados [BB];Dom. Rep.[DO];B...</td>\n",
       "      <td>Centro / Caribe</td>\n",
       "      <td>Blister</td>\n",
       "      <td>28.0</td>\n",
       "      <td>Piece [PCE]</td>\n",
       "      <td>Nutritionals</td>\n",
       "      <td>...</td>\n",
       "      <td>1</td>\n",
       "      <td>1</td>\n",
       "      <td>0</td>\n",
       "      <td>0</td>\n",
       "      <td>1</td>\n",
       "      <td>1</td>\n",
       "      <td>1</td>\n",
       "      <td>1</td>\n",
       "      <td>0</td>\n",
       "      <td>0</td>\n",
       "    </tr>\n",
       "    <tr>\n",
       "      <th>530</th>\n",
       "      <td>88406176</td>\n",
       "      <td>Redoxon Infantil 100mg TACH BT 100 CEA</td>\n",
       "      <td>1600038</td>\n",
       "      <td>Nutritionals</td>\n",
       "      <td>El Salvador [SV];Barbados [BB];Dom. Rep.[DO];B...</td>\n",
       "      <td>Centro / Caribe</td>\n",
       "      <td>Bottle</td>\n",
       "      <td>100.0</td>\n",
       "      <td>Piece [PCE]</td>\n",
       "      <td>Nutritionals</td>\n",
       "      <td>...</td>\n",
       "      <td>1</td>\n",
       "      <td>0</td>\n",
       "      <td>0</td>\n",
       "      <td>0</td>\n",
       "      <td>1</td>\n",
       "      <td>1</td>\n",
       "      <td>1</td>\n",
       "      <td>1</td>\n",
       "      <td>0</td>\n",
       "      <td>0</td>\n",
       "    </tr>\n",
       "    <tr>\n",
       "      <th>531</th>\n",
       "      <td>88406176</td>\n",
       "      <td>Redoxon Infantil 100mg TACH BT 100 CEA</td>\n",
       "      <td>1600037</td>\n",
       "      <td>Nutritionals</td>\n",
       "      <td>El Salvador [SV];Barbados [BB];Dom. Rep.[DO];B...</td>\n",
       "      <td>Centro / Caribe</td>\n",
       "      <td>Bottle</td>\n",
       "      <td>100.0</td>\n",
       "      <td>Piece [PCE]</td>\n",
       "      <td>Nutritionals</td>\n",
       "      <td>...</td>\n",
       "      <td>1</td>\n",
       "      <td>0</td>\n",
       "      <td>0</td>\n",
       "      <td>0</td>\n",
       "      <td>1</td>\n",
       "      <td>1</td>\n",
       "      <td>1</td>\n",
       "      <td>1</td>\n",
       "      <td>0</td>\n",
       "      <td>0</td>\n",
       "    </tr>\n",
       "    <tr>\n",
       "      <th>532</th>\n",
       "      <td>88406176</td>\n",
       "      <td>Redoxon Infantil 100mg TACH BT 100 CEA</td>\n",
       "      <td>1600036</td>\n",
       "      <td>Nutritionals</td>\n",
       "      <td>El Salvador [SV];Barbados [BB];Dom. Rep.[DO];B...</td>\n",
       "      <td>Centro / Caribe</td>\n",
       "      <td>Bottle</td>\n",
       "      <td>100.0</td>\n",
       "      <td>Piece [PCE]</td>\n",
       "      <td>Nutritionals</td>\n",
       "      <td>...</td>\n",
       "      <td>1</td>\n",
       "      <td>0</td>\n",
       "      <td>0</td>\n",
       "      <td>0</td>\n",
       "      <td>1</td>\n",
       "      <td>1</td>\n",
       "      <td>1</td>\n",
       "      <td>1</td>\n",
       "      <td>0</td>\n",
       "      <td>0</td>\n",
       "    </tr>\n",
       "    <tr>\n",
       "      <th>641</th>\n",
       "      <td>88825705</td>\n",
       "      <td>Canesten Vaginal 200mg CAPS BLI 3 CEA</td>\n",
       "      <td>1601243</td>\n",
       "      <td>Dermatology</td>\n",
       "      <td>Bahamas [BS];Barbados [BB];Belize [BZ];Costa R...</td>\n",
       "      <td>Centro / Caribe</td>\n",
       "      <td>Blister</td>\n",
       "      <td>3.0</td>\n",
       "      <td>Piece [PCE]</td>\n",
       "      <td>Dermatology</td>\n",
       "      <td>...</td>\n",
       "      <td>1</td>\n",
       "      <td>1</td>\n",
       "      <td>0</td>\n",
       "      <td>0</td>\n",
       "      <td>0</td>\n",
       "      <td>0</td>\n",
       "      <td>1</td>\n",
       "      <td>1</td>\n",
       "      <td>0</td>\n",
       "      <td>0</td>\n",
       "    </tr>\n",
       "  </tbody>\n",
       "</table>\n",
       "<p>5 rows × 56 columns</p>\n",
       "</div>"
      ],
      "text/plain": [
       "       Number             Material Description (Name)  \\\n",
       "410  87481166      Natele Stage 2 DHA CAPS BLI 28 CEA   \n",
       "530  88406176  Redoxon Infantil 100mg TACH BT 100 CEA   \n",
       "531  88406176  Redoxon Infantil 100mg TACH BT 100 CEA   \n",
       "532  88406176  Redoxon Infantil 100mg TACH BT 100 CEA   \n",
       "641  88825705   Canesten Vaginal 200mg CAPS BLI 3 CEA   \n",
       "\n",
       "     Number (Relationships.Formulation.Title Block)  \\\n",
       "410                                         1614566   \n",
       "530                                         1600038   \n",
       "531                                         1600037   \n",
       "532                                         1600036   \n",
       "641                                         1601243   \n",
       "\n",
       "    SBU Category (Relationships.Formulation.Formulation Attributes)  \\\n",
       "410                                       Nutritionals                \n",
       "530                                       Nutritionals                \n",
       "531                                       Nutritionals                \n",
       "532                                       Nutritionals                \n",
       "641                                        Dermatology                \n",
       "\n",
       "                       Marketed Countries (Page Three) Country lead cluster  \\\n",
       "410  El Salvador [SV];Barbados [BB];Dom. Rep.[DO];B...      Centro / Caribe   \n",
       "530  El Salvador [SV];Barbados [BB];Dom. Rep.[DO];B...      Centro / Caribe   \n",
       "531  El Salvador [SV];Barbados [BB];Dom. Rep.[DO];B...      Centro / Caribe   \n",
       "532  El Salvador [SV];Barbados [BB];Dom. Rep.[DO];B...      Centro / Caribe   \n",
       "641  Bahamas [BS];Barbados [BB];Belize [BZ];Costa R...      Centro / Caribe   \n",
       "\n",
       "    Primary Pack Type (Page Three)  FG Pack Size (Page Three)  \\\n",
       "410                        Blister                       28.0   \n",
       "530                         Bottle                      100.0   \n",
       "531                         Bottle                      100.0   \n",
       "532                         Bottle                      100.0   \n",
       "641                        Blister                        3.0   \n",
       "\n",
       "    FG Pack Size UoM (Page Three)  SBU Category  ... Nicaragua [NI]  \\\n",
       "410                   Piece [PCE]  Nutritionals  ...              1   \n",
       "530                   Piece [PCE]  Nutritionals  ...              1   \n",
       "531                   Piece [PCE]  Nutritionals  ...              1   \n",
       "532                   Piece [PCE]  Nutritionals  ...              1   \n",
       "641                   Piece [PCE]   Dermatology  ...              1   \n",
       "\n",
       "     Panama [PA] Paraguay [PY] Peru [PE] Saint Lucia [LC] Sint Maarten [SX]  \\\n",
       "410            1             0         0                1                 1   \n",
       "530            0             0         0                1                 1   \n",
       "531            0             0         0                1                 1   \n",
       "532            0             0         0                1                 1   \n",
       "641            1             0         0                0                 0   \n",
       "\n",
       "    Suriname [SR] Trinidad and Tobago [TT]  Uruguay [UY] Venezuela [VE]  \n",
       "410             1                        1             0              0  \n",
       "530             1                        1             0              0  \n",
       "531             1                        1             0              0  \n",
       "532             1                        1             0              0  \n",
       "641             1                        1             0              0  \n",
       "\n",
       "[5 rows x 56 columns]"
      ]
     },
     "execution_count": 47,
     "metadata": {},
     "output_type": "execute_result"
    }
   ],
   "source": [
    "#vamos a fusilar a Suriname, pero antes, let's see cuántos productos dan true en su columna\n",
    "products_in_suriname = bayer_df_countries[bayer_df_countries[\"Suriname [SR]\"] == 1]\n",
    "products_in_suriname"
   ]
  },
  {
   "cell_type": "code",
   "execution_count": null,
   "metadata": {},
   "outputs": [
    {
     "data": {
      "text/html": [
       "<div>\n",
       "<style scoped>\n",
       "    .dataframe tbody tr th:only-of-type {\n",
       "        vertical-align: middle;\n",
       "    }\n",
       "\n",
       "    .dataframe tbody tr th {\n",
       "        vertical-align: top;\n",
       "    }\n",
       "\n",
       "    .dataframe thead th {\n",
       "        text-align: right;\n",
       "    }\n",
       "</style>\n",
       "<table border=\"1\" class=\"dataframe\">\n",
       "  <thead>\n",
       "    <tr style=\"text-align: right;\">\n",
       "      <th></th>\n",
       "      <th>Number</th>\n",
       "      <th>Material Description (Name)</th>\n",
       "      <th>Number (Relationships.Formulation.Title Block)</th>\n",
       "      <th>SBU Category (Relationships.Formulation.Formulation Attributes)</th>\n",
       "      <th>Marketed Countries (Page Three)</th>\n",
       "      <th>Country lead cluster</th>\n",
       "      <th>Primary Pack Type (Page Three)</th>\n",
       "      <th>FG Pack Size (Page Three)</th>\n",
       "      <th>FG Pack Size UoM (Page Three)</th>\n",
       "      <th>SBU Category</th>\n",
       "      <th>...</th>\n",
       "      <th>Netherlands Antilles [AN]</th>\n",
       "      <th>Nicaragua [NI]</th>\n",
       "      <th>Panama [PA]</th>\n",
       "      <th>Paraguay [PY]</th>\n",
       "      <th>Peru [PE]</th>\n",
       "      <th>Saint Lucia [LC]</th>\n",
       "      <th>Sint Maarten [SX]</th>\n",
       "      <th>Trinidad and Tobago [TT]</th>\n",
       "      <th>Uruguay [UY]</th>\n",
       "      <th>Venezuela [VE]</th>\n",
       "    </tr>\n",
       "  </thead>\n",
       "  <tbody>\n",
       "    <tr>\n",
       "      <th>0</th>\n",
       "      <td>10056107</td>\n",
       "      <td>REDOXON NA ef x10 BO/PY/UY</td>\n",
       "      <td>1600106</td>\n",
       "      <td>Nutritionals</td>\n",
       "      <td>Bolivia [BO];Uruguay [UY]</td>\n",
       "      <td>Other Conosur</td>\n",
       "      <td>Tube Rigid</td>\n",
       "      <td>10.0</td>\n",
       "      <td>Piece [PCE]</td>\n",
       "      <td>Nutritionals</td>\n",
       "      <td>...</td>\n",
       "      <td>0</td>\n",
       "      <td>0</td>\n",
       "      <td>0</td>\n",
       "      <td>0</td>\n",
       "      <td>0</td>\n",
       "      <td>0</td>\n",
       "      <td>0</td>\n",
       "      <td>0</td>\n",
       "      <td>1</td>\n",
       "      <td>0</td>\n",
       "    </tr>\n",
       "    <tr>\n",
       "      <th>1</th>\n",
       "      <td>10056110</td>\n",
       "      <td>REDOXON LI ef x10 AR/BO/PY</td>\n",
       "      <td>1600105</td>\n",
       "      <td>Nutritionals</td>\n",
       "      <td>Argentina [AR];Bolivia [BO];Paraguay [PY]</td>\n",
       "      <td>Argentina</td>\n",
       "      <td>Tube Rigid</td>\n",
       "      <td>10.0</td>\n",
       "      <td>Piece [PCE]</td>\n",
       "      <td>Nutritionals</td>\n",
       "      <td>...</td>\n",
       "      <td>0</td>\n",
       "      <td>0</td>\n",
       "      <td>0</td>\n",
       "      <td>1</td>\n",
       "      <td>0</td>\n",
       "      <td>0</td>\n",
       "      <td>0</td>\n",
       "      <td>0</td>\n",
       "      <td>0</td>\n",
       "      <td>0</td>\n",
       "    </tr>\n",
       "  </tbody>\n",
       "</table>\n",
       "<p>2 rows × 55 columns</p>\n",
       "</div>"
      ],
      "text/plain": [
       "     Number Material Description (Name)  \\\n",
       "0  10056107  REDOXON NA ef x10 BO/PY/UY   \n",
       "1  10056110  REDOXON LI ef x10 AR/BO/PY   \n",
       "\n",
       "   Number (Relationships.Formulation.Title Block)  \\\n",
       "0                                         1600106   \n",
       "1                                         1600105   \n",
       "\n",
       "  SBU Category (Relationships.Formulation.Formulation Attributes)  \\\n",
       "0                                       Nutritionals                \n",
       "1                                       Nutritionals                \n",
       "\n",
       "             Marketed Countries (Page Three) Country lead cluster  \\\n",
       "0                  Bolivia [BO];Uruguay [UY]        Other Conosur   \n",
       "1  Argentina [AR];Bolivia [BO];Paraguay [PY]            Argentina   \n",
       "\n",
       "  Primary Pack Type (Page Three)  FG Pack Size (Page Three)  \\\n",
       "0                     Tube Rigid                       10.0   \n",
       "1                     Tube Rigid                       10.0   \n",
       "\n",
       "  FG Pack Size UoM (Page Three)  SBU Category  ... Netherlands Antilles [AN]  \\\n",
       "0                   Piece [PCE]  Nutritionals  ...                         0   \n",
       "1                   Piece [PCE]  Nutritionals  ...                         0   \n",
       "\n",
       "   Nicaragua [NI] Panama [PA] Paraguay [PY]  Peru [PE]  Saint Lucia [LC]  \\\n",
       "0               0           0             0          0                 0   \n",
       "1               0           0             1          0                 0   \n",
       "\n",
       "   Sint Maarten [SX] Trinidad and Tobago [TT]  Uruguay [UY] Venezuela [VE]  \n",
       "0                  0                        0             1              0  \n",
       "1                  0                        0             0              0  \n",
       "\n",
       "[2 rows x 55 columns]"
      ]
     },
     "execution_count": 40,
     "metadata": {},
     "output_type": "execute_result"
    }
   ],
   "source": [
    "#ahora sí que sí\n",
    "#bye bye [SR]\n",
    "#bayer_df_countries.drop(columns=['Suriname [SR]'], inplace=True)\n",
    "bayer_df_countries.head(2)"
   ]
  },
  {
   "cell_type": "code",
   "execution_count": null,
   "metadata": {},
   "outputs": [
    {
     "data": {
      "text/plain": [
       "0      REDOXON Orange 1000 mg Effervescent Tablet\n",
       "1             REDOXON 2000 mg Effervescent Tablet\n",
       "2          BEROCCA Ca & Mg, Zn Film-coated Tablet\n",
       "3              SUPRADYN 3 RDA Sugar-coated Tablet\n",
       "4              SUPRADYN 3 RDA Sugar-coated Tablet\n",
       "                          ...                    \n",
       "652                     FOCUS 500 mg Plain tablet\n",
       "653                        BEPANTHEN 5 % Ointment\n",
       "654                           BEPANTHEN 5 % Cream\n",
       "655                 TALCID 500 mg Chewable Tablet\n",
       "656                                BEPANTHOL Wipe\n",
       "Name: UI Description, Length: 657, dtype: object"
      ]
     },
     "execution_count": 65,
     "metadata": {},
     "output_type": "execute_result"
    }
   ],
   "source": [
    "product_column = bayer_df[\"UI Description\"]\n",
    "product_column"
   ]
  },
  {
   "cell_type": "code",
   "execution_count": null,
   "metadata": {},
   "outputs": [
    {
     "data": {
      "text/html": [
       "<div>\n",
       "<style scoped>\n",
       "    .dataframe tbody tr th:only-of-type {\n",
       "        vertical-align: middle;\n",
       "    }\n",
       "\n",
       "    .dataframe tbody tr th {\n",
       "        vertical-align: top;\n",
       "    }\n",
       "\n",
       "    .dataframe thead th {\n",
       "        text-align: right;\n",
       "    }\n",
       "</style>\n",
       "<table border=\"1\" class=\"dataframe\">\n",
       "  <thead>\n",
       "    <tr style=\"text-align: right;\">\n",
       "      <th></th>\n",
       "      <th>Number</th>\n",
       "      <th>Material Description (Name)</th>\n",
       "      <th>Number (Relationships.Formulation.Title Block)</th>\n",
       "      <th>SBU Category (Relationships.Formulation.Formulation Attributes)</th>\n",
       "      <th>Marketed Countries (Page Three)</th>\n",
       "      <th>Country lead cluster</th>\n",
       "      <th>Primary Pack Type (Page Three)</th>\n",
       "      <th>FG Pack Size (Page Three)</th>\n",
       "      <th>FG Pack Size UoM (Page Three)</th>\n",
       "      <th>SBU Category</th>\n",
       "      <th>Brand</th>\n",
       "      <th>UI</th>\n",
       "      <th>UI Description</th>\n",
       "      <th>Galenical form</th>\n",
       "      <th>Volume 4</th>\n",
       "      <th>Volume 3</th>\n",
       "      <th>Volume 2</th>\n",
       "      <th>Primary Pack Type (Page Three).1</th>\n",
       "      <th>FG Pack Size (Page Three).1</th>\n",
       "      <th>FG Pack Size UoM (Page Three).1</th>\n",
       "    </tr>\n",
       "  </thead>\n",
       "  <tbody>\n",
       "    <tr>\n",
       "      <th>0</th>\n",
       "      <td>10056107</td>\n",
       "      <td>REDOXON NA ef x10 BO/PY/UY</td>\n",
       "      <td>1600106</td>\n",
       "      <td>Nutritionals</td>\n",
       "      <td>Bolivia [BO];Uruguay [UY]</td>\n",
       "      <td>Other Conosur</td>\n",
       "      <td>Tube Rigid</td>\n",
       "      <td>10.0</td>\n",
       "      <td>Piece [PCE]</td>\n",
       "      <td>Nutritionals</td>\n",
       "      <td>REDOXON</td>\n",
       "      <td>1600106</td>\n",
       "      <td>REDOXON Orange 1000 mg Effervescent Tablet</td>\n",
       "      <td>Solid|Tablet|Effervescent</td>\n",
       "      <td>85.0</td>\n",
       "      <td>164.0</td>\n",
       "      <td>197.0</td>\n",
       "      <td>Tube Rigid</td>\n",
       "      <td>10.0</td>\n",
       "      <td>Piece [PCE]</td>\n",
       "    </tr>\n",
       "  </tbody>\n",
       "</table>\n",
       "</div>"
      ],
      "text/plain": [
       "     Number Material Description (Name)  \\\n",
       "0  10056107  REDOXON NA ef x10 BO/PY/UY   \n",
       "\n",
       "   Number (Relationships.Formulation.Title Block)  \\\n",
       "0                                         1600106   \n",
       "\n",
       "  SBU Category (Relationships.Formulation.Formulation Attributes)  \\\n",
       "0                                       Nutritionals                \n",
       "\n",
       "  Marketed Countries (Page Three) Country lead cluster  \\\n",
       "0       Bolivia [BO];Uruguay [UY]        Other Conosur   \n",
       "\n",
       "  Primary Pack Type (Page Three)  FG Pack Size (Page Three)  \\\n",
       "0                     Tube Rigid                       10.0   \n",
       "\n",
       "  FG Pack Size UoM (Page Three)  SBU Category    Brand       UI  \\\n",
       "0                   Piece [PCE]  Nutritionals  REDOXON  1600106   \n",
       "\n",
       "                               UI Description             Galenical form  \\\n",
       "0  REDOXON Orange 1000 mg Effervescent Tablet  Solid|Tablet|Effervescent   \n",
       "\n",
       "   Volume 4  Volume 3  Volume 2 Primary Pack Type (Page Three).1  \\\n",
       "0      85.0     164.0     197.0                       Tube Rigid   \n",
       "\n",
       "   FG Pack Size (Page Three).1 FG Pack Size UoM (Page Three).1  \n",
       "0                         10.0                     Piece [PCE]  "
      ]
     },
     "execution_count": 42,
     "metadata": {},
     "output_type": "execute_result"
    }
   ],
   "source": [
    "bayer_df.head(1)"
   ]
  },
  {
   "cell_type": "code",
   "execution_count": null,
   "metadata": {},
   "outputs": [
    {
     "data": {
      "text/html": [
       "<div>\n",
       "<style scoped>\n",
       "    .dataframe tbody tr th:only-of-type {\n",
       "        vertical-align: middle;\n",
       "    }\n",
       "\n",
       "    .dataframe tbody tr th {\n",
       "        vertical-align: top;\n",
       "    }\n",
       "\n",
       "    .dataframe thead th {\n",
       "        text-align: right;\n",
       "    }\n",
       "</style>\n",
       "<table border=\"1\" class=\"dataframe\">\n",
       "  <thead>\n",
       "    <tr style=\"text-align: right;\">\n",
       "      <th></th>\n",
       "      <th>Number</th>\n",
       "      <th>Material Description (Name)</th>\n",
       "      <th>Number (Relationships.Formulation.Title Block)</th>\n",
       "      <th>SBU Category (Relationships.Formulation.Formulation Attributes)</th>\n",
       "      <th>Marketed Countries (Page Three)</th>\n",
       "      <th>Country lead cluster</th>\n",
       "      <th>Primary Pack Type (Page Three)</th>\n",
       "      <th>FG Pack Size (Page Three)</th>\n",
       "      <th>FG Pack Size UoM (Page Three)</th>\n",
       "      <th>SBU Category</th>\n",
       "      <th>...</th>\n",
       "      <th>Netherlands Antilles [AN]</th>\n",
       "      <th>Nicaragua [NI]</th>\n",
       "      <th>Panama [PA]</th>\n",
       "      <th>Paraguay [PY]</th>\n",
       "      <th>Peru [PE]</th>\n",
       "      <th>Saint Lucia [LC]</th>\n",
       "      <th>Sint Maarten [SX]</th>\n",
       "      <th>Trinidad and Tobago [TT]</th>\n",
       "      <th>Uruguay [UY]</th>\n",
       "      <th>Venezuela [VE]</th>\n",
       "    </tr>\n",
       "  </thead>\n",
       "  <tbody>\n",
       "    <tr>\n",
       "      <th>0</th>\n",
       "      <td>10056107</td>\n",
       "      <td>REDOXON NA ef x10 BO/PY/UY</td>\n",
       "      <td>1600106</td>\n",
       "      <td>Nutritionals</td>\n",
       "      <td>Bolivia [BO];Uruguay [UY]</td>\n",
       "      <td>Other Conosur</td>\n",
       "      <td>Tube Rigid</td>\n",
       "      <td>10.0</td>\n",
       "      <td>Piece [PCE]</td>\n",
       "      <td>Nutritionals</td>\n",
       "      <td>...</td>\n",
       "      <td>0</td>\n",
       "      <td>0</td>\n",
       "      <td>0</td>\n",
       "      <td>0</td>\n",
       "      <td>0</td>\n",
       "      <td>0</td>\n",
       "      <td>0</td>\n",
       "      <td>0</td>\n",
       "      <td>1</td>\n",
       "      <td>0</td>\n",
       "    </tr>\n",
       "  </tbody>\n",
       "</table>\n",
       "<p>1 rows × 55 columns</p>\n",
       "</div>"
      ],
      "text/plain": [
       "     Number Material Description (Name)  \\\n",
       "0  10056107  REDOXON NA ef x10 BO/PY/UY   \n",
       "\n",
       "   Number (Relationships.Formulation.Title Block)  \\\n",
       "0                                         1600106   \n",
       "\n",
       "  SBU Category (Relationships.Formulation.Formulation Attributes)  \\\n",
       "0                                       Nutritionals                \n",
       "\n",
       "  Marketed Countries (Page Three) Country lead cluster  \\\n",
       "0       Bolivia [BO];Uruguay [UY]        Other Conosur   \n",
       "\n",
       "  Primary Pack Type (Page Three)  FG Pack Size (Page Three)  \\\n",
       "0                     Tube Rigid                       10.0   \n",
       "\n",
       "  FG Pack Size UoM (Page Three)  SBU Category  ... Netherlands Antilles [AN]  \\\n",
       "0                   Piece [PCE]  Nutritionals  ...                         0   \n",
       "\n",
       "   Nicaragua [NI] Panama [PA] Paraguay [PY]  Peru [PE]  Saint Lucia [LC]  \\\n",
       "0               0           0             0          0                 0   \n",
       "\n",
       "   Sint Maarten [SX] Trinidad and Tobago [TT]  Uruguay [UY] Venezuela [VE]  \n",
       "0                  0                        0             1              0  \n",
       "\n",
       "[1 rows x 55 columns]"
      ]
     },
     "execution_count": 41,
     "metadata": {},
     "output_type": "execute_result"
    }
   ],
   "source": [
    "bayer_df_countries.head(1)"
   ]
  },
  {
   "cell_type": "markdown",
   "metadata": {},
   "source": [
    "countries.columns"
   ]
  },
  {
   "cell_type": "code",
   "execution_count": 34,
   "metadata": {},
   "outputs": [
    {
     "data": {
      "text/plain": [
       "Index(['Antigua and Barbuda [AG]', 'Argentina [AR]', 'Aruba [AW]',\n",
       "       'Bahamas [BS]', 'Barbados [BB]', 'Belize [BZ]', 'Bermuda [BM]',\n",
       "       'Bolivia [BO]', 'Brazil [BR]', 'Cayman Islands [KY]', 'Chile [CL]',\n",
       "       'Colombia [CO]', 'Costa Rica [CR]', 'Curaçao [CW]', 'Dom. Rep.[DO]',\n",
       "       'Dominica [DM]', 'Ecuador [EC]', 'El Salvador [SV]', 'Guatemala [GT]',\n",
       "       'Guyana [GY]', 'Haiti [HT]', 'Honduras [HN]', 'Hong Kong [HK]',\n",
       "       'Jamaica [JM]', 'Mexico [MX]', 'Netherlands Antilles [AN]',\n",
       "       'Nicaragua [NI]', 'Panama [PA]', 'Paraguay [PY]', 'Peru [PE]',\n",
       "       'Saint Lucia [LC]', 'Sint Maarten [SX]', 'Suriname [SR]',\n",
       "       'Trinidad and Tobago [TT]', 'Uruguay [UY]', 'Venezuela [VE]'],\n",
       "      dtype='object')"
      ]
     },
     "execution_count": 34,
     "metadata": {},
     "output_type": "execute_result"
    }
   ],
   "source": [
    "countries.columns"
   ]
  },
  {
   "cell_type": "code",
   "execution_count": null,
   "metadata": {},
   "outputs": [
    {
     "data": {
      "image/png": "[encoded data removed]",
      "text/plain": [
       "<Figure size 1200x600 with 1 Axes>"
      ]
     },
     "metadata": {},
     "output_type": "display_data"
    }
   ],
   "source": [
    "import matplotlib.pyplot as plt\n",
    "# Ahora quiero saber cuáles son los países que tienen más valores true \n",
    "#Es decir, los países en donde vayer comercializa más productos.\n",
    "# Suma de valores verdaderos (1) en cada columna para cada país\n",
    "countries_sum = countries.sum()\n",
    "#colores = ['orange','red','pink', 'light pink', 'yellow', 'light yellow', 'light green', 'light blue']\n",
    "#no such thing as dark blue or light pink.\n",
    "colores = ['orange', 'purple', 'pink','yellow'] #vaya, hice la bandera del orgullo jaja\n",
    "# Ordenar los países por la cantidad de valores verdaderos\n",
    "countries_sum_sorted = countries_sum.sort_values(ascending=False)\n",
    "\n",
    "# Crear un gráfico de barras\n",
    "plt.figure(figsize=(12, 6))\n",
    "countries_sum_sorted.plot(kind='bar', color= colores)\n",
    "plt.title('Países con mayor cantidad de productos en venta', fontsize=20)\n",
    "plt.xlabel('País')\n",
    "plt.ylabel('Productos comercializados por país')\n",
    "plt.xticks( fontsize=8)\n",
    "plt.show()\n"
   ]
  },
  {
   "cell_type": "code",
   "execution_count": null,
   "metadata": {},
   "outputs": [
    {
     "name": "stderr",
     "output_type": "stream",
     "text": [
      "/var/folders/k1/r149v1_s4zd2tvc0m1c4cqcr0000gn/T/ipykernel_83363/1739185172.py:13: FutureWarning: \n",
      "\n",
      "Passing `palette` without assigning `hue` is deprecated and will be removed in v0.14.0. Assign the `x` variable to `hue` and set `legend=False` for the same effect.\n",
      "\n",
      "  sns.barplot(x=countries_sum_sorted.index, y=countries_sum_sorted.values, palette=custom_colors)\n",
      "/var/folders/k1/r149v1_s4zd2tvc0m1c4cqcr0000gn/T/ipykernel_83363/1739185172.py:13: UserWarning: \n",
      "The palette list has fewer values (2) than needed (36) and will cycle, which may produce an uninterpretable plot.\n",
      "  sns.barplot(x=countries_sum_sorted.index, y=countries_sum_sorted.values, palette=custom_colors)\n"
     ]
    },
    {
     "data": {
      "image/png": "[encoded data removed]",
      "text/plain": [
       "<Figure size 1200x600 with 1 Axes>"
      ]
     },
     "metadata": {},
     "output_type": "display_data"
    }
   ],
   "source": [
    "# Ahora con Seaborn\n",
    "# Suma de valores verdaderos (1) en cada columna para cada país\n",
    "countries_sum = countries.sum()\n",
    "\n",
    "# Ordenar los países por la cantidad de valores verdaderos\n",
    "countries_sum_sorted = countries_sum.sort_values(ascending=False)\n",
    "\n",
    "# Colores personalizados\n",
    "custom_colors = ['blue', 'purple']  # Agrega más colores si es necesario\n",
    "\n",
    "# Crear un gráfico de barras con Seaborn\n",
    "plt.figure(figsize=(12, 6))\n",
    "sns.barplot(x=countries_sum_sorted.index, y=countries_sum_sorted.values, palette=custom_colors)\n",
    "plt.title('Países con mayor cantidad de productos en venta')\n",
    "plt.xlabel('País')\n",
    "plt.ylabel('Cantidad de valores verdaderos')\n",
    "plt.xticks(rotation=90)  # Rotar las etiquetas del eje x para una mejor legibilidad\n",
    "plt.show()\n"
   ]
  },
  {
   "cell_type": "code",
   "execution_count": 35,
   "metadata": {},
   "outputs": [
    {
     "name": "stderr",
     "output_type": "stream",
     "text": [
      "/var/folders/k1/r149v1_s4zd2tvc0m1c4cqcr0000gn/T/ipykernel_93505/3810729379.py:14: FutureWarning: \n",
      "\n",
      "Passing `palette` without assigning `hue` is deprecated and will be removed in v0.14.0. Assign the `x` variable to `hue` and set `legend=False` for the same effect.\n",
      "\n",
      "  sns.barplot(x=countries_filtered.index, y=countries_filtered.values, palette=custom_colors_new)\n",
      "/var/folders/k1/r149v1_s4zd2tvc0m1c4cqcr0000gn/T/ipykernel_93505/3810729379.py:14: UserWarning: \n",
      "The palette list has fewer values (3) than needed (15) and will cycle, which may produce an uninterpretable plot.\n",
      "  sns.barplot(x=countries_filtered.index, y=countries_filtered.values, palette=custom_colors_new)\n"
     ]
    },
    {
     "data": {
      "image/png": "[encoded data removed]",
      "text/plain": [
       "<Figure size 1200x600 with 1 Axes>"
      ]
     },
     "metadata": {},
     "output_type": "display_data"
    }
   ],
   "source": [
    "\n",
    "# Suma de valores verdaderos (1) en cada columna para cada país\n",
    "countries_sum = countries.sum()\n",
    "\n",
    "#Ordeno los países por la cantidad de valores true\n",
    "countries_sum_sorted = countries_sum.sort_values(ascending=False)\n",
    "\n",
    "#Filtro para quedarme con los países que tienen más de 20 valores verdaderos\n",
    "countries_filtered = countries_sum_sorted[countries_sum_sorted > 20]\n",
    "\n",
    "custom_colors_new = ['#56D500', '#00314E', '#01BEFF']  \n",
    "\n",
    "# Crear un gráfico de barras con Seaborn\n",
    "plt.figure(figsize=(12, 6))\n",
    "sns.barplot(x=countries_filtered.index, y=countries_filtered.values, palette=custom_colors_new)\n",
    "plt.title('Países con más de 20 valores verdaderos (1)')\n",
    "plt.xlabel('País')\n",
    "plt.ylabel('Cantidad de productos en venta')\n",
    "plt.xticks(rotation=45) \n",
    "plt.show()\n"
   ]
  },
  {
   "cell_type": "markdown",
   "metadata": {},
   "source": [
    "Y así podemos confirmar que la presencia más fuerte de Bayer está en México, Colombia y Guatemala:"
   ]
  },
  {
   "cell_type": "code",
   "execution_count": null,
   "metadata": {},
   "outputs": [
    {
     "data": {
      "text/plain": [
       "<bound method NDFrame.describe of Mexico [MX]         130\n",
       "Colombia [CO]       120\n",
       "Guatemala [GT]      106\n",
       "Costa Rica [CR]      98\n",
       "El Salvador [SV]     98\n",
       "Honduras [HN]        97\n",
       "Panama [PA]          95\n",
       "Dom. Rep.[DO]        89\n",
       "Nicaragua [NI]       87\n",
       "Brazil [BR]          79\n",
       "Argentina [AR]       70\n",
       "Ecuador [EC]         47\n",
       "Peru [PE]            34\n",
       "Chile [CL]           32\n",
       "Uruguay [UY]         24\n",
       "dtype: int64>"
      ]
     },
     "execution_count": 48,
     "metadata": {},
     "output_type": "execute_result"
    }
   ],
   "source": [
    "countries_filtered.describe\n",
    "# Estos son los países con los que trabajaremos en adelante."
   ]
  },
  {
   "cell_type": "code",
   "execution_count": 48,
   "metadata": {},
   "outputs": [
    {
     "data": {
      "text/html": [
       "<div>\n",
       "<style scoped>\n",
       "    .dataframe tbody tr th:only-of-type {\n",
       "        vertical-align: middle;\n",
       "    }\n",
       "\n",
       "    .dataframe tbody tr th {\n",
       "        vertical-align: top;\n",
       "    }\n",
       "\n",
       "    .dataframe thead th {\n",
       "        text-align: right;\n",
       "    }\n",
       "</style>\n",
       "<table border=\"1\" class=\"dataframe\">\n",
       "  <thead>\n",
       "    <tr style=\"text-align: right;\">\n",
       "      <th></th>\n",
       "      <th>Number</th>\n",
       "      <th>Material Description (Name)</th>\n",
       "      <th>Number (Relationships.Formulation.Title Block)</th>\n",
       "      <th>SBU Category (Relationships.Formulation.Formulation Attributes)</th>\n",
       "      <th>Marketed Countries (Page Three)</th>\n",
       "      <th>Country lead cluster</th>\n",
       "      <th>Primary Pack Type (Page Three)</th>\n",
       "      <th>FG Pack Size (Page Three)</th>\n",
       "      <th>FG Pack Size UoM (Page Three)</th>\n",
       "      <th>SBU Category</th>\n",
       "      <th>...</th>\n",
       "      <th>Nicaragua [NI]</th>\n",
       "      <th>Panama [PA]</th>\n",
       "      <th>Paraguay [PY]</th>\n",
       "      <th>Peru [PE]</th>\n",
       "      <th>Saint Lucia [LC]</th>\n",
       "      <th>Sint Maarten [SX]</th>\n",
       "      <th>Suriname [SR]</th>\n",
       "      <th>Trinidad and Tobago [TT]</th>\n",
       "      <th>Uruguay [UY]</th>\n",
       "      <th>Venezuela [VE]</th>\n",
       "    </tr>\n",
       "  </thead>\n",
       "  <tbody>\n",
       "    <tr>\n",
       "      <th>0</th>\n",
       "      <td>10056107</td>\n",
       "      <td>REDOXON NA ef x10 BO/PY/UY</td>\n",
       "      <td>1600106</td>\n",
       "      <td>Nutritionals</td>\n",
       "      <td>Bolivia [BO];Uruguay [UY]</td>\n",
       "      <td>Other Conosur</td>\n",
       "      <td>Tube Rigid</td>\n",
       "      <td>10.0</td>\n",
       "      <td>Piece [PCE]</td>\n",
       "      <td>Nutritionals</td>\n",
       "      <td>...</td>\n",
       "      <td>0</td>\n",
       "      <td>0</td>\n",
       "      <td>0</td>\n",
       "      <td>0</td>\n",
       "      <td>0</td>\n",
       "      <td>0</td>\n",
       "      <td>0</td>\n",
       "      <td>0</td>\n",
       "      <td>1</td>\n",
       "      <td>0</td>\n",
       "    </tr>\n",
       "    <tr>\n",
       "      <th>1</th>\n",
       "      <td>10056110</td>\n",
       "      <td>REDOXON LI ef x10 AR/BO/PY</td>\n",
       "      <td>1600105</td>\n",
       "      <td>Nutritionals</td>\n",
       "      <td>Argentina [AR];Bolivia [BO];Paraguay [PY]</td>\n",
       "      <td>Argentina</td>\n",
       "      <td>Tube Rigid</td>\n",
       "      <td>10.0</td>\n",
       "      <td>Piece [PCE]</td>\n",
       "      <td>Nutritionals</td>\n",
       "      <td>...</td>\n",
       "      <td>0</td>\n",
       "      <td>0</td>\n",
       "      <td>1</td>\n",
       "      <td>0</td>\n",
       "      <td>0</td>\n",
       "      <td>0</td>\n",
       "      <td>0</td>\n",
       "      <td>0</td>\n",
       "      <td>0</td>\n",
       "      <td>0</td>\n",
       "    </tr>\n",
       "  </tbody>\n",
       "</table>\n",
       "<p>2 rows × 56 columns</p>\n",
       "</div>"
      ],
      "text/plain": [
       "     Number Material Description (Name)  \\\n",
       "0  10056107  REDOXON NA ef x10 BO/PY/UY   \n",
       "1  10056110  REDOXON LI ef x10 AR/BO/PY   \n",
       "\n",
       "   Number (Relationships.Formulation.Title Block)  \\\n",
       "0                                         1600106   \n",
       "1                                         1600105   \n",
       "\n",
       "  SBU Category (Relationships.Formulation.Formulation Attributes)  \\\n",
       "0                                       Nutritionals                \n",
       "1                                       Nutritionals                \n",
       "\n",
       "             Marketed Countries (Page Three) Country lead cluster  \\\n",
       "0                  Bolivia [BO];Uruguay [UY]        Other Conosur   \n",
       "1  Argentina [AR];Bolivia [BO];Paraguay [PY]            Argentina   \n",
       "\n",
       "  Primary Pack Type (Page Three)  FG Pack Size (Page Three)  \\\n",
       "0                     Tube Rigid                       10.0   \n",
       "1                     Tube Rigid                       10.0   \n",
       "\n",
       "  FG Pack Size UoM (Page Three)  SBU Category  ... Nicaragua [NI]  \\\n",
       "0                   Piece [PCE]  Nutritionals  ...              0   \n",
       "1                   Piece [PCE]  Nutritionals  ...              0   \n",
       "\n",
       "   Panama [PA] Paraguay [PY] Peru [PE] Saint Lucia [LC] Sint Maarten [SX]  \\\n",
       "0            0             0         0                0                 0   \n",
       "1            0             1         0                0                 0   \n",
       "\n",
       "  Suriname [SR] Trinidad and Tobago [TT]  Uruguay [UY] Venezuela [VE]  \n",
       "0             0                        0             1              0  \n",
       "1             0                        0             0              0  \n",
       "\n",
       "[2 rows x 56 columns]"
      ]
     },
     "execution_count": 48,
     "metadata": {},
     "output_type": "execute_result"
    }
   ],
   "source": [
    "# Pues no. Veamos con los id de cada producto\n",
    "bayer_df_countries.head(2)"
   ]
  },
  {
   "cell_type": "code",
   "execution_count": 49,
   "metadata": {},
   "outputs": [
    {
     "data": {
      "text/html": [
       "<div>\n",
       "<style scoped>\n",
       "    .dataframe tbody tr th:only-of-type {\n",
       "        vertical-align: middle;\n",
       "    }\n",
       "\n",
       "    .dataframe tbody tr th {\n",
       "        vertical-align: top;\n",
       "    }\n",
       "\n",
       "    .dataframe thead th {\n",
       "        text-align: right;\n",
       "    }\n",
       "</style>\n",
       "<table border=\"1\" class=\"dataframe\">\n",
       "  <thead>\n",
       "    <tr style=\"text-align: right;\">\n",
       "      <th></th>\n",
       "      <th>0</th>\n",
       "    </tr>\n",
       "  </thead>\n",
       "  <tbody>\n",
       "    <tr>\n",
       "      <th>Mexico [MX]</th>\n",
       "      <td>130</td>\n",
       "    </tr>\n",
       "    <tr>\n",
       "      <th>Colombia [CO]</th>\n",
       "      <td>120</td>\n",
       "    </tr>\n",
       "    <tr>\n",
       "      <th>Guatemala [GT]</th>\n",
       "      <td>106</td>\n",
       "    </tr>\n",
       "    <tr>\n",
       "      <th>Costa Rica [CR]</th>\n",
       "      <td>98</td>\n",
       "    </tr>\n",
       "    <tr>\n",
       "      <th>El Salvador [SV]</th>\n",
       "      <td>98</td>\n",
       "    </tr>\n",
       "    <tr>\n",
       "      <th>Honduras [HN]</th>\n",
       "      <td>97</td>\n",
       "    </tr>\n",
       "    <tr>\n",
       "      <th>Panama [PA]</th>\n",
       "      <td>95</td>\n",
       "    </tr>\n",
       "    <tr>\n",
       "      <th>Dom. Rep.[DO]</th>\n",
       "      <td>89</td>\n",
       "    </tr>\n",
       "    <tr>\n",
       "      <th>Nicaragua [NI]</th>\n",
       "      <td>87</td>\n",
       "    </tr>\n",
       "    <tr>\n",
       "      <th>Brazil [BR]</th>\n",
       "      <td>79</td>\n",
       "    </tr>\n",
       "    <tr>\n",
       "      <th>Argentina [AR]</th>\n",
       "      <td>70</td>\n",
       "    </tr>\n",
       "    <tr>\n",
       "      <th>Ecuador [EC]</th>\n",
       "      <td>47</td>\n",
       "    </tr>\n",
       "    <tr>\n",
       "      <th>Peru [PE]</th>\n",
       "      <td>34</td>\n",
       "    </tr>\n",
       "    <tr>\n",
       "      <th>Chile [CL]</th>\n",
       "      <td>32</td>\n",
       "    </tr>\n",
       "    <tr>\n",
       "      <th>Uruguay [UY]</th>\n",
       "      <td>24</td>\n",
       "    </tr>\n",
       "  </tbody>\n",
       "</table>\n",
       "</div>"
      ],
      "text/plain": [
       "                    0\n",
       "Mexico [MX]       130\n",
       "Colombia [CO]     120\n",
       "Guatemala [GT]    106\n",
       "Costa Rica [CR]    98\n",
       "El Salvador [SV]   98\n",
       "Honduras [HN]      97\n",
       "Panama [PA]        95\n",
       "Dom. Rep.[DO]      89\n",
       "Nicaragua [NI]     87\n",
       "Brazil [BR]        79\n",
       "Argentina [AR]     70\n",
       "Ecuador [EC]       47\n",
       "Peru [PE]          34\n",
       "Chile [CL]         32\n",
       "Uruguay [UY]       24"
      ]
     },
     "execution_count": 49,
     "metadata": {},
     "output_type": "execute_result"
    }
   ],
   "source": [
    "# He tenido mogollón de errores, porque countries_filtered es una Serie \n",
    "# y debo convertirla a DF \n",
    "countries_filtered_df = countries_filtered.to_frame()\n",
    "countries_filtered_df\n",
    "\n",
    "\n"
   ]
  },
  {
   "cell_type": "code",
   "execution_count": 38,
   "metadata": {},
   "outputs": [],
   "source": [
    "# Obtenengo los nombres de los países de countries_filtered_df\n",
    "selected_countries = countries_filtered_df.index.tolist()\n",
    "\n",
    "# Renombrar las columnas de bayer_df para que coincidan con los nombres de los países\n",
    "bayer_df.rename(columns=lambda x: x.split(' [')[0] if x in selected_countries else x, inplace=True)\n"
   ]
  },
  {
   "cell_type": "code",
   "execution_count": 39,
   "metadata": {},
   "outputs": [
    {
     "data": {
      "text/plain": [
       "['Mexico [MX]',\n",
       " 'Colombia [CO]',\n",
       " 'Guatemala [GT]',\n",
       " 'Costa Rica [CR]',\n",
       " 'El Salvador [SV]',\n",
       " 'Honduras [HN]',\n",
       " 'Panama [PA]',\n",
       " 'Dom. Rep.[DO]',\n",
       " 'Nicaragua [NI]',\n",
       " 'Brazil [BR]',\n",
       " 'Argentina [AR]',\n",
       " 'Ecuador [EC]',\n",
       " 'Peru [PE]',\n",
       " 'Chile [CL]',\n",
       " 'Uruguay [UY]']"
      ]
     },
     "execution_count": 39,
     "metadata": {},
     "output_type": "execute_result"
    }
   ],
   "source": [
    "selected_countries"
   ]
  },
  {
   "cell_type": "code",
   "execution_count": null,
   "metadata": {},
   "outputs": [],
   "source": []
  },
  {
   "cell_type": "markdown",
   "metadata": {},
   "source": []
  },
  {
   "cell_type": "code",
   "execution_count": 42,
   "metadata": {},
   "outputs": [
    {
     "data": {
      "text/html": [
       "<div>\n",
       "<style scoped>\n",
       "    .dataframe tbody tr th:only-of-type {\n",
       "        vertical-align: middle;\n",
       "    }\n",
       "\n",
       "    .dataframe tbody tr th {\n",
       "        vertical-align: top;\n",
       "    }\n",
       "\n",
       "    .dataframe thead th {\n",
       "        text-align: right;\n",
       "    }\n",
       "</style>\n",
       "<table border=\"1\" class=\"dataframe\">\n",
       "  <thead>\n",
       "    <tr style=\"text-align: right;\">\n",
       "      <th></th>\n",
       "      <th>0</th>\n",
       "    </tr>\n",
       "  </thead>\n",
       "  <tbody>\n",
       "    <tr>\n",
       "      <th>Mexico [MX]</th>\n",
       "      <td>130</td>\n",
       "    </tr>\n",
       "    <tr>\n",
       "      <th>Colombia [CO]</th>\n",
       "      <td>120</td>\n",
       "    </tr>\n",
       "    <tr>\n",
       "      <th>Guatemala [GT]</th>\n",
       "      <td>106</td>\n",
       "    </tr>\n",
       "    <tr>\n",
       "      <th>Costa Rica [CR]</th>\n",
       "      <td>98</td>\n",
       "    </tr>\n",
       "    <tr>\n",
       "      <th>El Salvador [SV]</th>\n",
       "      <td>98</td>\n",
       "    </tr>\n",
       "    <tr>\n",
       "      <th>Honduras [HN]</th>\n",
       "      <td>97</td>\n",
       "    </tr>\n",
       "    <tr>\n",
       "      <th>Panama [PA]</th>\n",
       "      <td>95</td>\n",
       "    </tr>\n",
       "    <tr>\n",
       "      <th>Dom. Rep.[DO]</th>\n",
       "      <td>89</td>\n",
       "    </tr>\n",
       "    <tr>\n",
       "      <th>Nicaragua [NI]</th>\n",
       "      <td>87</td>\n",
       "    </tr>\n",
       "    <tr>\n",
       "      <th>Brazil [BR]</th>\n",
       "      <td>79</td>\n",
       "    </tr>\n",
       "    <tr>\n",
       "      <th>Argentina [AR]</th>\n",
       "      <td>70</td>\n",
       "    </tr>\n",
       "    <tr>\n",
       "      <th>Ecuador [EC]</th>\n",
       "      <td>47</td>\n",
       "    </tr>\n",
       "    <tr>\n",
       "      <th>Peru [PE]</th>\n",
       "      <td>34</td>\n",
       "    </tr>\n",
       "    <tr>\n",
       "      <th>Chile [CL]</th>\n",
       "      <td>32</td>\n",
       "    </tr>\n",
       "    <tr>\n",
       "      <th>Uruguay [UY]</th>\n",
       "      <td>24</td>\n",
       "    </tr>\n",
       "  </tbody>\n",
       "</table>\n",
       "</div>"
      ],
      "text/plain": [
       "                    0\n",
       "Mexico [MX]       130\n",
       "Colombia [CO]     120\n",
       "Guatemala [GT]    106\n",
       "Costa Rica [CR]    98\n",
       "El Salvador [SV]   98\n",
       "Honduras [HN]      97\n",
       "Panama [PA]        95\n",
       "Dom. Rep.[DO]      89\n",
       "Nicaragua [NI]     87\n",
       "Brazil [BR]        79\n",
       "Argentina [AR]     70\n",
       "Ecuador [EC]       47\n",
       "Peru [PE]          34\n",
       "Chile [CL]         32\n",
       "Uruguay [UY]       24"
      ]
     },
     "execution_count": 42,
     "metadata": {},
     "output_type": "execute_result"
    }
   ],
   "source": [
    "countries_filtered_df # Esto no me sirve más que para ver cuantos productos hay en cada país,\n",
    "# pero no puedo relacionar este df con por ejemplo bayer_df para lograrlos obj"
   ]
  },
  {
   "cell_type": "code",
   "execution_count": 50,
   "metadata": {},
   "outputs": [
    {
     "data": {
      "text/html": [
       "<div>\n",
       "<style scoped>\n",
       "    .dataframe tbody tr th:only-of-type {\n",
       "        vertical-align: middle;\n",
       "    }\n",
       "\n",
       "    .dataframe tbody tr th {\n",
       "        vertical-align: top;\n",
       "    }\n",
       "\n",
       "    .dataframe thead th {\n",
       "        text-align: right;\n",
       "    }\n",
       "</style>\n",
       "<table border=\"1\" class=\"dataframe\">\n",
       "  <thead>\n",
       "    <tr style=\"text-align: right;\">\n",
       "      <th></th>\n",
       "      <th>Number</th>\n",
       "      <th>Material Description (Name)</th>\n",
       "      <th>Number (Relationships.Formulation.Title Block)</th>\n",
       "      <th>SBU Category (Relationships.Formulation.Formulation Attributes)</th>\n",
       "      <th>Marketed Countries (Page Three)</th>\n",
       "      <th>Country lead cluster</th>\n",
       "      <th>Primary Pack Type (Page Three)</th>\n",
       "      <th>FG Pack Size (Page Three)</th>\n",
       "      <th>FG Pack Size UoM (Page Three)</th>\n",
       "      <th>SBU Category</th>\n",
       "      <th>...</th>\n",
       "      <th>Nicaragua [NI]</th>\n",
       "      <th>Panama [PA]</th>\n",
       "      <th>Paraguay [PY]</th>\n",
       "      <th>Peru [PE]</th>\n",
       "      <th>Saint Lucia [LC]</th>\n",
       "      <th>Sint Maarten [SX]</th>\n",
       "      <th>Suriname [SR]</th>\n",
       "      <th>Trinidad and Tobago [TT]</th>\n",
       "      <th>Uruguay [UY]</th>\n",
       "      <th>Venezuela [VE]</th>\n",
       "    </tr>\n",
       "  </thead>\n",
       "  <tbody>\n",
       "    <tr>\n",
       "      <th>0</th>\n",
       "      <td>10056107</td>\n",
       "      <td>REDOXON NA ef x10 BO/PY/UY</td>\n",
       "      <td>1600106</td>\n",
       "      <td>Nutritionals</td>\n",
       "      <td>Bolivia [BO];Uruguay [UY]</td>\n",
       "      <td>Other Conosur</td>\n",
       "      <td>Tube Rigid</td>\n",
       "      <td>10.0</td>\n",
       "      <td>Piece [PCE]</td>\n",
       "      <td>Nutritionals</td>\n",
       "      <td>...</td>\n",
       "      <td>0</td>\n",
       "      <td>0</td>\n",
       "      <td>0</td>\n",
       "      <td>0</td>\n",
       "      <td>0</td>\n",
       "      <td>0</td>\n",
       "      <td>0</td>\n",
       "      <td>0</td>\n",
       "      <td>1</td>\n",
       "      <td>0</td>\n",
       "    </tr>\n",
       "    <tr>\n",
       "      <th>1</th>\n",
       "      <td>10056110</td>\n",
       "      <td>REDOXON LI ef x10 AR/BO/PY</td>\n",
       "      <td>1600105</td>\n",
       "      <td>Nutritionals</td>\n",
       "      <td>Argentina [AR];Bolivia [BO];Paraguay [PY]</td>\n",
       "      <td>Argentina</td>\n",
       "      <td>Tube Rigid</td>\n",
       "      <td>10.0</td>\n",
       "      <td>Piece [PCE]</td>\n",
       "      <td>Nutritionals</td>\n",
       "      <td>...</td>\n",
       "      <td>0</td>\n",
       "      <td>0</td>\n",
       "      <td>1</td>\n",
       "      <td>0</td>\n",
       "      <td>0</td>\n",
       "      <td>0</td>\n",
       "      <td>0</td>\n",
       "      <td>0</td>\n",
       "      <td>0</td>\n",
       "      <td>0</td>\n",
       "    </tr>\n",
       "    <tr>\n",
       "      <th>2</th>\n",
       "      <td>10055778</td>\n",
       "      <td>BEROCCA PLUS laq x30 CL</td>\n",
       "      <td>1600119</td>\n",
       "      <td>Nutritionals</td>\n",
       "      <td>Chile [CL]</td>\n",
       "      <td>Chile</td>\n",
       "      <td>Blister</td>\n",
       "      <td>30.0</td>\n",
       "      <td>Piece [PCE]</td>\n",
       "      <td>Nutritionals</td>\n",
       "      <td>...</td>\n",
       "      <td>0</td>\n",
       "      <td>0</td>\n",
       "      <td>0</td>\n",
       "      <td>0</td>\n",
       "      <td>0</td>\n",
       "      <td>0</td>\n",
       "      <td>0</td>\n",
       "      <td>0</td>\n",
       "      <td>0</td>\n",
       "      <td>0</td>\n",
       "    </tr>\n",
       "    <tr>\n",
       "      <th>3</th>\n",
       "      <td>10055863</td>\n",
       "      <td>SUPRADYN grag x30 CL</td>\n",
       "      <td>1600128</td>\n",
       "      <td>Nutritionals</td>\n",
       "      <td>Chile [CL]</td>\n",
       "      <td>Chile</td>\n",
       "      <td>Blister</td>\n",
       "      <td>30.0</td>\n",
       "      <td>Piece [PCE]</td>\n",
       "      <td>Nutritionals</td>\n",
       "      <td>...</td>\n",
       "      <td>0</td>\n",
       "      <td>0</td>\n",
       "      <td>0</td>\n",
       "      <td>0</td>\n",
       "      <td>0</td>\n",
       "      <td>0</td>\n",
       "      <td>0</td>\n",
       "      <td>0</td>\n",
       "      <td>0</td>\n",
       "      <td>0</td>\n",
       "    </tr>\n",
       "    <tr>\n",
       "      <th>4</th>\n",
       "      <td>10055864</td>\n",
       "      <td>SUPRADYN grag x30 PE</td>\n",
       "      <td>1600128</td>\n",
       "      <td>Nutritionals</td>\n",
       "      <td>Peru [PE]</td>\n",
       "      <td>Peru</td>\n",
       "      <td>Blister</td>\n",
       "      <td>30.0</td>\n",
       "      <td>Piece [PCE]</td>\n",
       "      <td>Nutritionals</td>\n",
       "      <td>...</td>\n",
       "      <td>0</td>\n",
       "      <td>0</td>\n",
       "      <td>0</td>\n",
       "      <td>1</td>\n",
       "      <td>0</td>\n",
       "      <td>0</td>\n",
       "      <td>0</td>\n",
       "      <td>0</td>\n",
       "      <td>0</td>\n",
       "      <td>0</td>\n",
       "    </tr>\n",
       "  </tbody>\n",
       "</table>\n",
       "<p>5 rows × 56 columns</p>\n",
       "</div>"
      ],
      "text/plain": [
       "     Number Material Description (Name)  \\\n",
       "0  10056107  REDOXON NA ef x10 BO/PY/UY   \n",
       "1  10056110  REDOXON LI ef x10 AR/BO/PY   \n",
       "2  10055778     BEROCCA PLUS laq x30 CL   \n",
       "3  10055863        SUPRADYN grag x30 CL   \n",
       "4  10055864        SUPRADYN grag x30 PE   \n",
       "\n",
       "   Number (Relationships.Formulation.Title Block)  \\\n",
       "0                                         1600106   \n",
       "1                                         1600105   \n",
       "2                                         1600119   \n",
       "3                                         1600128   \n",
       "4                                         1600128   \n",
       "\n",
       "  SBU Category (Relationships.Formulation.Formulation Attributes)  \\\n",
       "0                                       Nutritionals                \n",
       "1                                       Nutritionals                \n",
       "2                                       Nutritionals                \n",
       "3                                       Nutritionals                \n",
       "4                                       Nutritionals                \n",
       "\n",
       "             Marketed Countries (Page Three) Country lead cluster  \\\n",
       "0                  Bolivia [BO];Uruguay [UY]        Other Conosur   \n",
       "1  Argentina [AR];Bolivia [BO];Paraguay [PY]            Argentina   \n",
       "2                                 Chile [CL]                Chile   \n",
       "3                                 Chile [CL]                Chile   \n",
       "4                                  Peru [PE]                 Peru   \n",
       "\n",
       "  Primary Pack Type (Page Three)  FG Pack Size (Page Three)  \\\n",
       "0                     Tube Rigid                       10.0   \n",
       "1                     Tube Rigid                       10.0   \n",
       "2                        Blister                       30.0   \n",
       "3                        Blister                       30.0   \n",
       "4                        Blister                       30.0   \n",
       "\n",
       "  FG Pack Size UoM (Page Three)  SBU Category  ... Nicaragua [NI]  \\\n",
       "0                   Piece [PCE]  Nutritionals  ...              0   \n",
       "1                   Piece [PCE]  Nutritionals  ...              0   \n",
       "2                   Piece [PCE]  Nutritionals  ...              0   \n",
       "3                   Piece [PCE]  Nutritionals  ...              0   \n",
       "4                   Piece [PCE]  Nutritionals  ...              0   \n",
       "\n",
       "   Panama [PA] Paraguay [PY] Peru [PE] Saint Lucia [LC] Sint Maarten [SX]  \\\n",
       "0            0             0         0                0                 0   \n",
       "1            0             1         0                0                 0   \n",
       "2            0             0         0                0                 0   \n",
       "3            0             0         0                0                 0   \n",
       "4            0             0         1                0                 0   \n",
       "\n",
       "  Suriname [SR] Trinidad and Tobago [TT]  Uruguay [UY] Venezuela [VE]  \n",
       "0             0                        0             1              0  \n",
       "1             0                        0             0              0  \n",
       "2             0                        0             0              0  \n",
       "3             0                        0             0              0  \n",
       "4             0                        0             0              0  \n",
       "\n",
       "[5 rows x 56 columns]"
      ]
     },
     "execution_count": 50,
     "metadata": {},
     "output_type": "execute_result"
    }
   ],
   "source": [
    "bayer_df_countries.head()"
   ]
  },
  {
   "cell_type": "code",
   "execution_count": 51,
   "metadata": {},
   "outputs": [
    {
     "data": {
      "text/html": [
       "<div>\n",
       "<style scoped>\n",
       "    .dataframe tbody tr th:only-of-type {\n",
       "        vertical-align: middle;\n",
       "    }\n",
       "\n",
       "    .dataframe tbody tr th {\n",
       "        vertical-align: top;\n",
       "    }\n",
       "\n",
       "    .dataframe thead th {\n",
       "        text-align: right;\n",
       "    }\n",
       "</style>\n",
       "<table border=\"1\" class=\"dataframe\">\n",
       "  <thead>\n",
       "    <tr style=\"text-align: right;\">\n",
       "      <th></th>\n",
       "      <th>Antigua and Barbuda [AG]</th>\n",
       "      <th>Argentina [AR]</th>\n",
       "      <th>Aruba [AW]</th>\n",
       "      <th>Bahamas [BS]</th>\n",
       "      <th>Barbados [BB]</th>\n",
       "      <th>Belize [BZ]</th>\n",
       "      <th>Bermuda [BM]</th>\n",
       "      <th>Bolivia [BO]</th>\n",
       "      <th>Brazil [BR]</th>\n",
       "      <th>Cayman Islands [KY]</th>\n",
       "      <th>...</th>\n",
       "      <th>Nicaragua [NI]</th>\n",
       "      <th>Panama [PA]</th>\n",
       "      <th>Paraguay [PY]</th>\n",
       "      <th>Peru [PE]</th>\n",
       "      <th>Saint Lucia [LC]</th>\n",
       "      <th>Sint Maarten [SX]</th>\n",
       "      <th>Suriname [SR]</th>\n",
       "      <th>Trinidad and Tobago [TT]</th>\n",
       "      <th>Uruguay [UY]</th>\n",
       "      <th>Venezuela [VE]</th>\n",
       "    </tr>\n",
       "  </thead>\n",
       "  <tbody>\n",
       "    <tr>\n",
       "      <th>0</th>\n",
       "      <td>0</td>\n",
       "      <td>0</td>\n",
       "      <td>0</td>\n",
       "      <td>0</td>\n",
       "      <td>0</td>\n",
       "      <td>0</td>\n",
       "      <td>0</td>\n",
       "      <td>1</td>\n",
       "      <td>0</td>\n",
       "      <td>0</td>\n",
       "      <td>...</td>\n",
       "      <td>0</td>\n",
       "      <td>0</td>\n",
       "      <td>0</td>\n",
       "      <td>0</td>\n",
       "      <td>0</td>\n",
       "      <td>0</td>\n",
       "      <td>0</td>\n",
       "      <td>0</td>\n",
       "      <td>1</td>\n",
       "      <td>0</td>\n",
       "    </tr>\n",
       "    <tr>\n",
       "      <th>1</th>\n",
       "      <td>0</td>\n",
       "      <td>1</td>\n",
       "      <td>0</td>\n",
       "      <td>0</td>\n",
       "      <td>0</td>\n",
       "      <td>0</td>\n",
       "      <td>0</td>\n",
       "      <td>1</td>\n",
       "      <td>0</td>\n",
       "      <td>0</td>\n",
       "      <td>...</td>\n",
       "      <td>0</td>\n",
       "      <td>0</td>\n",
       "      <td>1</td>\n",
       "      <td>0</td>\n",
       "      <td>0</td>\n",
       "      <td>0</td>\n",
       "      <td>0</td>\n",
       "      <td>0</td>\n",
       "      <td>0</td>\n",
       "      <td>0</td>\n",
       "    </tr>\n",
       "    <tr>\n",
       "      <th>2</th>\n",
       "      <td>0</td>\n",
       "      <td>0</td>\n",
       "      <td>0</td>\n",
       "      <td>0</td>\n",
       "      <td>0</td>\n",
       "      <td>0</td>\n",
       "      <td>0</td>\n",
       "      <td>0</td>\n",
       "      <td>0</td>\n",
       "      <td>0</td>\n",
       "      <td>...</td>\n",
       "      <td>0</td>\n",
       "      <td>0</td>\n",
       "      <td>0</td>\n",
       "      <td>0</td>\n",
       "      <td>0</td>\n",
       "      <td>0</td>\n",
       "      <td>0</td>\n",
       "      <td>0</td>\n",
       "      <td>0</td>\n",
       "      <td>0</td>\n",
       "    </tr>\n",
       "    <tr>\n",
       "      <th>3</th>\n",
       "      <td>0</td>\n",
       "      <td>0</td>\n",
       "      <td>0</td>\n",
       "      <td>0</td>\n",
       "      <td>0</td>\n",
       "      <td>0</td>\n",
       "      <td>0</td>\n",
       "      <td>0</td>\n",
       "      <td>0</td>\n",
       "      <td>0</td>\n",
       "      <td>...</td>\n",
       "      <td>0</td>\n",
       "      <td>0</td>\n",
       "      <td>0</td>\n",
       "      <td>0</td>\n",
       "      <td>0</td>\n",
       "      <td>0</td>\n",
       "      <td>0</td>\n",
       "      <td>0</td>\n",
       "      <td>0</td>\n",
       "      <td>0</td>\n",
       "    </tr>\n",
       "    <tr>\n",
       "      <th>4</th>\n",
       "      <td>0</td>\n",
       "      <td>0</td>\n",
       "      <td>0</td>\n",
       "      <td>0</td>\n",
       "      <td>0</td>\n",
       "      <td>0</td>\n",
       "      <td>0</td>\n",
       "      <td>0</td>\n",
       "      <td>0</td>\n",
       "      <td>0</td>\n",
       "      <td>...</td>\n",
       "      <td>0</td>\n",
       "      <td>0</td>\n",
       "      <td>0</td>\n",
       "      <td>1</td>\n",
       "      <td>0</td>\n",
       "      <td>0</td>\n",
       "      <td>0</td>\n",
       "      <td>0</td>\n",
       "      <td>0</td>\n",
       "      <td>0</td>\n",
       "    </tr>\n",
       "    <tr>\n",
       "      <th>...</th>\n",
       "      <td>...</td>\n",
       "      <td>...</td>\n",
       "      <td>...</td>\n",
       "      <td>...</td>\n",
       "      <td>...</td>\n",
       "      <td>...</td>\n",
       "      <td>...</td>\n",
       "      <td>...</td>\n",
       "      <td>...</td>\n",
       "      <td>...</td>\n",
       "      <td>...</td>\n",
       "      <td>...</td>\n",
       "      <td>...</td>\n",
       "      <td>...</td>\n",
       "      <td>...</td>\n",
       "      <td>...</td>\n",
       "      <td>...</td>\n",
       "      <td>...</td>\n",
       "      <td>...</td>\n",
       "      <td>...</td>\n",
       "      <td>...</td>\n",
       "    </tr>\n",
       "    <tr>\n",
       "      <th>652</th>\n",
       "      <td>0</td>\n",
       "      <td>1</td>\n",
       "      <td>0</td>\n",
       "      <td>0</td>\n",
       "      <td>0</td>\n",
       "      <td>0</td>\n",
       "      <td>0</td>\n",
       "      <td>0</td>\n",
       "      <td>0</td>\n",
       "      <td>0</td>\n",
       "      <td>...</td>\n",
       "      <td>0</td>\n",
       "      <td>0</td>\n",
       "      <td>0</td>\n",
       "      <td>0</td>\n",
       "      <td>0</td>\n",
       "      <td>0</td>\n",
       "      <td>0</td>\n",
       "      <td>0</td>\n",
       "      <td>0</td>\n",
       "      <td>0</td>\n",
       "    </tr>\n",
       "    <tr>\n",
       "      <th>653</th>\n",
       "      <td>0</td>\n",
       "      <td>0</td>\n",
       "      <td>0</td>\n",
       "      <td>0</td>\n",
       "      <td>0</td>\n",
       "      <td>0</td>\n",
       "      <td>0</td>\n",
       "      <td>0</td>\n",
       "      <td>0</td>\n",
       "      <td>0</td>\n",
       "      <td>...</td>\n",
       "      <td>0</td>\n",
       "      <td>0</td>\n",
       "      <td>0</td>\n",
       "      <td>0</td>\n",
       "      <td>0</td>\n",
       "      <td>0</td>\n",
       "      <td>0</td>\n",
       "      <td>0</td>\n",
       "      <td>0</td>\n",
       "      <td>0</td>\n",
       "    </tr>\n",
       "    <tr>\n",
       "      <th>654</th>\n",
       "      <td>0</td>\n",
       "      <td>1</td>\n",
       "      <td>0</td>\n",
       "      <td>0</td>\n",
       "      <td>0</td>\n",
       "      <td>0</td>\n",
       "      <td>0</td>\n",
       "      <td>0</td>\n",
       "      <td>0</td>\n",
       "      <td>0</td>\n",
       "      <td>...</td>\n",
       "      <td>0</td>\n",
       "      <td>0</td>\n",
       "      <td>0</td>\n",
       "      <td>0</td>\n",
       "      <td>0</td>\n",
       "      <td>0</td>\n",
       "      <td>0</td>\n",
       "      <td>0</td>\n",
       "      <td>0</td>\n",
       "      <td>0</td>\n",
       "    </tr>\n",
       "    <tr>\n",
       "      <th>655</th>\n",
       "      <td>0</td>\n",
       "      <td>0</td>\n",
       "      <td>0</td>\n",
       "      <td>0</td>\n",
       "      <td>0</td>\n",
       "      <td>0</td>\n",
       "      <td>0</td>\n",
       "      <td>0</td>\n",
       "      <td>0</td>\n",
       "      <td>0</td>\n",
       "      <td>...</td>\n",
       "      <td>0</td>\n",
       "      <td>0</td>\n",
       "      <td>0</td>\n",
       "      <td>0</td>\n",
       "      <td>0</td>\n",
       "      <td>0</td>\n",
       "      <td>0</td>\n",
       "      <td>0</td>\n",
       "      <td>0</td>\n",
       "      <td>0</td>\n",
       "    </tr>\n",
       "    <tr>\n",
       "      <th>656</th>\n",
       "      <td>0</td>\n",
       "      <td>0</td>\n",
       "      <td>0</td>\n",
       "      <td>0</td>\n",
       "      <td>0</td>\n",
       "      <td>0</td>\n",
       "      <td>0</td>\n",
       "      <td>0</td>\n",
       "      <td>1</td>\n",
       "      <td>0</td>\n",
       "      <td>...</td>\n",
       "      <td>0</td>\n",
       "      <td>0</td>\n",
       "      <td>0</td>\n",
       "      <td>0</td>\n",
       "      <td>0</td>\n",
       "      <td>0</td>\n",
       "      <td>0</td>\n",
       "      <td>0</td>\n",
       "      <td>0</td>\n",
       "      <td>0</td>\n",
       "    </tr>\n",
       "  </tbody>\n",
       "</table>\n",
       "<p>657 rows × 36 columns</p>\n",
       "</div>"
      ],
      "text/plain": [
       "     Antigua and Barbuda [AG]  Argentina [AR]  Aruba [AW]  Bahamas [BS]  \\\n",
       "0                           0               0           0             0   \n",
       "1                           0               1           0             0   \n",
       "2                           0               0           0             0   \n",
       "3                           0               0           0             0   \n",
       "4                           0               0           0             0   \n",
       "..                        ...             ...         ...           ...   \n",
       "652                         0               1           0             0   \n",
       "653                         0               0           0             0   \n",
       "654                         0               1           0             0   \n",
       "655                         0               0           0             0   \n",
       "656                         0               0           0             0   \n",
       "\n",
       "     Barbados [BB]  Belize [BZ]  Bermuda [BM]  Bolivia [BO]  Brazil [BR]  \\\n",
       "0                0            0             0             1            0   \n",
       "1                0            0             0             1            0   \n",
       "2                0            0             0             0            0   \n",
       "3                0            0             0             0            0   \n",
       "4                0            0             0             0            0   \n",
       "..             ...          ...           ...           ...          ...   \n",
       "652              0            0             0             0            0   \n",
       "653              0            0             0             0            0   \n",
       "654              0            0             0             0            0   \n",
       "655              0            0             0             0            0   \n",
       "656              0            0             0             0            1   \n",
       "\n",
       "     Cayman Islands [KY]  ...  Nicaragua [NI]  Panama [PA]  Paraguay [PY]  \\\n",
       "0                      0  ...               0            0              0   \n",
       "1                      0  ...               0            0              1   \n",
       "2                      0  ...               0            0              0   \n",
       "3                      0  ...               0            0              0   \n",
       "4                      0  ...               0            0              0   \n",
       "..                   ...  ...             ...          ...            ...   \n",
       "652                    0  ...               0            0              0   \n",
       "653                    0  ...               0            0              0   \n",
       "654                    0  ...               0            0              0   \n",
       "655                    0  ...               0            0              0   \n",
       "656                    0  ...               0            0              0   \n",
       "\n",
       "     Peru [PE]  Saint Lucia [LC]  Sint Maarten [SX]  Suriname [SR]  \\\n",
       "0            0                 0                  0              0   \n",
       "1            0                 0                  0              0   \n",
       "2            0                 0                  0              0   \n",
       "3            0                 0                  0              0   \n",
       "4            1                 0                  0              0   \n",
       "..         ...               ...                ...            ...   \n",
       "652          0                 0                  0              0   \n",
       "653          0                 0                  0              0   \n",
       "654          0                 0                  0              0   \n",
       "655          0                 0                  0              0   \n",
       "656          0                 0                  0              0   \n",
       "\n",
       "     Trinidad and Tobago [TT]  Uruguay [UY]  Venezuela [VE]  \n",
       "0                           0             1               0  \n",
       "1                           0             0               0  \n",
       "2                           0             0               0  \n",
       "3                           0             0               0  \n",
       "4                           0             0               0  \n",
       "..                        ...           ...             ...  \n",
       "652                         0             0               0  \n",
       "653                         0             0               0  \n",
       "654                         0             0               0  \n",
       "655                         0             0               0  \n",
       "656                         0             0               0  \n",
       "\n",
       "[657 rows x 36 columns]"
      ]
     },
     "execution_count": 51,
     "metadata": {},
     "output_type": "execute_result"
    }
   ],
   "source": [
    "countries"
   ]
  },
  {
   "cell_type": "code",
   "execution_count": null,
   "metadata": {},
   "outputs": [
    {
     "name": "stdout",
     "output_type": "stream",
     "text": [
      "[6, 15, 26, 27, 31, 32, 34, 36, 40, 41, 46, 50, 63, 75, 86, 87, 89, 98, 100, 102, 107, 108, 109, 111, 113, 114, 118, 122, 123, 128, 130, 131, 137, 139, 148, 152, 156, 162, 170, 180, 183, 185, 187, 188, 189, 190, 192, 194, 195, 196, 206, 207, 208, 209, 216, 220, 222, 224, 227, 228, 229, 230, 231, 237, 242, 251, 264, 265, 267, 269, 270, 273, 274, 275, 286, 295, 307, 311, 314, 333, 334, 377, 390, 403, 404, 407, 408, 424, 427, 435, 460, 461, 462, 463, 464, 465, 473, 481, 489, 497, 498, 499, 502, 504, 510, 521, 538, 541, 542, 556, 557, 566, 592, 593, 598, 603, 604, 610, 615, 619, 620, 621, 622, 626, 632, 633, 634, 646, 648, 655]\n"
     ]
    }
   ],
   "source": [
    "# Una función para tomar un país como entrada y que devuelva una lista de los prod\n",
    "def productos_por_pais(pais):\n",
    "    # Encuentra las filas donde el país tiene valor 1\n",
    "    productos = bayer_df_countries[bayer_df_countries[pais] == 1]\n",
    "    # Obtiene la lista de productos\n",
    "    lista_productos = productos.index.tolist()\n",
    "    return lista_productos\n",
    "\n",
    "# Uso de la función para México\n",
    "productos_mexico = productos_por_pais('Mexico [MX]')\n",
    "print(productos_mexico)\n"
   ]
  },
  {
   "cell_type": "code",
   "execution_count": null,
   "metadata": {},
   "outputs": [
    {
     "name": "stdout",
     "output_type": "stream",
     "text": [
      "6          BPN OINT 5%/0 ALU TUBE COLL 30G MX\n",
      "15        BPN OINT 5%/0 ALU TUBE COLL 100G MX\n",
      "26                         ASPIRINA 0.5 G 40S\n",
      "27                          CAFIASPIRINA 40´S\n",
      "31                ASPIRINA EF 12'S NVA IMAGEN\n",
      "                        ...                  \n",
      "633          Tabcin Pods Active CAPS BLI 4 MX\n",
      "634           Tabcin Pods Noche CAPS BLI 4 MX\n",
      "646      Alka-Seltzer TAEF SACH 10+4 Promo MX\n",
      "648              Citracal D Fem TABL BT 60 MX\n",
      "655    Alka Hidrotalcite 500mg TACH BLI 50 MX\n",
      "Name: Material Description (Name), Length: 130, dtype: object\n"
     ]
    }
   ],
   "source": [
    "#cogemos la lista con los index de productos y obtenemos los nombres correspondientes\n",
    "productos_mexico = bayer_df.loc[productos_mexico, \"Material Description (Name)\"]\n",
    "print(productos_mexico)\n"
   ]
  },
  {
   "cell_type": "code",
   "execution_count": null,
   "metadata": {},
   "outputs": [],
   "source": [
    "# Vamos a crear ahora unos graficos por cada país. En este punto, decido que \n",
    "# me centraré en los primeros 5 países con mayor presencia: \n",
    "# México, Colombia, Guatemala, Costa Rica y El Salvador"
   ]
  },
  {
   "cell_type": "code",
   "execution_count": 52,
   "metadata": {},
   "outputs": [
    {
     "data": {
      "text/html": [
       "<div>\n",
       "<style scoped>\n",
       "    .dataframe tbody tr th:only-of-type {\n",
       "        vertical-align: middle;\n",
       "    }\n",
       "\n",
       "    .dataframe tbody tr th {\n",
       "        vertical-align: top;\n",
       "    }\n",
       "\n",
       "    .dataframe thead th {\n",
       "        text-align: right;\n",
       "    }\n",
       "</style>\n",
       "<table border=\"1\" class=\"dataframe\">\n",
       "  <thead>\n",
       "    <tr style=\"text-align: right;\">\n",
       "      <th></th>\n",
       "      <th>Number</th>\n",
       "      <th>Material Description (Name)</th>\n",
       "      <th>Number (Relationships.Formulation.Title Block)</th>\n",
       "      <th>SBU Category (Relationships.Formulation.Formulation Attributes)</th>\n",
       "      <th>Marketed Countries (Page Three)</th>\n",
       "      <th>Country lead cluster</th>\n",
       "      <th>Primary Pack Type (Page Three)</th>\n",
       "      <th>FG Pack Size (Page Three)</th>\n",
       "      <th>FG Pack Size UoM (Page Three)</th>\n",
       "      <th>SBU Category</th>\n",
       "      <th>...</th>\n",
       "      <th>Nicaragua [NI]</th>\n",
       "      <th>Panama [PA]</th>\n",
       "      <th>Paraguay [PY]</th>\n",
       "      <th>Peru [PE]</th>\n",
       "      <th>Saint Lucia [LC]</th>\n",
       "      <th>Sint Maarten [SX]</th>\n",
       "      <th>Suriname [SR]</th>\n",
       "      <th>Trinidad and Tobago [TT]</th>\n",
       "      <th>Uruguay [UY]</th>\n",
       "      <th>Venezuela [VE]</th>\n",
       "    </tr>\n",
       "  </thead>\n",
       "  <tbody>\n",
       "    <tr>\n",
       "      <th>0</th>\n",
       "      <td>10056107</td>\n",
       "      <td>REDOXON NA ef x10 BO/PY/UY</td>\n",
       "      <td>1600106</td>\n",
       "      <td>Nutritionals</td>\n",
       "      <td>Bolivia [BO];Uruguay [UY]</td>\n",
       "      <td>Other Conosur</td>\n",
       "      <td>Tube Rigid</td>\n",
       "      <td>10.0</td>\n",
       "      <td>Piece [PCE]</td>\n",
       "      <td>Nutritionals</td>\n",
       "      <td>...</td>\n",
       "      <td>0</td>\n",
       "      <td>0</td>\n",
       "      <td>0</td>\n",
       "      <td>0</td>\n",
       "      <td>0</td>\n",
       "      <td>0</td>\n",
       "      <td>0</td>\n",
       "      <td>0</td>\n",
       "      <td>1</td>\n",
       "      <td>0</td>\n",
       "    </tr>\n",
       "    <tr>\n",
       "      <th>1</th>\n",
       "      <td>10056110</td>\n",
       "      <td>REDOXON LI ef x10 AR/BO/PY</td>\n",
       "      <td>1600105</td>\n",
       "      <td>Nutritionals</td>\n",
       "      <td>Argentina [AR];Bolivia [BO];Paraguay [PY]</td>\n",
       "      <td>Argentina</td>\n",
       "      <td>Tube Rigid</td>\n",
       "      <td>10.0</td>\n",
       "      <td>Piece [PCE]</td>\n",
       "      <td>Nutritionals</td>\n",
       "      <td>...</td>\n",
       "      <td>0</td>\n",
       "      <td>0</td>\n",
       "      <td>1</td>\n",
       "      <td>0</td>\n",
       "      <td>0</td>\n",
       "      <td>0</td>\n",
       "      <td>0</td>\n",
       "      <td>0</td>\n",
       "      <td>0</td>\n",
       "      <td>0</td>\n",
       "    </tr>\n",
       "  </tbody>\n",
       "</table>\n",
       "<p>2 rows × 56 columns</p>\n",
       "</div>"
      ],
      "text/plain": [
       "     Number Material Description (Name)  \\\n",
       "0  10056107  REDOXON NA ef x10 BO/PY/UY   \n",
       "1  10056110  REDOXON LI ef x10 AR/BO/PY   \n",
       "\n",
       "   Number (Relationships.Formulation.Title Block)  \\\n",
       "0                                         1600106   \n",
       "1                                         1600105   \n",
       "\n",
       "  SBU Category (Relationships.Formulation.Formulation Attributes)  \\\n",
       "0                                       Nutritionals                \n",
       "1                                       Nutritionals                \n",
       "\n",
       "             Marketed Countries (Page Three) Country lead cluster  \\\n",
       "0                  Bolivia [BO];Uruguay [UY]        Other Conosur   \n",
       "1  Argentina [AR];Bolivia [BO];Paraguay [PY]            Argentina   \n",
       "\n",
       "  Primary Pack Type (Page Three)  FG Pack Size (Page Three)  \\\n",
       "0                     Tube Rigid                       10.0   \n",
       "1                     Tube Rigid                       10.0   \n",
       "\n",
       "  FG Pack Size UoM (Page Three)  SBU Category  ... Nicaragua [NI]  \\\n",
       "0                   Piece [PCE]  Nutritionals  ...              0   \n",
       "1                   Piece [PCE]  Nutritionals  ...              0   \n",
       "\n",
       "   Panama [PA] Paraguay [PY] Peru [PE] Saint Lucia [LC] Sint Maarten [SX]  \\\n",
       "0            0             0         0                0                 0   \n",
       "1            0             1         0                0                 0   \n",
       "\n",
       "  Suriname [SR] Trinidad and Tobago [TT]  Uruguay [UY] Venezuela [VE]  \n",
       "0             0                        0             1              0  \n",
       "1             0                        0             0              0  \n",
       "\n",
       "[2 rows x 56 columns]"
      ]
     },
     "execution_count": 52,
     "metadata": {},
     "output_type": "execute_result"
    }
   ],
   "source": [
    "bayer_df_countries.head(2) "
   ]
  },
  {
   "cell_type": "code",
   "execution_count": 53,
   "metadata": {},
   "outputs": [
    {
     "data": {
      "text/plain": [
       "Index(['Number', 'Material Description (Name)',\n",
       "       'Number (Relationships.Formulation.Title Block)',\n",
       "       'SBU Category (Relationships.Formulation.Formulation Attributes)',\n",
       "       'Marketed Countries (Page Three)', 'Country lead cluster',\n",
       "       'Primary Pack Type (Page Three)', 'FG Pack Size (Page Three)',\n",
       "       'FG Pack Size UoM (Page Three)', 'SBU Category', 'Brand', 'UI',\n",
       "       'UI Description', 'Galenical form', 'Volume 4', 'Volume 3', 'Volume 2',\n",
       "       'Primary Pack Type (Page Three).1', 'FG Pack Size (Page Three).1',\n",
       "       'FG Pack Size UoM (Page Three).1', 'Antigua and Barbuda [AG]',\n",
       "       'Argentina [AR]', 'Aruba [AW]', 'Bahamas [BS]', 'Barbados [BB]',\n",
       "       'Belize [BZ]', 'Bermuda [BM]', 'Bolivia [BO]', 'Brazil [BR]',\n",
       "       'Cayman Islands [KY]', 'Chile [CL]', 'Colombia [CO]', 'Costa Rica [CR]',\n",
       "       'Curaçao [CW]', 'Dom. Rep.[DO]', 'Dominica [DM]', 'Ecuador [EC]',\n",
       "       'El Salvador [SV]', 'Guatemala [GT]', 'Guyana [GY]', 'Haiti [HT]',\n",
       "       'Honduras [HN]', 'Hong Kong [HK]', 'Jamaica [JM]', 'Mexico [MX]',\n",
       "       'Netherlands Antilles [AN]', 'Nicaragua [NI]', 'Panama [PA]',\n",
       "       'Paraguay [PY]', 'Peru [PE]', 'Saint Lucia [LC]', 'Sint Maarten [SX]',\n",
       "       'Suriname [SR]', 'Trinidad and Tobago [TT]', 'Uruguay [UY]',\n",
       "       'Venezuela [VE]'],\n",
       "      dtype='object')"
      ]
     },
     "execution_count": 53,
     "metadata": {},
     "output_type": "execute_result"
    }
   ],
   "source": [
    "bayer_df_countries.columns #algo hice mal con la concatenación y debo volver a hacerla, creo\n",
    "#listo. solo tuve que volver al principio "
   ]
  },
  {
   "cell_type": "code",
   "execution_count": 57,
   "metadata": {},
   "outputs": [
    {
     "data": {
      "text/html": [
       "<div>\n",
       "<style scoped>\n",
       "    .dataframe tbody tr th:only-of-type {\n",
       "        vertical-align: middle;\n",
       "    }\n",
       "\n",
       "    .dataframe tbody tr th {\n",
       "        vertical-align: top;\n",
       "    }\n",
       "\n",
       "    .dataframe thead th {\n",
       "        text-align: right;\n",
       "    }\n",
       "</style>\n",
       "<table border=\"1\" class=\"dataframe\">\n",
       "  <thead>\n",
       "    <tr style=\"text-align: right;\">\n",
       "      <th></th>\n",
       "      <th>Number</th>\n",
       "      <th>Material Description (Name)</th>\n",
       "      <th>Number (Relationships.Formulation.Title Block)</th>\n",
       "      <th>SBU Category (Relationships.Formulation.Formulation Attributes)</th>\n",
       "      <th>Marketed Countries (Page Three)</th>\n",
       "      <th>Country lead cluster</th>\n",
       "      <th>Primary Pack Type (Page Three)</th>\n",
       "      <th>FG Pack Size (Page Three)</th>\n",
       "      <th>FG Pack Size UoM (Page Three)</th>\n",
       "      <th>SBU Category</th>\n",
       "      <th>...</th>\n",
       "      <th>Nicaragua [NI]</th>\n",
       "      <th>Panama [PA]</th>\n",
       "      <th>Paraguay [PY]</th>\n",
       "      <th>Peru [PE]</th>\n",
       "      <th>Saint Lucia [LC]</th>\n",
       "      <th>Sint Maarten [SX]</th>\n",
       "      <th>Suriname [SR]</th>\n",
       "      <th>Trinidad and Tobago [TT]</th>\n",
       "      <th>Uruguay [UY]</th>\n",
       "      <th>Venezuela [VE]</th>\n",
       "    </tr>\n",
       "  </thead>\n",
       "  <tbody>\n",
       "    <tr>\n",
       "      <th>6</th>\n",
       "      <td>10060870</td>\n",
       "      <td>BPN OINT 5%/0 ALU TUBE COLL 30G MX</td>\n",
       "      <td>1600198</td>\n",
       "      <td>Dermatology</td>\n",
       "      <td>Mexico [MX]</td>\n",
       "      <td>Mexico</td>\n",
       "      <td>Tube Flexible</td>\n",
       "      <td>30.0</td>\n",
       "      <td>Gram [G]</td>\n",
       "      <td>Dermatology</td>\n",
       "      <td>...</td>\n",
       "      <td>0</td>\n",
       "      <td>0</td>\n",
       "      <td>0</td>\n",
       "      <td>0</td>\n",
       "      <td>0</td>\n",
       "      <td>0</td>\n",
       "      <td>0</td>\n",
       "      <td>0</td>\n",
       "      <td>0</td>\n",
       "      <td>0</td>\n",
       "    </tr>\n",
       "    <tr>\n",
       "      <th>15</th>\n",
       "      <td>10060871</td>\n",
       "      <td>BPN OINT 5%/0 ALU TUBE COLL 100G MX</td>\n",
       "      <td>1600198</td>\n",
       "      <td>Dermatology</td>\n",
       "      <td>Mexico [MX]</td>\n",
       "      <td>Mexico</td>\n",
       "      <td>Tube Flexible</td>\n",
       "      <td>100.0</td>\n",
       "      <td>Gram [G]</td>\n",
       "      <td>Dermatology</td>\n",
       "      <td>...</td>\n",
       "      <td>0</td>\n",
       "      <td>0</td>\n",
       "      <td>0</td>\n",
       "      <td>0</td>\n",
       "      <td>0</td>\n",
       "      <td>0</td>\n",
       "      <td>0</td>\n",
       "      <td>0</td>\n",
       "      <td>0</td>\n",
       "      <td>0</td>\n",
       "    </tr>\n",
       "    <tr>\n",
       "      <th>26</th>\n",
       "      <td>4443067</td>\n",
       "      <td>ASPIRINA 0.5 G 40S</td>\n",
       "      <td>1600005</td>\n",
       "      <td>Analgesics</td>\n",
       "      <td>Mexico [MX]</td>\n",
       "      <td>Mexico</td>\n",
       "      <td>Blister</td>\n",
       "      <td>40.0</td>\n",
       "      <td>Piece [PCE]</td>\n",
       "      <td>Analgesics</td>\n",
       "      <td>...</td>\n",
       "      <td>0</td>\n",
       "      <td>0</td>\n",
       "      <td>0</td>\n",
       "      <td>0</td>\n",
       "      <td>0</td>\n",
       "      <td>0</td>\n",
       "      <td>0</td>\n",
       "      <td>0</td>\n",
       "      <td>0</td>\n",
       "      <td>0</td>\n",
       "    </tr>\n",
       "    <tr>\n",
       "      <th>27</th>\n",
       "      <td>4443113</td>\n",
       "      <td>CAFIASPIRINA 40´S</td>\n",
       "      <td>1600136</td>\n",
       "      <td>Analgesics</td>\n",
       "      <td>Mexico [MX]</td>\n",
       "      <td>Mexico</td>\n",
       "      <td>Blister</td>\n",
       "      <td>40.0</td>\n",
       "      <td>Piece [PCE]</td>\n",
       "      <td>Analgesics</td>\n",
       "      <td>...</td>\n",
       "      <td>0</td>\n",
       "      <td>0</td>\n",
       "      <td>0</td>\n",
       "      <td>0</td>\n",
       "      <td>0</td>\n",
       "      <td>0</td>\n",
       "      <td>0</td>\n",
       "      <td>0</td>\n",
       "      <td>0</td>\n",
       "      <td>0</td>\n",
       "    </tr>\n",
       "    <tr>\n",
       "      <th>31</th>\n",
       "      <td>4443164</td>\n",
       "      <td>ASPIRINA EF 12'S NVA IMAGEN</td>\n",
       "      <td>1600139</td>\n",
       "      <td>Analgesics</td>\n",
       "      <td>Mexico [MX]</td>\n",
       "      <td>Mexico</td>\n",
       "      <td>Sachet</td>\n",
       "      <td>12.0</td>\n",
       "      <td>Piece [PCE]</td>\n",
       "      <td>Analgesics</td>\n",
       "      <td>...</td>\n",
       "      <td>0</td>\n",
       "      <td>0</td>\n",
       "      <td>0</td>\n",
       "      <td>0</td>\n",
       "      <td>0</td>\n",
       "      <td>0</td>\n",
       "      <td>0</td>\n",
       "      <td>0</td>\n",
       "      <td>0</td>\n",
       "      <td>0</td>\n",
       "    </tr>\n",
       "  </tbody>\n",
       "</table>\n",
       "<p>5 rows × 56 columns</p>\n",
       "</div>"
      ],
      "text/plain": [
       "      Number          Material Description (Name)  \\\n",
       "6   10060870   BPN OINT 5%/0 ALU TUBE COLL 30G MX   \n",
       "15  10060871  BPN OINT 5%/0 ALU TUBE COLL 100G MX   \n",
       "26   4443067                   ASPIRINA 0.5 G 40S   \n",
       "27   4443113                    CAFIASPIRINA 40´S   \n",
       "31   4443164          ASPIRINA EF 12'S NVA IMAGEN   \n",
       "\n",
       "    Number (Relationships.Formulation.Title Block)  \\\n",
       "6                                          1600198   \n",
       "15                                         1600198   \n",
       "26                                         1600005   \n",
       "27                                         1600136   \n",
       "31                                         1600139   \n",
       "\n",
       "   SBU Category (Relationships.Formulation.Formulation Attributes)  \\\n",
       "6                                         Dermatology                \n",
       "15                                        Dermatology                \n",
       "26                                         Analgesics                \n",
       "27                                         Analgesics                \n",
       "31                                         Analgesics                \n",
       "\n",
       "   Marketed Countries (Page Three) Country lead cluster  \\\n",
       "6                      Mexico [MX]               Mexico   \n",
       "15                     Mexico [MX]               Mexico   \n",
       "26                     Mexico [MX]               Mexico   \n",
       "27                     Mexico [MX]               Mexico   \n",
       "31                     Mexico [MX]               Mexico   \n",
       "\n",
       "   Primary Pack Type (Page Three)  FG Pack Size (Page Three)  \\\n",
       "6                   Tube Flexible                       30.0   \n",
       "15                  Tube Flexible                      100.0   \n",
       "26                        Blister                       40.0   \n",
       "27                        Blister                       40.0   \n",
       "31                         Sachet                       12.0   \n",
       "\n",
       "   FG Pack Size UoM (Page Three) SBU Category  ... Nicaragua [NI]  \\\n",
       "6                       Gram [G]  Dermatology  ...              0   \n",
       "15                      Gram [G]  Dermatology  ...              0   \n",
       "26                   Piece [PCE]   Analgesics  ...              0   \n",
       "27                   Piece [PCE]   Analgesics  ...              0   \n",
       "31                   Piece [PCE]   Analgesics  ...              0   \n",
       "\n",
       "    Panama [PA] Paraguay [PY] Peru [PE] Saint Lucia [LC] Sint Maarten [SX]  \\\n",
       "6             0             0         0                0                 0   \n",
       "15            0             0         0                0                 0   \n",
       "26            0             0         0                0                 0   \n",
       "27            0             0         0                0                 0   \n",
       "31            0             0         0                0                 0   \n",
       "\n",
       "   Suriname [SR] Trinidad and Tobago [TT]  Uruguay [UY] Venezuela [VE]  \n",
       "6              0                        0             0              0  \n",
       "15             0                        0             0              0  \n",
       "26             0                        0             0              0  \n",
       "27             0                        0             0              0  \n",
       "31             0                        0             0              0  \n",
       "\n",
       "[5 rows x 56 columns]"
      ]
     },
     "execution_count": 57,
     "metadata": {},
     "output_type": "execute_result"
    }
   ],
   "source": [
    "#ahora sí que sí. vamos a seleccionar todas las filas de bayer_df_countries donde la columna 'Mexico [MX]' tenga el valor 1, lo que debería representar los productos vendidos en México. \n",
    "mexico_data = bayer_df_countries[bayer_df_countries['Mexico [MX]'] == 1]\n",
    "mexico_data.head()\n",
    "\n"
   ]
  },
  {
   "cell_type": "code",
   "execution_count": 58,
   "metadata": {},
   "outputs": [
    {
     "data": {
      "text/html": [
       "<div>\n",
       "<style scoped>\n",
       "    .dataframe tbody tr th:only-of-type {\n",
       "        vertical-align: middle;\n",
       "    }\n",
       "\n",
       "    .dataframe tbody tr th {\n",
       "        vertical-align: top;\n",
       "    }\n",
       "\n",
       "    .dataframe thead th {\n",
       "        text-align: right;\n",
       "    }\n",
       "</style>\n",
       "<table border=\"1\" class=\"dataframe\">\n",
       "  <thead>\n",
       "    <tr style=\"text-align: right;\">\n",
       "      <th></th>\n",
       "      <th>Number</th>\n",
       "      <th>Material Description (Name)</th>\n",
       "      <th>Number (Relationships.Formulation.Title Block)</th>\n",
       "      <th>Category</th>\n",
       "      <th>Marketed Countries (Page Three)</th>\n",
       "      <th>Country lead cluster</th>\n",
       "      <th>Primary Pack Type (Page Three)</th>\n",
       "      <th>FG Pack Size (Page Three)</th>\n",
       "      <th>FG Pack Size UoM (Page Three)</th>\n",
       "      <th>SBU Category</th>\n",
       "      <th>Brand</th>\n",
       "      <th>UI</th>\n",
       "      <th>UI Description</th>\n",
       "      <th>Galenical form</th>\n",
       "      <th>Volume 4</th>\n",
       "      <th>Volume 3</th>\n",
       "      <th>Volume 2</th>\n",
       "      <th>Primary Pack Type (Page Three).1</th>\n",
       "      <th>FG Pack Size (Page Three).1</th>\n",
       "      <th>FG Pack Size UoM (Page Three).1</th>\n",
       "    </tr>\n",
       "  </thead>\n",
       "  <tbody>\n",
       "    <tr>\n",
       "      <th>0</th>\n",
       "      <td>10056107</td>\n",
       "      <td>REDOXON NA ef x10 BO/PY/UY</td>\n",
       "      <td>1600106</td>\n",
       "      <td>Nutritionals</td>\n",
       "      <td>Bolivia [BO];Uruguay [UY]</td>\n",
       "      <td>Other Conosur</td>\n",
       "      <td>Tube Rigid</td>\n",
       "      <td>10.0</td>\n",
       "      <td>Piece [PCE]</td>\n",
       "      <td>Nutritionals</td>\n",
       "      <td>REDOXON</td>\n",
       "      <td>1600106</td>\n",
       "      <td>REDOXON Orange 1000 mg Effervescent Tablet</td>\n",
       "      <td>Solid|Tablet|Effervescent</td>\n",
       "      <td>85</td>\n",
       "      <td>164</td>\n",
       "      <td>197</td>\n",
       "      <td>Tube Rigid</td>\n",
       "      <td>10.0</td>\n",
       "      <td>Piece [PCE]</td>\n",
       "    </tr>\n",
       "  </tbody>\n",
       "</table>\n",
       "</div>"
      ],
      "text/plain": [
       "     Number Material Description (Name)  \\\n",
       "0  10056107  REDOXON NA ef x10 BO/PY/UY   \n",
       "\n",
       "   Number (Relationships.Formulation.Title Block)      Category  \\\n",
       "0                                         1600106  Nutritionals   \n",
       "\n",
       "  Marketed Countries (Page Three) Country lead cluster  \\\n",
       "0       Bolivia [BO];Uruguay [UY]        Other Conosur   \n",
       "\n",
       "  Primary Pack Type (Page Three)  FG Pack Size (Page Three)  \\\n",
       "0                     Tube Rigid                       10.0   \n",
       "\n",
       "  FG Pack Size UoM (Page Three)  SBU Category    Brand       UI  \\\n",
       "0                   Piece [PCE]  Nutritionals  REDOXON  1600106   \n",
       "\n",
       "                               UI Description             Galenical form  \\\n",
       "0  REDOXON Orange 1000 mg Effervescent Tablet  Solid|Tablet|Effervescent   \n",
       "\n",
       "  Volume 4 Volume 3 Volume 2 Primary Pack Type (Page Three).1  \\\n",
       "0      85      164      197                        Tube Rigid   \n",
       "\n",
       "   FG Pack Size (Page Three).1 FG Pack Size UoM (Page Three).1  \n",
       "0                         10.0                     Piece [PCE]  "
      ]
     },
     "execution_count": 58,
     "metadata": {},
     "output_type": "execute_result"
    }
   ],
   "source": [
    "# Renombremos la columna \"SBU Category blablabla\" a \"Category\"\n",
    "bayer_df = bayer_df.rename(columns={\"SBU Category (Relationships.Formulation.Formulation Attributes)\": \"Category\"})\n",
    "bayer_df.head(1)\n"
   ]
  },
  {
   "cell_type": "markdown",
   "metadata": {},
   "source": [
    "## Para visualizar, creamos un data frame nuevo a partir de nombre y categoria de la varoriginal"
   ]
  },
  {
   "cell_type": "code",
   "execution_count": 60,
   "metadata": {},
   "outputs": [],
   "source": [
    "\n",
    "category_df = bayer_df[['Material Description (Name)', 'Category']]\n"
   ]
  },
  {
   "cell_type": "code",
   "execution_count": 61,
   "metadata": {},
   "outputs": [
    {
     "data": {
      "text/html": [
       "<div>\n",
       "<style scoped>\n",
       "    .dataframe tbody tr th:only-of-type {\n",
       "        vertical-align: middle;\n",
       "    }\n",
       "\n",
       "    .dataframe tbody tr th {\n",
       "        vertical-align: top;\n",
       "    }\n",
       "\n",
       "    .dataframe thead th {\n",
       "        text-align: right;\n",
       "    }\n",
       "</style>\n",
       "<table border=\"1\" class=\"dataframe\">\n",
       "  <thead>\n",
       "    <tr style=\"text-align: right;\">\n",
       "      <th></th>\n",
       "      <th>Material Description (Name)</th>\n",
       "      <th>Category</th>\n",
       "    </tr>\n",
       "  </thead>\n",
       "  <tbody>\n",
       "    <tr>\n",
       "      <th>0</th>\n",
       "      <td>REDOXON NA ef x10 BO/PY/UY</td>\n",
       "      <td>Nutritionals</td>\n",
       "    </tr>\n",
       "    <tr>\n",
       "      <th>1</th>\n",
       "      <td>REDOXON LI ef x10 AR/BO/PY</td>\n",
       "      <td>Nutritionals</td>\n",
       "    </tr>\n",
       "    <tr>\n",
       "      <th>2</th>\n",
       "      <td>BEROCCA PLUS laq x30 CL</td>\n",
       "      <td>Nutritionals</td>\n",
       "    </tr>\n",
       "    <tr>\n",
       "      <th>3</th>\n",
       "      <td>SUPRADYN grag x30 CL</td>\n",
       "      <td>Nutritionals</td>\n",
       "    </tr>\n",
       "    <tr>\n",
       "      <th>4</th>\n",
       "      <td>SUPRADYN grag x30 PE</td>\n",
       "      <td>Nutritionals</td>\n",
       "    </tr>\n",
       "    <tr>\n",
       "      <th>...</th>\n",
       "      <td>...</td>\n",
       "      <td>...</td>\n",
       "    </tr>\n",
       "    <tr>\n",
       "      <th>652</th>\n",
       "      <td>Paracetamol Bayer 500mg TABL BLI 400 AR</td>\n",
       "      <td>Analgesics</td>\n",
       "    </tr>\n",
       "    <tr>\n",
       "      <th>653</th>\n",
       "      <td>Bepanthol Derma Regenera OINT TUF 30g CL</td>\n",
       "      <td>Dermatology</td>\n",
       "    </tr>\n",
       "    <tr>\n",
       "      <th>654</th>\n",
       "      <td>Bepanthol Regeneradora CREA TUF 30g AR</td>\n",
       "      <td>Dermatology</td>\n",
       "    </tr>\n",
       "    <tr>\n",
       "      <th>655</th>\n",
       "      <td>Alka Hidrotalcite 500mg TACH BLI 50 MX</td>\n",
       "      <td>Digestive Health</td>\n",
       "    </tr>\n",
       "    <tr>\n",
       "      <th>656</th>\n",
       "      <td>Bepantol Baby WIPE POU 6x48  BR</td>\n",
       "      <td>Dermatology</td>\n",
       "    </tr>\n",
       "  </tbody>\n",
       "</table>\n",
       "<p>657 rows × 2 columns</p>\n",
       "</div>"
      ],
      "text/plain": [
       "                  Material Description (Name)          Category\n",
       "0                  REDOXON NA ef x10 BO/PY/UY      Nutritionals\n",
       "1                  REDOXON LI ef x10 AR/BO/PY      Nutritionals\n",
       "2                     BEROCCA PLUS laq x30 CL      Nutritionals\n",
       "3                        SUPRADYN grag x30 CL      Nutritionals\n",
       "4                        SUPRADYN grag x30 PE      Nutritionals\n",
       "..                                        ...               ...\n",
       "652   Paracetamol Bayer 500mg TABL BLI 400 AR        Analgesics\n",
       "653  Bepanthol Derma Regenera OINT TUF 30g CL       Dermatology\n",
       "654    Bepanthol Regeneradora CREA TUF 30g AR       Dermatology\n",
       "655    Alka Hidrotalcite 500mg TACH BLI 50 MX  Digestive Health\n",
       "656           Bepantol Baby WIPE POU 6x48  BR       Dermatology\n",
       "\n",
       "[657 rows x 2 columns]"
      ]
     },
     "execution_count": 61,
     "metadata": {},
     "output_type": "execute_result"
    }
   ],
   "source": [
    "category_df"
   ]
  },
  {
   "cell_type": "code",
   "execution_count": 62,
   "metadata": {},
   "outputs": [
    {
     "data": {
      "application/vnd.plotly.v1+json": {
       "config": {
        "plotlyServerURL": "https://plot.ly"
       },
       "data": [
        {
         "alignmentgroup": "True",
         "hovertemplate": "Category=%{x}<br>count=%{y}<extra></extra>",
         "legendgroup": "",
         "marker": {
          "color": "#56D500",
          "pattern": {
           "shape": ""
          }
         },
         "name": "",
         "offsetgroup": "",
         "orientation": "v",
         "showlegend": false,
         "textposition": "auto",
         "type": "bar",
         "x": [
          "Nutritionals",
          "Nutritionals",
          "Nutritionals",
          "Nutritionals",
          "Nutritionals",
          "Digestive Health",
          "Dermatology",
          "Nutritionals",
          "Nutritionals",
          "Dermatology",
          "Dermatology",
          "Digestive Health",
          "Nutritionals",
          "Dermatology",
          "Nutritionals",
          "Dermatology",
          "Nutritionals",
          "Nutritionals",
          "Nutritionals",
          "Nutritionals",
          "Nutritionals",
          "Nutritionals",
          "Digestive Health",
          "Nutritionals",
          "Nutritionals",
          "Nutritionals",
          "Analgesics",
          "Analgesics",
          "Analgesics",
          "Dermatology",
          "Cough & Cold",
          "Analgesics",
          "Analgesics",
          "Dermatology",
          "Dermatology",
          "Dermatology",
          "Dermatology",
          "Cough & Cold",
          "Analgesics",
          "Dermatology",
          "Cough & Cold",
          "Dermatology",
          "Dermatology",
          "Dermatology",
          "Dermatology",
          "Dermatology",
          "Cough & Cold",
          "Nutritionals",
          "Dermatology",
          "Nutritionals",
          "Analgesics",
          "Analgesics",
          "Analgesics",
          "Analgesics",
          "Analgesics",
          "Analgesics",
          "Cough & Cold",
          "Analgesics",
          "Analgesics",
          "Analgesics",
          "Analgesics",
          "Dermatology",
          "Digestive Health",
          "Analgesics",
          "Nutritionals",
          "Nutritionals",
          "Dermatology",
          "Analgesics",
          "Analgesics",
          "Analgesics",
          "Dermatology",
          "Dermatology",
          "Cough & Cold",
          "Cough & Cold",
          "Cough & Cold",
          "Cough & Cold",
          "Cough & Cold",
          "Dermatology",
          "Analgesics",
          "Analgesics",
          "Nutritionals",
          "Dermatology",
          "Dermatology",
          "Analgesics",
          "Dermatology",
          "Analgesics",
          "Nutritionals",
          "Analgesics",
          "Digestive Health",
          "Nutritionals",
          "Digestive Health",
          "Nutritionals",
          "Cough & Cold",
          "Cough & Cold",
          "Nutritionals",
          "Nutritionals",
          "Digestive Health",
          "Dermatology",
          "Nutritionals",
          "Nutritionals",
          "Nutritionals",
          "Analgesics",
          "Nutritionals",
          "Nutritionals",
          "Analgesics",
          "Nutritionals",
          "Nutritionals",
          "Nutritionals",
          "Cardio",
          "Dermatology",
          "Dermatology",
          "Dermatology",
          "Cough & Cold",
          "Cough & Cold",
          "Analgesics",
          "Dermatology",
          "Dermatology",
          "Dermatology",
          "Cough & Cold",
          "Dermatology",
          "Analgesics",
          "Analgesics",
          "Dermatology",
          "Dermatology",
          "Nutritionals",
          "Cardio",
          "Nutritionals",
          "Dermatology",
          "Analgesics",
          "Analgesics",
          "Nutritionals",
          "Analgesics",
          "Nutritionals",
          "Dermatology",
          "Cardio",
          "Analgesics",
          "Analgesics",
          "Nutritionals",
          "Nutritionals",
          "Dermatology",
          "Analgesics",
          "Dermatology",
          "Dermatology",
          "Analgesics",
          "Nutritionals",
          "Nutritionals",
          "Analgesics",
          "Nutritionals",
          "Nutritionals",
          "Dermatology",
          "Dermatology",
          "Dermatology",
          "Analgesics",
          "Dermatology",
          "Dermatology",
          "Analgesics",
          "Analgesics",
          "Analgesics",
          "Analgesics",
          "Analgesics",
          "Analgesics",
          "Digestive Health",
          "Analgesics",
          "Dermatology",
          "Analgesics",
          "Analgesics",
          "Analgesics",
          "Cardio",
          "Digestive Health",
          "Digestive Health",
          "Analgesics",
          "Analgesics",
          "Dermatology",
          "Digestive Health",
          "Analgesics",
          "Cardio",
          "Dermatology",
          "Analgesics",
          "Nutritionals",
          "Dermatology",
          "Cough & Cold",
          "Nutritionals",
          "Nutritionals",
          "Dermatology",
          "Dermatology",
          "Dermatology",
          "Nutritionals",
          "Digestive Health",
          "Digestive Health",
          "Digestive Health",
          "Digestive Health",
          "Nutritionals",
          "Digestive Health",
          "Nutritionals",
          "Digestive Health",
          "Digestive Health",
          "Digestive Health",
          "Analgesics",
          "Dermatology",
          "Dermatology",
          "Dermatology",
          "Nutritionals",
          "Dermatology",
          "Dermatology",
          "Nutritionals",
          "Analgesics",
          "Cough & Cold",
          "Cough & Cold",
          "Dermatology",
          "Dermatology",
          "Nutritionals",
          "Nutritionals",
          "Cough & Cold",
          "Dermatology",
          "Dermatology",
          "Dermatology",
          "Dermatology",
          "Nutritionals",
          "Analgesics",
          "Analgesics",
          "Nutritionals",
          "Dermatology",
          "Cough & Cold",
          "Cough & Cold",
          "Cough & Cold",
          "Nutritionals",
          "Dermatology",
          "Nutritionals",
          "Dermatology",
          "Nutritionals",
          "Nutritionals",
          "Nutritionals",
          "Dermatology",
          "Analgesics",
          "Analgesics",
          "Analgesics",
          "Allergy",
          "Dermatology",
          "Nutritionals",
          "Nutritionals",
          "Nutritionals",
          "Nutritionals",
          "Digestive Health",
          "Analgesics",
          "Dermatology",
          "Dermatology",
          "Dermatology",
          "Dermatology",
          "Dermatology",
          "Nutritionals",
          "Analgesics",
          "Dermatology",
          "Nutritionals",
          "Nutritionals",
          "Nutritionals",
          "Allergy",
          "Allergy",
          "Nutritionals",
          "Analgesics",
          "Nutritionals",
          "Analgesics",
          "Nutritionals",
          "Nutritionals",
          "Analgesics",
          "Analgesics",
          "Analgesics",
          "Cardio",
          "Analgesics",
          "Dermatology",
          "Cough & Cold",
          "Cough & Cold",
          "Dermatology",
          "Analgesics",
          "Cough & Cold",
          "Cough & Cold",
          "Allergy",
          "Nutritionals",
          "Nutritionals",
          "Dermatology",
          "Nutritionals",
          "Cardio",
          "Nutritionals",
          "Analgesics",
          "Nutritionals",
          "Nutritionals",
          "Dermatology",
          "Cough & Cold",
          "Nutritionals",
          "Dermatology",
          "Dermatology",
          "Dermatology",
          "Cough & Cold",
          "Nutritionals",
          "Nutritionals",
          "Nutritionals",
          "Analgesics",
          "Nutritionals",
          "Dermatology",
          "Nutritionals",
          "Nutritionals",
          "Analgesics",
          "Analgesics",
          "Nutritionals",
          "Cough & Cold",
          "Cough & Cold",
          "Nutritionals",
          "Nutritionals",
          "Analgesics",
          "Nutritionals",
          "Analgesics",
          "Cough & Cold",
          "Allergy",
          "Analgesics",
          "Cough & Cold",
          "Allergy",
          "Cough & Cold",
          "Dermatology",
          "Nutritionals",
          "Cough & Cold",
          "Nutritionals",
          "Analgesics",
          "Dermatology",
          "Analgesics",
          "Cough & Cold",
          "Cough & Cold",
          "Analgesics",
          "Dermatology",
          "Nutritionals",
          "Allergy",
          "Nutritionals",
          "Dermatology",
          "Analgesics",
          "Analgesics",
          "Nutritionals",
          "Allergy",
          "Analgesics",
          "Analgesics",
          "Dermatology",
          "Nutritionals",
          "Dermatology",
          "Nutritionals",
          "Cough & Cold",
          "Cough & Cold",
          "Dermatology",
          "Analgesics",
          "Analgesics",
          "Cardio",
          "Cardio",
          "Cardio",
          "Analgesics",
          "Analgesics",
          "Analgesics",
          "Analgesics",
          "Digestive Health",
          "Analgesics",
          "Cough & Cold",
          "Dermatology",
          "Dermatology",
          "Cough & Cold",
          "Digestive Health",
          "Digestive Health",
          "Digestive Health",
          "Dermatology",
          "Allergy",
          "Analgesics",
          "Analgesics",
          "Analgesics",
          "Nutritionals",
          "Digestive Health",
          "Digestive Health",
          "Analgesics",
          "Digestive Health",
          "Analgesics",
          "Digestive Health",
          "Nutritionals",
          "Dermatology",
          "Digestive Health",
          "Analgesics",
          "Digestive Health",
          "Nutritionals",
          "Dermatology",
          "Dermatology",
          "Dermatology",
          "Dermatology",
          "Dermatology",
          "Dermatology",
          "Analgesics",
          "Cough & Cold",
          "Analgesics",
          "Analgesics",
          "Nutritionals",
          "Analgesics",
          "Dermatology",
          "Dermatology",
          "Analgesics",
          "Analgesics",
          "Analgesics",
          "Cardio",
          "Analgesics",
          "Analgesics",
          "Analgesics",
          "Cough & Cold",
          "Analgesics",
          "Dermatology",
          "Dermatology",
          "Dermatology",
          "Dermatology",
          "Analgesics",
          "Analgesics",
          "Dermatology",
          "Nutritionals",
          "Dermatology",
          "Dermatology",
          "Dermatology",
          "Dermatology",
          "Dermatology",
          "Dermatology",
          "Dermatology",
          "Dermatology",
          "Dermatology",
          "Dermatology",
          "Nutritionals",
          "Analgesics",
          "Dermatology",
          "Dermatology",
          "Analgesics",
          "Analgesics",
          "Cough & Cold",
          "Analgesics",
          "Dermatology",
          "Analgesics",
          "Analgesics",
          "Analgesics",
          "Analgesics",
          "Analgesics",
          "Analgesics",
          "Analgesics",
          "Analgesics",
          "Analgesics",
          "Nutritionals",
          "Nutritionals",
          "Dermatology",
          "Allergy",
          "Cough & Cold",
          "Analgesics",
          "Cough & Cold",
          "Cough & Cold",
          "Allergy",
          "Allergy",
          "Allergy",
          "Dermatology",
          "Nutritionals",
          "Analgesics",
          "Analgesics",
          "Analgesics",
          "Nutritionals",
          "Analgesics",
          "Dermatology",
          "Digestive Health",
          "Cough & Cold",
          "Dermatology",
          "Nutritionals",
          "Nutritionals",
          "Nutritionals",
          "Nutritionals",
          "Dermatology",
          "Cough & Cold",
          "Cough & Cold",
          "Dermatology",
          "Dermatology",
          "Dermatology",
          "Dermatology",
          "Nutritionals",
          "Dermatology",
          "Dermatology",
          "Nutritionals",
          "Dermatology",
          "Dermatology",
          "Dermatology",
          "Cough & Cold",
          "Allergy",
          "Cough & Cold",
          "Cough & Cold",
          "Nutritionals",
          "Cough & Cold",
          "Cough & Cold",
          "Cough & Cold",
          "Cough & Cold",
          "Cough & Cold",
          "Digestive Health",
          "Dermatology",
          "Digestive Health",
          "Digestive Health",
          "Digestive Health",
          "Digestive Health",
          "Analgesics",
          "Analgesics",
          "Analgesics",
          "Cough & Cold",
          "Cough & Cold",
          "Dermatology",
          "Dermatology",
          "Digestive Health",
          "Analgesics",
          "Allergy",
          "Analgesics",
          "Analgesics",
          "Allergy",
          "Nutritionals",
          "Nutritionals",
          "Nutritionals",
          "Dermatology",
          "Cough & Cold",
          "Cardio",
          "Cardio",
          "Cardio",
          "Cardio",
          "Cardio",
          "Digestive Health",
          "Digestive Health",
          "Dermatology",
          "Dermatology",
          "Dermatology",
          "Dermatology",
          "Analgesics",
          "Analgesics",
          "Cough & Cold",
          "Analgesics",
          "Dermatology",
          "Dermatology",
          "Nutritionals",
          "Nutritionals",
          "Nutritionals",
          "Analgesics",
          "Dermatology",
          "Dermatology",
          "Nutritionals",
          "Dermatology",
          "Cough & Cold",
          "Dermatology",
          "Cardio",
          "Allergy",
          "Allergy",
          "Nutritionals",
          "Nutritionals",
          "Nutritionals",
          "Nutritionals",
          "Digestive Health",
          "Digestive Health",
          "Digestive Health",
          "Digestive Health",
          "Analgesics",
          "Nutritionals",
          "Dermatology",
          "Dermatology",
          "Cough & Cold",
          "Nutritionals",
          "Cough & Cold",
          "Cough & Cold",
          "Cough & Cold",
          "Cough & Cold",
          "Cough & Cold",
          "Cough & Cold",
          "Dermatology",
          "Digestive Health",
          "Dermatology",
          "Analgesics",
          "Dermatology",
          "Nutritionals",
          "Dermatology",
          "Allergy",
          "Cough & Cold",
          "Cough & Cold",
          "Cough & Cold",
          "Cough & Cold",
          "Cough & Cold",
          "Digestive Health",
          "Cardio",
          "Cough & Cold",
          "Dermatology",
          "Dermatology",
          "Nutritionals",
          "Dermatology",
          "Dermatology",
          "Dermatology",
          "Analgesics",
          "Cardio",
          "Cardio",
          "Cough & Cold",
          "Cough & Cold",
          "Cough & Cold",
          "Dermatology",
          "Cough & Cold",
          "Dermatology",
          "Dermatology",
          "Dermatology",
          "Dermatology",
          "Dermatology",
          "Analgesics",
          "Nutritionals",
          "Cough & Cold",
          "Analgesics",
          "Analgesics",
          "Analgesics",
          "Nutritionals",
          "Analgesics",
          "Analgesics",
          "Analgesics",
          "Analgesics",
          "Analgesics",
          "Digestive Health",
          "Allergy",
          "Nutritionals",
          "Nutritionals",
          "Analgesics",
          "Analgesics",
          "Dermatology",
          "Dermatology",
          "Analgesics",
          "Dermatology",
          "Dermatology",
          "Dermatology",
          "Dermatology",
          "Analgesics",
          "Analgesics",
          "Nutritionals",
          "Nutritionals",
          "Dermatology",
          "Dermatology",
          "Nutritionals",
          "Dermatology",
          "Dermatology",
          "Analgesics",
          "Cough & Cold",
          "Cough & Cold",
          "Dermatology",
          "Dermatology",
          "Nutritionals",
          "Nutritionals",
          "Nutritionals",
          "Analgesics",
          "Dermatology",
          "Dermatology",
          "Dermatology",
          "Dermatology",
          "Dermatology",
          "Digestive Health",
          "Dermatology",
          "Nutritionals",
          "Cough & Cold",
          "Dermatology",
          "Nutritionals",
          "Analgesics",
          "Dermatology",
          "Dermatology",
          "Digestive Health",
          "Dermatology"
         ],
         "xaxis": "x",
         "y": [
          1,
          1,
          1,
          1,
          1,
          1,
          1,
          1,
          1,
          1,
          1,
          1,
          1,
          1,
          1,
          1,
          1,
          1,
          1,
          1,
          1,
          1,
          1,
          1,
          1,
          1,
          1,
          1,
          1,
          1,
          1,
          1,
          1,
          1,
          1,
          1,
          1,
          1,
          1,
          1,
          1,
          1,
          1,
          1,
          1,
          1,
          1,
          1,
          1,
          1,
          1,
          1,
          1,
          1,
          1,
          1,
          1,
          1,
          1,
          1,
          1,
          1,
          1,
          1,
          1,
          1,
          1,
          1,
          1,
          1,
          1,
          1,
          1,
          1,
          1,
          1,
          1,
          1,
          1,
          1,
          1,
          1,
          1,
          1,
          1,
          1,
          1,
          1,
          1,
          1,
          1,
          1,
          1,
          1,
          1,
          1,
          1,
          1,
          1,
          1,
          1,
          1,
          1,
          1,
          1,
          1,
          1,
          1,
          1,
          1,
          1,
          1,
          1,
          1,
          1,
          1,
          1,
          1,
          1,
          1,
          1,
          1,
          1,
          1,
          1,
          1,
          1,
          1,
          1,
          1,
          1,
          1,
          1,
          1,
          1,
          1,
          1,
          1,
          1,
          1,
          1,
          1,
          1,
          1,
          1,
          1,
          1,
          1,
          1,
          1,
          1,
          1,
          1,
          1,
          1,
          1,
          1,
          1,
          1,
          1,
          1,
          1,
          1,
          1,
          1,
          1,
          1,
          1,
          1,
          1,
          1,
          1,
          1,
          1,
          1,
          1,
          1,
          1,
          1,
          1,
          1,
          1,
          1,
          1,
          1,
          1,
          1,
          1,
          1,
          1,
          1,
          1,
          1,
          1,
          1,
          1,
          1,
          1,
          1,
          1,
          1,
          1,
          1,
          1,
          1,
          1,
          1,
          1,
          1,
          1,
          1,
          1,
          1,
          1,
          1,
          1,
          1,
          1,
          1,
          1,
          1,
          1,
          1,
          1,
          1,
          1,
          1,
          1,
          1,
          1,
          1,
          1,
          1,
          1,
          1,
          1,
          1,
          1,
          1,
          1,
          1,
          1,
          1,
          1,
          1,
          1,
          1,
          1,
          1,
          1,
          1,
          1,
          1,
          1,
          1,
          1,
          1,
          1,
          1,
          1,
          1,
          1,
          1,
          1,
          1,
          1,
          1,
          1,
          1,
          1,
          1,
          1,
          1,
          1,
          1,
          1,
          1,
          1,
          1,
          1,
          1,
          1,
          1,
          1,
          1,
          1,
          1,
          1,
          1,
          1,
          1,
          1,
          1,
          1,
          1,
          1,
          1,
          1,
          1,
          1,
          1,
          1,
          1,
          1,
          1,
          1,
          1,
          1,
          1,
          1,
          1,
          1,
          1,
          1,
          1,
          1,
          1,
          1,
          1,
          1,
          1,
          1,
          1,
          1,
          1,
          1,
          1,
          1,
          1,
          1,
          1,
          1,
          1,
          1,
          1,
          1,
          1,
          1,
          1,
          1,
          1,
          1,
          1,
          1,
          1,
          1,
          1,
          1,
          1,
          1,
          1,
          1,
          1,
          1,
          1,
          1,
          1,
          1,
          1,
          1,
          1,
          1,
          1,
          1,
          1,
          1,
          1,
          1,
          1,
          1,
          1,
          1,
          1,
          1,
          1,
          1,
          1,
          1,
          1,
          1,
          1,
          1,
          1,
          1,
          1,
          1,
          1,
          1,
          1,
          1,
          1,
          1,
          1,
          1,
          1,
          1,
          1,
          1,
          1,
          1,
          1,
          1,
          1,
          1,
          1,
          1,
          1,
          1,
          1,
          1,
          1,
          1,
          1,
          1,
          1,
          1,
          1,
          1,
          1,
          1,
          1,
          1,
          1,
          1,
          1,
          1,
          1,
          1,
          1,
          1,
          1,
          1,
          1,
          1,
          1,
          1,
          1,
          1,
          1,
          1,
          1,
          1,
          1,
          1,
          1,
          1,
          1,
          1,
          1,
          1,
          1,
          1,
          1,
          1,
          1,
          1,
          1,
          1,
          1,
          1,
          1,
          1,
          1,
          1,
          1,
          1,
          1,
          1,
          1,
          1,
          1,
          1,
          1,
          1,
          1,
          1,
          1,
          1,
          1,
          1,
          1,
          1,
          1,
          1,
          1,
          1,
          1,
          1,
          1,
          1,
          1,
          1,
          1,
          1,
          1,
          1,
          1,
          1,
          1,
          1,
          1,
          1,
          1,
          1,
          1,
          1,
          1,
          1,
          1,
          1,
          1,
          1,
          1,
          1,
          1,
          1,
          1,
          1,
          1,
          1,
          1,
          1,
          1,
          1,
          1,
          1,
          1,
          1,
          1,
          1,
          1,
          1,
          1,
          1,
          1,
          1,
          1,
          1,
          1,
          1,
          1,
          1,
          1,
          1,
          1,
          1,
          1,
          1,
          1,
          1,
          1,
          1,
          1,
          1,
          1,
          1,
          1,
          1,
          1,
          1,
          1,
          1,
          1,
          1,
          1,
          1,
          1,
          1,
          1,
          1,
          1,
          1,
          1,
          1,
          1,
          1,
          1,
          1,
          1,
          1,
          1,
          1,
          1,
          1,
          1,
          1,
          1,
          1,
          1,
          1,
          1,
          1,
          1,
          1,
          1,
          1,
          1,
          1,
          1,
          1,
          1,
          1,
          1,
          1,
          1,
          1,
          1,
          1,
          1,
          1,
          1,
          1,
          1,
          1,
          1,
          1,
          1,
          1,
          1,
          1,
          1,
          1,
          1,
          1,
          1,
          1,
          1,
          1,
          1,
          1,
          1,
          1,
          1,
          1,
          1,
          1,
          1,
          1,
          1,
          1,
          1,
          1,
          1,
          1,
          1,
          1,
          1,
          1,
          1,
          1,
          1,
          1,
          1,
          1,
          1,
          1,
          1
         ],
         "yaxis": "y"
        }
       ],
       "layout": {
        "barmode": "relative",
        "legend": {
         "tracegroupgap": 0
        },
        "template": {
         "data": {
          "bar": [
           {
            "error_x": {
             "color": "#2a3f5f"
            },
            "error_y": {
             "color": "#2a3f5f"
            },
            "marker": {
             "line": {
              "color": "#E5ECF6",
              "width": 0.5
             },
             "pattern": {
              "fillmode": "overlay",
              "size": 10,
              "solidity": 0.2
             }
            },
            "type": "bar"
           }
          ],
          "barpolar": [
           {
            "marker": {
             "line": {
              "color": "#E5ECF6",
              "width": 0.5
             },
             "pattern": {
              "fillmode": "overlay",
              "size": 10,
              "solidity": 0.2
             }
            },
            "type": "barpolar"
           }
          ],
          "carpet": [
           {
            "aaxis": {
             "endlinecolor": "#2a3f5f",
             "gridcolor": "white",
             "linecolor": "white",
             "minorgridcolor": "white",
             "startlinecolor": "#2a3f5f"
            },
            "baxis": {
             "endlinecolor": "#2a3f5f",
             "gridcolor": "white",
             "linecolor": "white",
             "minorgridcolor": "white",
             "startlinecolor": "#2a3f5f"
            },
            "type": "carpet"
           }
          ],
          "choropleth": [
           {
            "colorbar": {
             "outlinewidth": 0,
             "ticks": ""
            },
            "type": "choropleth"
           }
          ],
          "contour": [
           {
            "colorbar": {
             "outlinewidth": 0,
             "ticks": ""
            },
            "colorscale": [
             [
              0,
              "#0d0887"
             ],
             [
              0.1111111111111111,
              "#46039f"
             ],
             [
              0.2222222222222222,
              "#7201a8"
             ],
             [
              0.3333333333333333,
              "#9c179e"
             ],
             [
              0.4444444444444444,
              "#bd3786"
             ],
             [
              0.5555555555555556,
              "#d8576b"
             ],
             [
              0.6666666666666666,
              "#ed7953"
             ],
             [
              0.7777777777777778,
              "#fb9f3a"
             ],
             [
              0.8888888888888888,
              "#fdca26"
             ],
             [
              1,
              "#f0f921"
             ]
            ],
            "type": "contour"
           }
          ],
          "contourcarpet": [
           {
            "colorbar": {
             "outlinewidth": 0,
             "ticks": ""
            },
            "type": "contourcarpet"
           }
          ],
          "heatmap": [
           {
            "colorbar": {
             "outlinewidth": 0,
             "ticks": ""
            },
            "colorscale": [
             [
              0,
              "#0d0887"
             ],
             [
              0.1111111111111111,
              "#46039f"
             ],
             [
              0.2222222222222222,
              "#7201a8"
             ],
             [
              0.3333333333333333,
              "#9c179e"
             ],
             [
              0.4444444444444444,
              "#bd3786"
             ],
             [
              0.5555555555555556,
              "#d8576b"
             ],
             [
              0.6666666666666666,
              "#ed7953"
             ],
             [
              0.7777777777777778,
              "#fb9f3a"
             ],
             [
              0.8888888888888888,
              "#fdca26"
             ],
             [
              1,
              "#f0f921"
             ]
            ],
            "type": "heatmap"
           }
          ],
          "heatmapgl": [
           {
            "colorbar": {
             "outlinewidth": 0,
             "ticks": ""
            },
            "colorscale": [
             [
              0,
              "#0d0887"
             ],
             [
              0.1111111111111111,
              "#46039f"
             ],
             [
              0.2222222222222222,
              "#7201a8"
             ],
             [
              0.3333333333333333,
              "#9c179e"
             ],
             [
              0.4444444444444444,
              "#bd3786"
             ],
             [
              0.5555555555555556,
              "#d8576b"
             ],
             [
              0.6666666666666666,
              "#ed7953"
             ],
             [
              0.7777777777777778,
              "#fb9f3a"
             ],
             [
              0.8888888888888888,
              "#fdca26"
             ],
             [
              1,
              "#f0f921"
             ]
            ],
            "type": "heatmapgl"
           }
          ],
          "histogram": [
           {
            "marker": {
             "pattern": {
              "fillmode": "overlay",
              "size": 10,
              "solidity": 0.2
             }
            },
            "type": "histogram"
           }
          ],
          "histogram2d": [
           {
            "colorbar": {
             "outlinewidth": 0,
             "ticks": ""
            },
            "colorscale": [
             [
              0,
              "#0d0887"
             ],
             [
              0.1111111111111111,
              "#46039f"
             ],
             [
              0.2222222222222222,
              "#7201a8"
             ],
             [
              0.3333333333333333,
              "#9c179e"
             ],
             [
              0.4444444444444444,
              "#bd3786"
             ],
             [
              0.5555555555555556,
              "#d8576b"
             ],
             [
              0.6666666666666666,
              "#ed7953"
             ],
             [
              0.7777777777777778,
              "#fb9f3a"
             ],
             [
              0.8888888888888888,
              "#fdca26"
             ],
             [
              1,
              "#f0f921"
             ]
            ],
            "type": "histogram2d"
           }
          ],
          "histogram2dcontour": [
           {
            "colorbar": {
             "outlinewidth": 0,
             "ticks": ""
            },
            "colorscale": [
             [
              0,
              "#0d0887"
             ],
             [
              0.1111111111111111,
              "#46039f"
             ],
             [
              0.2222222222222222,
              "#7201a8"
             ],
             [
              0.3333333333333333,
              "#9c179e"
             ],
             [
              0.4444444444444444,
              "#bd3786"
             ],
             [
              0.5555555555555556,
              "#d8576b"
             ],
             [
              0.6666666666666666,
              "#ed7953"
             ],
             [
              0.7777777777777778,
              "#fb9f3a"
             ],
             [
              0.8888888888888888,
              "#fdca26"
             ],
             [
              1,
              "#f0f921"
             ]
            ],
            "type": "histogram2dcontour"
           }
          ],
          "mesh3d": [
           {
            "colorbar": {
             "outlinewidth": 0,
             "ticks": ""
            },
            "type": "mesh3d"
           }
          ],
          "parcoords": [
           {
            "line": {
             "colorbar": {
              "outlinewidth": 0,
              "ticks": ""
             }
            },
            "type": "parcoords"
           }
          ],
          "pie": [
           {
            "automargin": true,
            "type": "pie"
           }
          ],
          "scatter": [
           {
            "fillpattern": {
             "fillmode": "overlay",
             "size": 10,
             "solidity": 0.2
            },
            "type": "scatter"
           }
          ],
          "scatter3d": [
           {
            "line": {
             "colorbar": {
              "outlinewidth": 0,
              "ticks": ""
             }
            },
            "marker": {
             "colorbar": {
              "outlinewidth": 0,
              "ticks": ""
             }
            },
            "type": "scatter3d"
           }
          ],
          "scattercarpet": [
           {
            "marker": {
             "colorbar": {
              "outlinewidth": 0,
              "ticks": ""
             }
            },
            "type": "scattercarpet"
           }
          ],
          "scattergeo": [
           {
            "marker": {
             "colorbar": {
              "outlinewidth": 0,
              "ticks": ""
             }
            },
            "type": "scattergeo"
           }
          ],
          "scattergl": [
           {
            "marker": {
             "colorbar": {
              "outlinewidth": 0,
              "ticks": ""
             }
            },
            "type": "scattergl"
           }
          ],
          "scattermapbox": [
           {
            "marker": {
             "colorbar": {
              "outlinewidth": 0,
              "ticks": ""
             }
            },
            "type": "scattermapbox"
           }
          ],
          "scatterpolar": [
           {
            "marker": {
             "colorbar": {
              "outlinewidth": 0,
              "ticks": ""
             }
            },
            "type": "scatterpolar"
           }
          ],
          "scatterpolargl": [
           {
            "marker": {
             "colorbar": {
              "outlinewidth": 0,
              "ticks": ""
             }
            },
            "type": "scatterpolargl"
           }
          ],
          "scatterternary": [
           {
            "marker": {
             "colorbar": {
              "outlinewidth": 0,
              "ticks": ""
             }
            },
            "type": "scatterternary"
           }
          ],
          "surface": [
           {
            "colorbar": {
             "outlinewidth": 0,
             "ticks": ""
            },
            "colorscale": [
             [
              0,
              "#0d0887"
             ],
             [
              0.1111111111111111,
              "#46039f"
             ],
             [
              0.2222222222222222,
              "#7201a8"
             ],
             [
              0.3333333333333333,
              "#9c179e"
             ],
             [
              0.4444444444444444,
              "#bd3786"
             ],
             [
              0.5555555555555556,
              "#d8576b"
             ],
             [
              0.6666666666666666,
              "#ed7953"
             ],
             [
              0.7777777777777778,
              "#fb9f3a"
             ],
             [
              0.8888888888888888,
              "#fdca26"
             ],
             [
              1,
              "#f0f921"
             ]
            ],
            "type": "surface"
           }
          ],
          "table": [
           {
            "cells": {
             "fill": {
              "color": "#EBF0F8"
             },
             "line": {
              "color": "white"
             }
            },
            "header": {
             "fill": {
              "color": "#C8D4E3"
             },
             "line": {
              "color": "white"
             }
            },
            "type": "table"
           }
          ]
         },
         "layout": {
          "annotationdefaults": {
           "arrowcolor": "#2a3f5f",
           "arrowhead": 0,
           "arrowwidth": 1
          },
          "autotypenumbers": "strict",
          "coloraxis": {
           "colorbar": {
            "outlinewidth": 0,
            "ticks": ""
           }
          },
          "colorscale": {
           "diverging": [
            [
             0,
             "#8e0152"
            ],
            [
             0.1,
             "#c51b7d"
            ],
            [
             0.2,
             "#de77ae"
            ],
            [
             0.3,
             "#f1b6da"
            ],
            [
             0.4,
             "#fde0ef"
            ],
            [
             0.5,
             "#f7f7f7"
            ],
            [
             0.6,
             "#e6f5d0"
            ],
            [
             0.7,
             "#b8e186"
            ],
            [
             0.8,
             "#7fbc41"
            ],
            [
             0.9,
             "#4d9221"
            ],
            [
             1,
             "#276419"
            ]
           ],
           "sequential": [
            [
             0,
             "#0d0887"
            ],
            [
             0.1111111111111111,
             "#46039f"
            ],
            [
             0.2222222222222222,
             "#7201a8"
            ],
            [
             0.3333333333333333,
             "#9c179e"
            ],
            [
             0.4444444444444444,
             "#bd3786"
            ],
            [
             0.5555555555555556,
             "#d8576b"
            ],
            [
             0.6666666666666666,
             "#ed7953"
            ],
            [
             0.7777777777777778,
             "#fb9f3a"
            ],
            [
             0.8888888888888888,
             "#fdca26"
            ],
            [
             1,
             "#f0f921"
            ]
           ],
           "sequentialminus": [
            [
             0,
             "#0d0887"
            ],
            [
             0.1111111111111111,
             "#46039f"
            ],
            [
             0.2222222222222222,
             "#7201a8"
            ],
            [
             0.3333333333333333,
             "#9c179e"
            ],
            [
             0.4444444444444444,
             "#bd3786"
            ],
            [
             0.5555555555555556,
             "#d8576b"
            ],
            [
             0.6666666666666666,
             "#ed7953"
            ],
            [
             0.7777777777777778,
             "#fb9f3a"
            ],
            [
             0.8888888888888888,
             "#fdca26"
            ],
            [
             1,
             "#f0f921"
            ]
           ]
          },
          "colorway": [
           "#636efa",
           "#EF553B",
           "#00cc96",
           "#ab63fa",
           "#FFA15A",
           "#19d3f3",
           "#FF6692",
           "#B6E880",
           "#FF97FF",
           "#FECB52"
          ],
          "font": {
           "color": "#2a3f5f"
          },
          "geo": {
           "bgcolor": "white",
           "lakecolor": "white",
           "landcolor": "#E5ECF6",
           "showlakes": true,
           "showland": true,
           "subunitcolor": "white"
          },
          "hoverlabel": {
           "align": "left"
          },
          "hovermode": "closest",
          "mapbox": {
           "style": "light"
          },
          "paper_bgcolor": "white",
          "plot_bgcolor": "#E5ECF6",
          "polar": {
           "angularaxis": {
            "gridcolor": "white",
            "linecolor": "white",
            "ticks": ""
           },
           "bgcolor": "#E5ECF6",
           "radialaxis": {
            "gridcolor": "white",
            "linecolor": "white",
            "ticks": ""
           }
          },
          "scene": {
           "xaxis": {
            "backgroundcolor": "#E5ECF6",
            "gridcolor": "white",
            "gridwidth": 2,
            "linecolor": "white",
            "showbackground": true,
            "ticks": "",
            "zerolinecolor": "white"
           },
           "yaxis": {
            "backgroundcolor": "#E5ECF6",
            "gridcolor": "white",
            "gridwidth": 2,
            "linecolor": "white",
            "showbackground": true,
            "ticks": "",
            "zerolinecolor": "white"
           },
           "zaxis": {
            "backgroundcolor": "#E5ECF6",
            "gridcolor": "white",
            "gridwidth": 2,
            "linecolor": "white",
            "showbackground": true,
            "ticks": "",
            "zerolinecolor": "white"
           }
          },
          "shapedefaults": {
           "line": {
            "color": "#2a3f5f"
           }
          },
          "ternary": {
           "aaxis": {
            "gridcolor": "white",
            "linecolor": "white",
            "ticks": ""
           },
           "baxis": {
            "gridcolor": "white",
            "linecolor": "white",
            "ticks": ""
           },
           "bgcolor": "#E5ECF6",
           "caxis": {
            "gridcolor": "white",
            "linecolor": "white",
            "ticks": ""
           }
          },
          "title": {
           "x": 0.05
          },
          "xaxis": {
           "automargin": true,
           "gridcolor": "white",
           "linecolor": "white",
           "ticks": "",
           "title": {
            "standoff": 15
           },
           "zerolinecolor": "white",
           "zerolinewidth": 2
          },
          "yaxis": {
           "automargin": true,
           "gridcolor": "white",
           "linecolor": "white",
           "ticks": "",
           "title": {
            "standoff": 15
           },
           "zerolinecolor": "white",
           "zerolinewidth": 2
          }
         }
        },
        "title": {
         "text": "Productos vendidos en México por categoría"
        },
        "xaxis": {
         "anchor": "y",
         "domain": [
          0,
          1
         ],
         "title": {
          "text": "Category"
         }
        },
        "yaxis": {
         "anchor": "x",
         "domain": [
          0,
          1
         ],
         "title": {
          "text": "count"
         }
        }
       }
      }
     },
     "metadata": {},
     "output_type": "display_data"
    }
   ],
   "source": [
    "import plotly.express as px\n",
    "# Colores de la marca\n",
    "bayer_colors = ['#56D500', '#00314E', '#01BEFF']\n",
    "fig = px.bar(category_df, x='Category', title=\"Productos vendidos en México por categoría\", color_discrete_sequence=bayer_colors)\n",
    "fig.show()\n"
   ]
  },
  {
   "cell_type": "code",
   "execution_count": null,
   "metadata": {},
   "outputs": [
    {
     "data": {
      "text/plain": [
       "0      0\n",
       "1      0\n",
       "2      0\n",
       "3      0\n",
       "4      0\n",
       "      ..\n",
       "652    0\n",
       "653    0\n",
       "654    0\n",
       "655    1\n",
       "656    0\n",
       "Name: Mexico [MX], Length: 657, dtype: int64"
      ]
     },
     "execution_count": 72,
     "metadata": {},
     "output_type": "execute_result"
    }
   ],
   "source": [
    "bayer_df_countries['Mexico [MX]']"
   ]
  },
  {
   "cell_type": "markdown",
   "metadata": {},
   "source": [
    "## Ahora,vamos a calcular el crecimiento de ventas de los productos comercializados en México, de los ultimos tres años, basándonos en las columnas de volumen de ventas (\"Volume 2\", \"Volume 3\" y \"Voolume4\"). Para simplificar, trabajaremos con los 5 productos que mas crecimiento han tenido "
   ]
  },
  {
   "cell_type": "code",
   "execution_count": 63,
   "metadata": {},
   "outputs": [
    {
     "data": {
      "text/plain": [
       "Index(['Number', 'Material Description (Name)',\n",
       "       'Number (Relationships.Formulation.Title Block)',\n",
       "       'SBU Category (Relationships.Formulation.Formulation Attributes)',\n",
       "       'Marketed Countries (Page Three)', 'Country lead cluster',\n",
       "       'Primary Pack Type (Page Three)', 'FG Pack Size (Page Three)',\n",
       "       'FG Pack Size UoM (Page Three)', 'SBU Category', 'Brand', 'UI',\n",
       "       'UI Description', 'Galenical form', 'Volume 4', 'Volume 3', 'Volume 2',\n",
       "       'Primary Pack Type (Page Three).1', 'FG Pack Size (Page Three).1',\n",
       "       'FG Pack Size UoM (Page Three).1', 'Antigua and Barbuda [AG]',\n",
       "       'Argentina [AR]', 'Aruba [AW]', 'Bahamas [BS]', 'Barbados [BB]',\n",
       "       'Belize [BZ]', 'Bermuda [BM]', 'Bolivia [BO]', 'Brazil [BR]',\n",
       "       'Cayman Islands [KY]', 'Chile [CL]', 'Colombia [CO]', 'Costa Rica [CR]',\n",
       "       'Curaçao [CW]', 'Dom. Rep.[DO]', 'Dominica [DM]', 'Ecuador [EC]',\n",
       "       'El Salvador [SV]', 'Guatemala [GT]', 'Guyana [GY]', 'Haiti [HT]',\n",
       "       'Honduras [HN]', 'Hong Kong [HK]', 'Jamaica [JM]', 'Mexico [MX]',\n",
       "       'Netherlands Antilles [AN]', 'Nicaragua [NI]', 'Panama [PA]',\n",
       "       'Paraguay [PY]', 'Peru [PE]', 'Saint Lucia [LC]', 'Sint Maarten [SX]',\n",
       "       'Suriname [SR]', 'Trinidad and Tobago [TT]', 'Uruguay [UY]',\n",
       "       'Venezuela [VE]'],\n",
       "      dtype='object')"
      ]
     },
     "execution_count": 63,
     "metadata": {},
     "output_type": "execute_result"
    }
   ],
   "source": [
    "bayer_df_countries.columns"
   ]
  },
  {
   "cell_type": "code",
   "execution_count": 64,
   "metadata": {},
   "outputs": [],
   "source": [
    "countries_5 = bayer_df_countries"
   ]
  },
  {
   "cell_type": "code",
   "execution_count": 65,
   "metadata": {},
   "outputs": [
    {
     "data": {
      "text/html": [
       "<div>\n",
       "<style scoped>\n",
       "    .dataframe tbody tr th:only-of-type {\n",
       "        vertical-align: middle;\n",
       "    }\n",
       "\n",
       "    .dataframe tbody tr th {\n",
       "        vertical-align: top;\n",
       "    }\n",
       "\n",
       "    .dataframe thead th {\n",
       "        text-align: right;\n",
       "    }\n",
       "</style>\n",
       "<table border=\"1\" class=\"dataframe\">\n",
       "  <thead>\n",
       "    <tr style=\"text-align: right;\">\n",
       "      <th></th>\n",
       "      <th>Number</th>\n",
       "      <th>Material Description (Name)</th>\n",
       "      <th>Number (Relationships.Formulation.Title Block)</th>\n",
       "      <th>SBU Category (Relationships.Formulation.Formulation Attributes)</th>\n",
       "      <th>Marketed Countries (Page Three)</th>\n",
       "      <th>Country lead cluster</th>\n",
       "      <th>Primary Pack Type (Page Three)</th>\n",
       "      <th>FG Pack Size (Page Three)</th>\n",
       "      <th>FG Pack Size UoM (Page Three)</th>\n",
       "      <th>SBU Category</th>\n",
       "      <th>...</th>\n",
       "      <th>Nicaragua [NI]</th>\n",
       "      <th>Panama [PA]</th>\n",
       "      <th>Paraguay [PY]</th>\n",
       "      <th>Peru [PE]</th>\n",
       "      <th>Saint Lucia [LC]</th>\n",
       "      <th>Sint Maarten [SX]</th>\n",
       "      <th>Suriname [SR]</th>\n",
       "      <th>Trinidad and Tobago [TT]</th>\n",
       "      <th>Uruguay [UY]</th>\n",
       "      <th>Venezuela [VE]</th>\n",
       "    </tr>\n",
       "  </thead>\n",
       "  <tbody>\n",
       "    <tr>\n",
       "      <th>0</th>\n",
       "      <td>10056107</td>\n",
       "      <td>REDOXON NA ef x10 BO/PY/UY</td>\n",
       "      <td>1600106</td>\n",
       "      <td>Nutritionals</td>\n",
       "      <td>Bolivia [BO];Uruguay [UY]</td>\n",
       "      <td>Other Conosur</td>\n",
       "      <td>Tube Rigid</td>\n",
       "      <td>10.0</td>\n",
       "      <td>Piece [PCE]</td>\n",
       "      <td>Nutritionals</td>\n",
       "      <td>...</td>\n",
       "      <td>0</td>\n",
       "      <td>0</td>\n",
       "      <td>0</td>\n",
       "      <td>0</td>\n",
       "      <td>0</td>\n",
       "      <td>0</td>\n",
       "      <td>0</td>\n",
       "      <td>0</td>\n",
       "      <td>1</td>\n",
       "      <td>0</td>\n",
       "    </tr>\n",
       "    <tr>\n",
       "      <th>1</th>\n",
       "      <td>10056110</td>\n",
       "      <td>REDOXON LI ef x10 AR/BO/PY</td>\n",
       "      <td>1600105</td>\n",
       "      <td>Nutritionals</td>\n",
       "      <td>Argentina [AR];Bolivia [BO];Paraguay [PY]</td>\n",
       "      <td>Argentina</td>\n",
       "      <td>Tube Rigid</td>\n",
       "      <td>10.0</td>\n",
       "      <td>Piece [PCE]</td>\n",
       "      <td>Nutritionals</td>\n",
       "      <td>...</td>\n",
       "      <td>0</td>\n",
       "      <td>0</td>\n",
       "      <td>1</td>\n",
       "      <td>0</td>\n",
       "      <td>0</td>\n",
       "      <td>0</td>\n",
       "      <td>0</td>\n",
       "      <td>0</td>\n",
       "      <td>0</td>\n",
       "      <td>0</td>\n",
       "    </tr>\n",
       "  </tbody>\n",
       "</table>\n",
       "<p>2 rows × 56 columns</p>\n",
       "</div>"
      ],
      "text/plain": [
       "     Number Material Description (Name)  \\\n",
       "0  10056107  REDOXON NA ef x10 BO/PY/UY   \n",
       "1  10056110  REDOXON LI ef x10 AR/BO/PY   \n",
       "\n",
       "   Number (Relationships.Formulation.Title Block)  \\\n",
       "0                                         1600106   \n",
       "1                                         1600105   \n",
       "\n",
       "  SBU Category (Relationships.Formulation.Formulation Attributes)  \\\n",
       "0                                       Nutritionals                \n",
       "1                                       Nutritionals                \n",
       "\n",
       "             Marketed Countries (Page Three) Country lead cluster  \\\n",
       "0                  Bolivia [BO];Uruguay [UY]        Other Conosur   \n",
       "1  Argentina [AR];Bolivia [BO];Paraguay [PY]            Argentina   \n",
       "\n",
       "  Primary Pack Type (Page Three)  FG Pack Size (Page Three)  \\\n",
       "0                     Tube Rigid                       10.0   \n",
       "1                     Tube Rigid                       10.0   \n",
       "\n",
       "  FG Pack Size UoM (Page Three)  SBU Category  ... Nicaragua [NI]  \\\n",
       "0                   Piece [PCE]  Nutritionals  ...              0   \n",
       "1                   Piece [PCE]  Nutritionals  ...              0   \n",
       "\n",
       "   Panama [PA] Paraguay [PY] Peru [PE] Saint Lucia [LC] Sint Maarten [SX]  \\\n",
       "0            0             0         0                0                 0   \n",
       "1            0             1         0                0                 0   \n",
       "\n",
       "  Suriname [SR] Trinidad and Tobago [TT]  Uruguay [UY] Venezuela [VE]  \n",
       "0             0                        0             1              0  \n",
       "1             0                        0             0              0  \n",
       "\n",
       "[2 rows x 56 columns]"
      ]
     },
     "execution_count": 65,
     "metadata": {},
     "output_type": "execute_result"
    }
   ],
   "source": [
    "countries_5.head(2)"
   ]
  },
  {
   "cell_type": "code",
   "execution_count": 66,
   "metadata": {},
   "outputs": [],
   "source": [
    "#countries_5.drop(columns=['Guyana [GY]', 'Haiti [HT]',\n",
    "       #'Honduras [HN]', 'Hong Kong [HK]', 'Jamaica [JM]', 'Netherlands Antilles [AN]', 'Nicaragua [NI]', 'Panama [PA]',\n",
    "       #'Paraguay [PY]', 'Peru [PE]', 'Saint Lucia [LC]', 'Sint Maarten [SX]',\n",
    "       #'Suriname [SR]', 'Trinidad and Tobago [TT]', 'Uruguay [UY]',\n",
    "       #'Venezuela [VE]', 'Antigua and Barbuda [AG]',\n",
    "       #'Argentina [AR]', 'Aruba [AW]', 'Bahamas [BS]', 'Barbados [BB]',\n",
    "       #'Belize [BZ]', 'Bermuda [BM]', 'Bolivia [BO]', 'Brazil [BR]',\n",
    "       #'Cayman Islands [KY]', 'Chile [CL]',], inplace=True)"
   ]
  },
  {
   "cell_type": "code",
   "execution_count": 67,
   "metadata": {},
   "outputs": [
    {
     "data": {
      "text/plain": [
       "Index(['Number', 'Material Description (Name)',\n",
       "       'Number (Relationships.Formulation.Title Block)',\n",
       "       'SBU Category (Relationships.Formulation.Formulation Attributes)',\n",
       "       'Marketed Countries (Page Three)', 'Country lead cluster',\n",
       "       'Primary Pack Type (Page Three)', 'FG Pack Size (Page Three)',\n",
       "       'FG Pack Size UoM (Page Three)', 'SBU Category', 'Brand', 'UI',\n",
       "       'UI Description', 'Galenical form', 'Volume 4', 'Volume 3', 'Volume 2',\n",
       "       'Primary Pack Type (Page Three).1', 'FG Pack Size (Page Three).1',\n",
       "       'FG Pack Size UoM (Page Three).1', 'Colombia [CO]', 'Costa Rica [CR]',\n",
       "       'Curaçao [CW]', 'Dom. Rep.[DO]', 'Dominica [DM]', 'Ecuador [EC]',\n",
       "       'El Salvador [SV]', 'Guatemala [GT]', 'Mexico [MX]'],\n",
       "      dtype='object')"
      ]
     },
     "execution_count": 67,
     "metadata": {},
     "output_type": "execute_result"
    }
   ],
   "source": [
    "countries_5.columns"
   ]
  },
  {
   "cell_type": "code",
   "execution_count": 68,
   "metadata": {},
   "outputs": [],
   "source": [
    "#countries_5.drop(columns= ['Ecuador [EC]', 'Curaçao [CW]','Dom. Rep.[DO]', 'Dominica [DM]'], inplace=True)"
   ]
  },
  {
   "cell_type": "code",
   "execution_count": 69,
   "metadata": {},
   "outputs": [],
   "source": [
    "#countries_5.drop(columns=['Primary Pack Type (Page Three)', 'FG Pack Size (Page Three)',\n",
    "       #'FG Pack Size UoM (Page Three)', 'SBU Category','Primary Pack Type (Page Three).1', 'FG Pack Size (Page Three).1',\n",
    "       #'FG Pack Size UoM (Page Three)'], inplace=True)"
   ]
  },
  {
   "cell_type": "code",
   "execution_count": 70,
   "metadata": {},
   "outputs": [
    {
     "data": {
      "text/html": [
       "<div>\n",
       "<style scoped>\n",
       "    .dataframe tbody tr th:only-of-type {\n",
       "        vertical-align: middle;\n",
       "    }\n",
       "\n",
       "    .dataframe tbody tr th {\n",
       "        vertical-align: top;\n",
       "    }\n",
       "\n",
       "    .dataframe thead th {\n",
       "        text-align: right;\n",
       "    }\n",
       "</style>\n",
       "<table border=\"1\" class=\"dataframe\">\n",
       "  <thead>\n",
       "    <tr style=\"text-align: right;\">\n",
       "      <th></th>\n",
       "      <th>Number</th>\n",
       "      <th>Material Description (Name)</th>\n",
       "      <th>Number (Relationships.Formulation.Title Block)</th>\n",
       "      <th>SBU Category (Relationships.Formulation.Formulation Attributes)</th>\n",
       "      <th>Marketed Countries (Page Three)</th>\n",
       "      <th>Country lead cluster</th>\n",
       "      <th>Brand</th>\n",
       "      <th>UI</th>\n",
       "      <th>UI Description</th>\n",
       "      <th>Galenical form</th>\n",
       "      <th>Volume 4</th>\n",
       "      <th>Volume 3</th>\n",
       "      <th>Volume 2</th>\n",
       "      <th>FG Pack Size UoM (Page Three).1</th>\n",
       "      <th>Colombia [CO]</th>\n",
       "      <th>Costa Rica [CR]</th>\n",
       "      <th>El Salvador [SV]</th>\n",
       "      <th>Guatemala [GT]</th>\n",
       "      <th>Mexico [MX]</th>\n",
       "    </tr>\n",
       "  </thead>\n",
       "  <tbody>\n",
       "    <tr>\n",
       "      <th>0</th>\n",
       "      <td>10056107</td>\n",
       "      <td>REDOXON NA ef x10 BO/PY/UY</td>\n",
       "      <td>1600106</td>\n",
       "      <td>Nutritionals</td>\n",
       "      <td>Bolivia [BO];Uruguay [UY]</td>\n",
       "      <td>Other Conosur</td>\n",
       "      <td>REDOXON</td>\n",
       "      <td>1600106</td>\n",
       "      <td>REDOXON Orange 1000 mg Effervescent Tablet</td>\n",
       "      <td>Solid|Tablet|Effervescent</td>\n",
       "      <td>85</td>\n",
       "      <td>164</td>\n",
       "      <td>197</td>\n",
       "      <td>Piece [PCE]</td>\n",
       "      <td>0</td>\n",
       "      <td>0</td>\n",
       "      <td>0</td>\n",
       "      <td>0</td>\n",
       "      <td>0</td>\n",
       "    </tr>\n",
       "    <tr>\n",
       "      <th>1</th>\n",
       "      <td>10056110</td>\n",
       "      <td>REDOXON LI ef x10 AR/BO/PY</td>\n",
       "      <td>1600105</td>\n",
       "      <td>Nutritionals</td>\n",
       "      <td>Argentina [AR];Bolivia [BO];Paraguay [PY]</td>\n",
       "      <td>Argentina</td>\n",
       "      <td>REDOXON</td>\n",
       "      <td>1600105</td>\n",
       "      <td>REDOXON 2000 mg Effervescent Tablet</td>\n",
       "      <td>Solid|Tablet|Effervescent</td>\n",
       "      <td>184</td>\n",
       "      <td>246</td>\n",
       "      <td>251</td>\n",
       "      <td>Piece [PCE]</td>\n",
       "      <td>0</td>\n",
       "      <td>0</td>\n",
       "      <td>0</td>\n",
       "      <td>0</td>\n",
       "      <td>0</td>\n",
       "    </tr>\n",
       "  </tbody>\n",
       "</table>\n",
       "</div>"
      ],
      "text/plain": [
       "     Number Material Description (Name)  \\\n",
       "0  10056107  REDOXON NA ef x10 BO/PY/UY   \n",
       "1  10056110  REDOXON LI ef x10 AR/BO/PY   \n",
       "\n",
       "   Number (Relationships.Formulation.Title Block)  \\\n",
       "0                                         1600106   \n",
       "1                                         1600105   \n",
       "\n",
       "  SBU Category (Relationships.Formulation.Formulation Attributes)  \\\n",
       "0                                       Nutritionals                \n",
       "1                                       Nutritionals                \n",
       "\n",
       "             Marketed Countries (Page Three) Country lead cluster    Brand  \\\n",
       "0                  Bolivia [BO];Uruguay [UY]        Other Conosur  REDOXON   \n",
       "1  Argentina [AR];Bolivia [BO];Paraguay [PY]            Argentina  REDOXON   \n",
       "\n",
       "        UI                              UI Description  \\\n",
       "0  1600106  REDOXON Orange 1000 mg Effervescent Tablet   \n",
       "1  1600105         REDOXON 2000 mg Effervescent Tablet   \n",
       "\n",
       "              Galenical form Volume 4 Volume 3 Volume 2  \\\n",
       "0  Solid|Tablet|Effervescent      85      164      197    \n",
       "1  Solid|Tablet|Effervescent     184      246      251    \n",
       "\n",
       "  FG Pack Size UoM (Page Three).1  Colombia [CO]  Costa Rica [CR]  \\\n",
       "0                     Piece [PCE]              0                0   \n",
       "1                     Piece [PCE]              0                0   \n",
       "\n",
       "   El Salvador [SV]  Guatemala [GT]  Mexico [MX]  \n",
       "0                 0               0            0  \n",
       "1                 0               0            0  "
      ]
     },
     "execution_count": 70,
     "metadata": {},
     "output_type": "execute_result"
    }
   ],
   "source": [
    "countries_5.head(2)"
   ]
  },
  {
   "cell_type": "code",
   "execution_count": 73,
   "metadata": {},
   "outputs": [
    {
     "data": {
      "text/html": [
       "<div>\n",
       "<style scoped>\n",
       "    .dataframe tbody tr th:only-of-type {\n",
       "        vertical-align: middle;\n",
       "    }\n",
       "\n",
       "    .dataframe tbody tr th {\n",
       "        vertical-align: top;\n",
       "    }\n",
       "\n",
       "    .dataframe thead th {\n",
       "        text-align: right;\n",
       "    }\n",
       "</style>\n",
       "<table border=\"1\" class=\"dataframe\">\n",
       "  <thead>\n",
       "    <tr style=\"text-align: right;\">\n",
       "      <th></th>\n",
       "      <th>Number</th>\n",
       "      <th>Material Description (Name)</th>\n",
       "      <th>SBU Category (Relationships.Formulation.Formulation Attributes)</th>\n",
       "      <th>Marketed Countries (Page Three)</th>\n",
       "      <th>Country lead cluster</th>\n",
       "      <th>Brand</th>\n",
       "      <th>UI</th>\n",
       "      <th>UI Description</th>\n",
       "      <th>Galenical form</th>\n",
       "      <th>Volume 4</th>\n",
       "      <th>Volume 3</th>\n",
       "      <th>Volume 2</th>\n",
       "      <th>FG Pack Size UoM (Page Three).1</th>\n",
       "      <th>Colombia [CO]</th>\n",
       "      <th>Costa Rica [CR]</th>\n",
       "      <th>El Salvador [SV]</th>\n",
       "      <th>Guatemala [GT]</th>\n",
       "      <th>Mexico [MX]</th>\n",
       "    </tr>\n",
       "  </thead>\n",
       "  <tbody>\n",
       "    <tr>\n",
       "      <th>0</th>\n",
       "      <td>10056107</td>\n",
       "      <td>REDOXON NA ef x10 BO/PY/UY</td>\n",
       "      <td>Nutritionals</td>\n",
       "      <td>Bolivia [BO];Uruguay [UY]</td>\n",
       "      <td>Other Conosur</td>\n",
       "      <td>REDOXON</td>\n",
       "      <td>1600106</td>\n",
       "      <td>REDOXON Orange 1000 mg Effervescent Tablet</td>\n",
       "      <td>Solid|Tablet|Effervescent</td>\n",
       "      <td>85</td>\n",
       "      <td>164</td>\n",
       "      <td>197</td>\n",
       "      <td>Piece [PCE]</td>\n",
       "      <td>0</td>\n",
       "      <td>0</td>\n",
       "      <td>0</td>\n",
       "      <td>0</td>\n",
       "      <td>0</td>\n",
       "    </tr>\n",
       "  </tbody>\n",
       "</table>\n",
       "</div>"
      ],
      "text/plain": [
       "     Number Material Description (Name)  \\\n",
       "0  10056107  REDOXON NA ef x10 BO/PY/UY   \n",
       "\n",
       "  SBU Category (Relationships.Formulation.Formulation Attributes)  \\\n",
       "0                                       Nutritionals                \n",
       "\n",
       "  Marketed Countries (Page Three) Country lead cluster    Brand       UI  \\\n",
       "0       Bolivia [BO];Uruguay [UY]        Other Conosur  REDOXON  1600106   \n",
       "\n",
       "                               UI Description             Galenical form  \\\n",
       "0  REDOXON Orange 1000 mg Effervescent Tablet  Solid|Tablet|Effervescent   \n",
       "\n",
       "  Volume 4 Volume 3 Volume 2 FG Pack Size UoM (Page Three).1  Colombia [CO]  \\\n",
       "0      85      164      197                      Piece [PCE]              0   \n",
       "\n",
       "   Costa Rica [CR]  El Salvador [SV]  Guatemala [GT]  Mexico [MX]  \n",
       "0                0                 0               0            0  "
      ]
     },
     "execution_count": 73,
     "metadata": {},
     "output_type": "execute_result"
    }
   ],
   "source": [
    "#countries_5.drop(columns=['Number (Relationships.Formulation.Title Block)'],inplace=True)\n",
    "countries_5.head(1)"
   ]
  },
  {
   "cell_type": "code",
   "execution_count": 74,
   "metadata": {},
   "outputs": [
    {
     "data": {
      "text/plain": [
       "(657, 18)"
      ]
     },
     "execution_count": 74,
     "metadata": {},
     "output_type": "execute_result"
    }
   ],
   "source": [
    "countries_5.shape"
   ]
  },
  {
   "cell_type": "code",
   "execution_count": 75,
   "metadata": {},
   "outputs": [
    {
     "data": {
      "text/plain": [
       "Index(['Number', 'Material Description (Name)',\n",
       "       'SBU Category (Relationships.Formulation.Formulation Attributes)',\n",
       "       'Marketed Countries (Page Three)', 'Country lead cluster', 'Brand',\n",
       "       'UI', 'UI Description', 'Galenical form', 'Volume 4', 'Volume 3',\n",
       "       'Volume 2', 'FG Pack Size UoM (Page Three).1', 'Colombia [CO]',\n",
       "       'Costa Rica [CR]', 'El Salvador [SV]', 'Guatemala [GT]', 'Mexico [MX]'],\n",
       "      dtype='object')"
      ]
     },
     "execution_count": 75,
     "metadata": {},
     "output_type": "execute_result"
    }
   ],
   "source": [
    "countries_5.columns"
   ]
  },
  {
   "cell_type": "markdown",
   "metadata": {},
   "source": [
    "## El primer objetivo específico que me he planteado **\"Identificar productos líderes en cada país.**  vamos a analizar la frecuencia de ventas de productos en estos países durante los últimos tres años. Para lograr esto, podemos utilizar las columnas \"Volume 2\", \"Volume 3\" y \"Volume 4\" del DataFrame \"countries_5\", donde \"Volume 2\" representa las ventas más antiguas y \"Volume 4\" las más recientes. Al mismo tiempo, creo que respondo al segundo obj: **Analisis de productos en tendencia**.\n",
    "\n",
    "    En la siguiente celda de código, creo mexico_data con los valores True de la col \"Mexico\" del df countries_5. Luego comparo los volumenes de venta y selecciono los productos con un mayor crecimiento con .nlargest()"
   ]
  },
  {
   "cell_type": "code",
   "execution_count": 80,
   "metadata": {},
   "outputs": [
    {
     "ename": "TypeError",
     "evalue": "unsupported operand type(s) for -: 'str' and 'str'",
     "output_type": "error",
     "traceback": [
      "\u001b[0;31m---------------------------------------------------------------------------\u001b[0m",
      "\u001b[0;31mTypeError\u001b[0m                                 Traceback (most recent call last)",
      "File \u001b[0;32m/Library/Frameworks/Python.framework/Versions/3.11/lib/python3.11/site-packages/pandas/core/ops/array_ops.py:220\u001b[0m, in \u001b[0;36m_na_arithmetic_op\u001b[0;34m(left, right, op, is_cmp)\u001b[0m\n\u001b[1;32m    219\u001b[0m \u001b[39mtry\u001b[39;00m:\n\u001b[0;32m--> 220\u001b[0m     result \u001b[39m=\u001b[39m func(left, right)\n\u001b[1;32m    221\u001b[0m \u001b[39mexcept\u001b[39;00m \u001b[39mTypeError\u001b[39;00m:\n",
      "File \u001b[0;32m/Library/Frameworks/Python.framework/Versions/3.11/lib/python3.11/site-packages/pandas/core/computation/expressions.py:242\u001b[0m, in \u001b[0;36mevaluate\u001b[0;34m(op, a, b, use_numexpr)\u001b[0m\n\u001b[1;32m    240\u001b[0m     \u001b[39mif\u001b[39;00m use_numexpr:\n\u001b[1;32m    241\u001b[0m         \u001b[39m# error: \"None\" not callable\u001b[39;00m\n\u001b[0;32m--> 242\u001b[0m         \u001b[39mreturn\u001b[39;00m _evaluate(op, op_str, a, b)  \u001b[39m# type: ignore[misc]\u001b[39;00m\n\u001b[1;32m    243\u001b[0m \u001b[39mreturn\u001b[39;00m _evaluate_standard(op, op_str, a, b)\n",
      "File \u001b[0;32m/Library/Frameworks/Python.framework/Versions/3.11/lib/python3.11/site-packages/pandas/core/computation/expressions.py:73\u001b[0m, in \u001b[0;36m_evaluate_standard\u001b[0;34m(op, op_str, a, b)\u001b[0m\n\u001b[1;32m     72\u001b[0m     _store_test_result(\u001b[39mFalse\u001b[39;00m)\n\u001b[0;32m---> 73\u001b[0m \u001b[39mreturn\u001b[39;00m op(a, b)\n",
      "\u001b[0;31mTypeError\u001b[0m: unsupported operand type(s) for -: 'str' and 'str'",
      "\nDuring handling of the above exception, another exception occurred:\n",
      "\u001b[0;31mTypeError\u001b[0m                                 Traceback (most recent call last)",
      "\u001b[1;32m/Users/julyetsi/Data Science VSCode/Carpeta_trabajo/eda_notebooks /cleaning_eda copy.ipynb Celda 94\u001b[0m line \u001b[0;36m5\n\u001b[1;32m      <a href='vscode-notebook-cell:/Users/julyetsi/Data%20Science%20VSCode/Carpeta_trabajo/eda_notebooks%20/cleaning_eda%20copy.ipynb#Y223sZmlsZQ%3D%3D?line=1'>2</a>\u001b[0m mexico_data \u001b[39m=\u001b[39m countries_5[countries_5[\u001b[39m'\u001b[39m\u001b[39mMexico [MX]\u001b[39m\u001b[39m'\u001b[39m] \u001b[39m==\u001b[39m \u001b[39m1\u001b[39m]\n\u001b[1;32m      <a href='vscode-notebook-cell:/Users/julyetsi/Data%20Science%20VSCode/Carpeta_trabajo/eda_notebooks%20/cleaning_eda%20copy.ipynb#Y223sZmlsZQ%3D%3D?line=3'>4</a>\u001b[0m \u001b[39m#calculams el crecimiento de ventas en los últimos tres años comparando volume4 con volume 2\u001b[39;00m\n\u001b[0;32m----> <a href='vscode-notebook-cell:/Users/julyetsi/Data%20Science%20VSCode/Carpeta_trabajo/eda_notebooks%20/cleaning_eda%20copy.ipynb#Y223sZmlsZQ%3D%3D?line=4'>5</a>\u001b[0m mexico_data[\u001b[39m'\u001b[39m\u001b[39mCrecimiento\u001b[39m\u001b[39m'\u001b[39m] \u001b[39m=\u001b[39m mexico_data[\u001b[39m'\u001b[39;49m\u001b[39mVolume 4\u001b[39;49m\u001b[39m'\u001b[39;49m] \u001b[39m-\u001b[39;49m mexico_data[\u001b[39m'\u001b[39;49m\u001b[39mVolume 2\u001b[39;49m\u001b[39m'\u001b[39;49m]\n\u001b[1;32m      <a href='vscode-notebook-cell:/Users/julyetsi/Data%20Science%20VSCode/Carpeta_trabajo/eda_notebooks%20/cleaning_eda%20copy.ipynb#Y223sZmlsZQ%3D%3D?line=6'>7</a>\u001b[0m \u001b[39m# Selecciona los 5 productos con el mayor crecimiento\u001b[39;00m\n\u001b[1;32m      <a href='vscode-notebook-cell:/Users/julyetsi/Data%20Science%20VSCode/Carpeta_trabajo/eda_notebooks%20/cleaning_eda%20copy.ipynb#Y223sZmlsZQ%3D%3D?line=7'>8</a>\u001b[0m top_products \u001b[39m=\u001b[39m mexico_data\u001b[39m.\u001b[39mnlargest(\u001b[39m5\u001b[39m, \u001b[39m'\u001b[39m\u001b[39mCrecimiento\u001b[39m\u001b[39m'\u001b[39m)\n",
      "File \u001b[0;32m/Library/Frameworks/Python.framework/Versions/3.11/lib/python3.11/site-packages/pandas/core/ops/common.py:76\u001b[0m, in \u001b[0;36m_unpack_zerodim_and_defer.<locals>.new_method\u001b[0;34m(self, other)\u001b[0m\n\u001b[1;32m     72\u001b[0m             \u001b[39mreturn\u001b[39;00m \u001b[39mNotImplemented\u001b[39m\n\u001b[1;32m     74\u001b[0m other \u001b[39m=\u001b[39m item_from_zerodim(other)\n\u001b[0;32m---> 76\u001b[0m \u001b[39mreturn\u001b[39;00m method(\u001b[39mself\u001b[39;49m, other)\n",
      "File \u001b[0;32m/Library/Frameworks/Python.framework/Versions/3.11/lib/python3.11/site-packages/pandas/core/arraylike.py:194\u001b[0m, in \u001b[0;36mOpsMixin.__sub__\u001b[0;34m(self, other)\u001b[0m\n\u001b[1;32m    192\u001b[0m \u001b[39m@unpack_zerodim_and_defer\u001b[39m(\u001b[39m\"\u001b[39m\u001b[39m__sub__\u001b[39m\u001b[39m\"\u001b[39m)\n\u001b[1;32m    193\u001b[0m \u001b[39mdef\u001b[39;00m \u001b[39m__sub__\u001b[39m(\u001b[39mself\u001b[39m, other):\n\u001b[0;32m--> 194\u001b[0m     \u001b[39mreturn\u001b[39;00m \u001b[39mself\u001b[39;49m\u001b[39m.\u001b[39;49m_arith_method(other, operator\u001b[39m.\u001b[39;49msub)\n",
      "File \u001b[0;32m/Library/Frameworks/Python.framework/Versions/3.11/lib/python3.11/site-packages/pandas/core/series.py:5815\u001b[0m, in \u001b[0;36mSeries._arith_method\u001b[0;34m(self, other, op)\u001b[0m\n\u001b[1;32m   5813\u001b[0m \u001b[39mdef\u001b[39;00m \u001b[39m_arith_method\u001b[39m(\u001b[39mself\u001b[39m, other, op):\n\u001b[1;32m   5814\u001b[0m     \u001b[39mself\u001b[39m, other \u001b[39m=\u001b[39m \u001b[39mself\u001b[39m\u001b[39m.\u001b[39m_align_for_op(other)\n\u001b[0;32m-> 5815\u001b[0m     \u001b[39mreturn\u001b[39;00m base\u001b[39m.\u001b[39;49mIndexOpsMixin\u001b[39m.\u001b[39;49m_arith_method(\u001b[39mself\u001b[39;49m, other, op)\n",
      "File \u001b[0;32m/Library/Frameworks/Python.framework/Versions/3.11/lib/python3.11/site-packages/pandas/core/base.py:1381\u001b[0m, in \u001b[0;36mIndexOpsMixin._arith_method\u001b[0;34m(self, other, op)\u001b[0m\n\u001b[1;32m   1378\u001b[0m     rvalues \u001b[39m=\u001b[39m np\u001b[39m.\u001b[39marange(rvalues\u001b[39m.\u001b[39mstart, rvalues\u001b[39m.\u001b[39mstop, rvalues\u001b[39m.\u001b[39mstep)\n\u001b[1;32m   1380\u001b[0m \u001b[39mwith\u001b[39;00m np\u001b[39m.\u001b[39merrstate(\u001b[39mall\u001b[39m\u001b[39m=\u001b[39m\u001b[39m\"\u001b[39m\u001b[39mignore\u001b[39m\u001b[39m\"\u001b[39m):\n\u001b[0;32m-> 1381\u001b[0m     result \u001b[39m=\u001b[39m ops\u001b[39m.\u001b[39;49marithmetic_op(lvalues, rvalues, op)\n\u001b[1;32m   1383\u001b[0m \u001b[39mreturn\u001b[39;00m \u001b[39mself\u001b[39m\u001b[39m.\u001b[39m_construct_result(result, name\u001b[39m=\u001b[39mres_name)\n",
      "File \u001b[0;32m/Library/Frameworks/Python.framework/Versions/3.11/lib/python3.11/site-packages/pandas/core/ops/array_ops.py:285\u001b[0m, in \u001b[0;36marithmetic_op\u001b[0;34m(left, right, op)\u001b[0m\n\u001b[1;32m    281\u001b[0m     _bool_arith_check(op, left, right)  \u001b[39m# type: ignore[arg-type]\u001b[39;00m\n\u001b[1;32m    283\u001b[0m     \u001b[39m# error: Argument 1 to \"_na_arithmetic_op\" has incompatible type\u001b[39;00m\n\u001b[1;32m    284\u001b[0m     \u001b[39m# \"Union[ExtensionArray, ndarray[Any, Any]]\"; expected \"ndarray[Any, Any]\"\u001b[39;00m\n\u001b[0;32m--> 285\u001b[0m     res_values \u001b[39m=\u001b[39m _na_arithmetic_op(left, right, op)  \u001b[39m# type: ignore[arg-type]\u001b[39;00m\n\u001b[1;32m    287\u001b[0m \u001b[39mreturn\u001b[39;00m res_values\n",
      "File \u001b[0;32m/Library/Frameworks/Python.framework/Versions/3.11/lib/python3.11/site-packages/pandas/core/ops/array_ops.py:229\u001b[0m, in \u001b[0;36m_na_arithmetic_op\u001b[0;34m(left, right, op, is_cmp)\u001b[0m\n\u001b[1;32m    221\u001b[0m \u001b[39mexcept\u001b[39;00m \u001b[39mTypeError\u001b[39;00m:\n\u001b[1;32m    222\u001b[0m     \u001b[39mif\u001b[39;00m \u001b[39mnot\u001b[39;00m is_cmp \u001b[39mand\u001b[39;00m (\n\u001b[1;32m    223\u001b[0m         left\u001b[39m.\u001b[39mdtype \u001b[39m==\u001b[39m \u001b[39mobject\u001b[39m \u001b[39mor\u001b[39;00m \u001b[39mgetattr\u001b[39m(right, \u001b[39m\"\u001b[39m\u001b[39mdtype\u001b[39m\u001b[39m\"\u001b[39m, \u001b[39mNone\u001b[39;00m) \u001b[39m==\u001b[39m \u001b[39mobject\u001b[39m\n\u001b[1;32m    224\u001b[0m     ):\n\u001b[0;32m   (...)\u001b[0m\n\u001b[1;32m    227\u001b[0m         \u001b[39m# Don't do this for comparisons, as that will handle complex numbers\u001b[39;00m\n\u001b[1;32m    228\u001b[0m         \u001b[39m#  incorrectly, see GH#32047\u001b[39;00m\n\u001b[0;32m--> 229\u001b[0m         result \u001b[39m=\u001b[39m _masked_arith_op(left, right, op)\n\u001b[1;32m    230\u001b[0m     \u001b[39melse\u001b[39;00m:\n\u001b[1;32m    231\u001b[0m         \u001b[39mraise\u001b[39;00m\n",
      "File \u001b[0;32m/Library/Frameworks/Python.framework/Versions/3.11/lib/python3.11/site-packages/pandas/core/ops/array_ops.py:165\u001b[0m, in \u001b[0;36m_masked_arith_op\u001b[0;34m(x, y, op)\u001b[0m\n\u001b[1;32m    163\u001b[0m     \u001b[39m# See GH#5284, GH#5035, GH#19448 for historical reference\u001b[39;00m\n\u001b[1;32m    164\u001b[0m     \u001b[39mif\u001b[39;00m mask\u001b[39m.\u001b[39many():\n\u001b[0;32m--> 165\u001b[0m         result[mask] \u001b[39m=\u001b[39m op(xrav[mask], yrav[mask])\n\u001b[1;32m    167\u001b[0m \u001b[39melse\u001b[39;00m:\n\u001b[1;32m    168\u001b[0m     \u001b[39mif\u001b[39;00m \u001b[39mnot\u001b[39;00m is_scalar(y):\n",
      "\u001b[0;31mTypeError\u001b[0m: unsupported operand type(s) for -: 'str' and 'str'"
     ]
    }
   ],
   "source": [
    "# Filtramos los datos solo para los valores True en Méx\n",
    "mexico_data = countries_5[countries_5['Mexico [MX]'] == 1]\n",
    "\n",
    "#calculams el crecimiento de ventas en los últimos tres años comparando volume4 con volume 2\n",
    "mexico_data['Crecimiento'] = mexico_data['Volume 4'] - mexico_data['Volume 2']\n",
    "\n",
    "# Selecciona los 5 productos con el mayor crecimiento\n",
    "top_products = mexico_data.nlargest(5, 'Crecimiento')\n",
    "\n",
    "# Crea el gráfico de barras para visualizar los resultados\n",
    "fig = px.bar(\n",
    "    top_products,\n",
    "    x='Material Description (Name)',\n",
    "    y='Crecimiento',\n",
    "    color='Material Description (Name)',\n",
    "    color_discrete_sequence=['#56D500'],  # Utiliza el color personalizado\n",
    "    title='Productos con Mayor Crecimiento en Ventas en México (últimos 3 años)',\n",
    ")\n",
    "\n",
    "# Muestra el gráfico\n",
    "fig.show()\n"
   ]
  },
  {
   "cell_type": "code",
   "execution_count": null,
   "metadata": {},
   "outputs": [
    {
     "data": {
      "text/plain": [
       "Index(['Number', 'Material Description (Name)', 'Category',\n",
       "       'Marketed Countries (Page Three)', 'Country lead cluster', 'Brand',\n",
       "       'UI', 'UI Description', 'Galenical form', 'Volume 4', 'Volume 3',\n",
       "       'Volume 2', 'FG Pack Size UoM (Page Three).1',\n",
       "       'Antigua and Barbuda [AG]', 'Argentina [AR]', 'Aruba [AW]',\n",
       "       'Bahamas [BS]', 'Barbados [BB]', 'Belize [BZ]', 'Bermuda [BM]',\n",
       "       'Bolivia [BO]', 'Brazil [BR]', 'Cayman Islands [KY]', 'Chile [CL]',\n",
       "       'Colombia [CO]', 'Costa Rica [CR]', 'El Salvador [SV]',\n",
       "       'Guatemala [GT]', 'Guyana [GY]', 'Haiti [HT]', 'Honduras [HN]',\n",
       "       'Hong Kong [HK]', 'Jamaica [JM]', 'Mexico [MX]',\n",
       "       'Netherlands Antilles [AN]', 'Nicaragua [NI]', 'Panama [PA]',\n",
       "       'Paraguay [PY]', 'Peru [PE]', 'Saint Lucia [LC]', 'Sint Maarten [SX]',\n",
       "       'Trinidad and Tobago [TT]', 'Uruguay [UY]', 'Venezuela [VE]', 'Growth'],\n",
       "      dtype='object')"
      ]
     },
     "execution_count": 95,
     "metadata": {},
     "output_type": "execute_result"
    }
   ],
   "source": [
    "mexico_data.columns"
   ]
  },
  {
   "cell_type": "code",
   "execution_count": null,
   "metadata": {},
   "outputs": [
    {
     "data": {
      "text/html": [
       "<div>\n",
       "<style scoped>\n",
       "    .dataframe tbody tr th:only-of-type {\n",
       "        vertical-align: middle;\n",
       "    }\n",
       "\n",
       "    .dataframe tbody tr th {\n",
       "        vertical-align: top;\n",
       "    }\n",
       "\n",
       "    .dataframe thead th {\n",
       "        text-align: right;\n",
       "    }\n",
       "</style>\n",
       "<table border=\"1\" class=\"dataframe\">\n",
       "  <thead>\n",
       "    <tr style=\"text-align: right;\">\n",
       "      <th></th>\n",
       "      <th>Number</th>\n",
       "      <th>Material Description (Name)</th>\n",
       "      <th>Category</th>\n",
       "      <th>Marketed Countries (Page Three)</th>\n",
       "      <th>Country lead cluster</th>\n",
       "      <th>Brand</th>\n",
       "      <th>UI</th>\n",
       "      <th>UI Description</th>\n",
       "      <th>Galenical form</th>\n",
       "      <th>Volume 4</th>\n",
       "      <th>...</th>\n",
       "      <th>Netherlands Antilles [AN]</th>\n",
       "      <th>Nicaragua [NI]</th>\n",
       "      <th>Panama [PA]</th>\n",
       "      <th>Paraguay [PY]</th>\n",
       "      <th>Peru [PE]</th>\n",
       "      <th>Saint Lucia [LC]</th>\n",
       "      <th>Sint Maarten [SX]</th>\n",
       "      <th>Trinidad and Tobago [TT]</th>\n",
       "      <th>Uruguay [UY]</th>\n",
       "      <th>Venezuela [VE]</th>\n",
       "    </tr>\n",
       "  </thead>\n",
       "  <tbody>\n",
       "    <tr>\n",
       "      <th>0</th>\n",
       "      <td>10056107</td>\n",
       "      <td>REDOXON NA ef x10 BO/PY/UY</td>\n",
       "      <td>Nutritionals</td>\n",
       "      <td>Bolivia [BO];Uruguay [UY]</td>\n",
       "      <td>Other Conosur</td>\n",
       "      <td>REDOXON</td>\n",
       "      <td>1600106</td>\n",
       "      <td>REDOXON Orange 1000 mg Effervescent Tablet</td>\n",
       "      <td>Solid|Tablet|Effervescent</td>\n",
       "      <td>85.0</td>\n",
       "      <td>...</td>\n",
       "      <td>0</td>\n",
       "      <td>0</td>\n",
       "      <td>0</td>\n",
       "      <td>0</td>\n",
       "      <td>0</td>\n",
       "      <td>0</td>\n",
       "      <td>0</td>\n",
       "      <td>0</td>\n",
       "      <td>1</td>\n",
       "      <td>0</td>\n",
       "    </tr>\n",
       "  </tbody>\n",
       "</table>\n",
       "<p>1 rows × 44 columns</p>\n",
       "</div>"
      ],
      "text/plain": [
       "     Number Material Description (Name)      Category  \\\n",
       "0  10056107  REDOXON NA ef x10 BO/PY/UY  Nutritionals   \n",
       "\n",
       "  Marketed Countries (Page Three) Country lead cluster    Brand       UI  \\\n",
       "0       Bolivia [BO];Uruguay [UY]        Other Conosur  REDOXON  1600106   \n",
       "\n",
       "                               UI Description             Galenical form  \\\n",
       "0  REDOXON Orange 1000 mg Effervescent Tablet  Solid|Tablet|Effervescent   \n",
       "\n",
       "   Volume 4  ...  Netherlands Antilles [AN]  Nicaragua [NI] Panama [PA]  \\\n",
       "0      85.0  ...                          0               0           0   \n",
       "\n",
       "   Paraguay [PY]  Peru [PE]  Saint Lucia [LC]  Sint Maarten [SX]  \\\n",
       "0              0          0                 0                  0   \n",
       "\n",
       "   Trinidad and Tobago [TT]  Uruguay [UY]  Venezuela [VE]  \n",
       "0                         0             1               0  \n",
       "\n",
       "[1 rows x 44 columns]"
      ]
     },
     "execution_count": 91,
     "metadata": {},
     "output_type": "execute_result"
    }
   ],
   "source": [
    "countries_5 = countries_5.rename(columns={\"SBU Category (Relationships.Formulation.Formulation Attributes)\": \"Category\"})\n",
    "countries_5.head(1)"
   ]
  },
  {
   "cell_type": "markdown",
   "metadata": {},
   "source": [
    "## Para el tercer objetivo específico, **Segmentación de productos por categoría o marca**, quiero la distribución de categorías de productos y la frecuencia de ventas en México. \n",
    "\n",
    "## En el siguiente código creamos un DataFrame llamado category_distribution que contiene dos columnas: \"Category\" y \"Count\". Esto se supone como un ejemplo; en tus datos reales, deberás reemplazarlo con la información correcta. \n",
    "    \n",
    "## En \"Category\" se encuentran los nombres de las categorías y en \"Count\" la cantidad de productos en cada categoría.\n",
    "\n",
    "## Usamos px.pie para crear un gráfico de tarta. Le proporcionamos el DataFrame category_distribution y especificamos que \"Category\" se mapea a las etiquetas de las secciones del gráfico, y \"Count\" se mapea a los valores que representan la proporción de cada categoría.\n",
    "\n",
    "### Configuramos los colores personalizados para las secciones de la tarta mediante el uso de fig.update_traces. Los colores principales son los colores de la marca."
   ]
  },
  {
   "cell_type": "code",
   "execution_count": null,
   "metadata": {},
   "outputs": [
    {
     "data": {
      "application/vnd.plotly.v1+json": {
       "config": {
        "plotlyServerURL": "https://plot.ly"
       },
       "data": [
        {
         "domain": {
          "x": [
           0,
           1
          ],
          "y": [
           0,
           1
          ]
         },
         "hovertemplate": "Category=%{label}<br>Count=%{value}<extra></extra>",
         "labels": [
          "Dermatology",
          "Analgesics",
          "Nutritionals",
          "Cough & Cold",
          "Digestive Health",
          "Allergy",
          "Cardio"
         ],
         "legendgroup": "",
         "marker": {
          "colors": [
           "#56D500",
           "#00314E",
           "#01BEFF"
          ]
         },
         "name": "",
         "showlegend": true,
         "type": "pie",
         "values": [
          30,
          29,
          25,
          24,
          14,
          7,
          1
         ]
        }
       ],
       "layout": {
        "legend": {
         "tracegroupgap": 0
        },
        "template": {
         "data": {
          "bar": [
           {
            "error_x": {
             "color": "#2a3f5f"
            },
            "error_y": {
             "color": "#2a3f5f"
            },
            "marker": {
             "line": {
              "color": "#E5ECF6",
              "width": 0.5
             },
             "pattern": {
              "fillmode": "overlay",
              "size": 10,
              "solidity": 0.2
             }
            },
            "type": "bar"
           }
          ],
          "barpolar": [
           {
            "marker": {
             "line": {
              "color": "#E5ECF6",
              "width": 0.5
             },
             "pattern": {
              "fillmode": "overlay",
              "size": 10,
              "solidity": 0.2
             }
            },
            "type": "barpolar"
           }
          ],
          "carpet": [
           {
            "aaxis": {
             "endlinecolor": "#2a3f5f",
             "gridcolor": "white",
             "linecolor": "white",
             "minorgridcolor": "white",
             "startlinecolor": "#2a3f5f"
            },
            "baxis": {
             "endlinecolor": "#2a3f5f",
             "gridcolor": "white",
             "linecolor": "white",
             "minorgridcolor": "white",
             "startlinecolor": "#2a3f5f"
            },
            "type": "carpet"
           }
          ],
          "choropleth": [
           {
            "colorbar": {
             "outlinewidth": 0,
             "ticks": ""
            },
            "type": "choropleth"
           }
          ],
          "contour": [
           {
            "colorbar": {
             "outlinewidth": 0,
             "ticks": ""
            },
            "colorscale": [
             [
              0,
              "#0d0887"
             ],
             [
              0.1111111111111111,
              "#46039f"
             ],
             [
              0.2222222222222222,
              "#7201a8"
             ],
             [
              0.3333333333333333,
              "#9c179e"
             ],
             [
              0.4444444444444444,
              "#bd3786"
             ],
             [
              0.5555555555555556,
              "#d8576b"
             ],
             [
              0.6666666666666666,
              "#ed7953"
             ],
             [
              0.7777777777777778,
              "#fb9f3a"
             ],
             [
              0.8888888888888888,
              "#fdca26"
             ],
             [
              1,
              "#f0f921"
             ]
            ],
            "type": "contour"
           }
          ],
          "contourcarpet": [
           {
            "colorbar": {
             "outlinewidth": 0,
             "ticks": ""
            },
            "type": "contourcarpet"
           }
          ],
          "heatmap": [
           {
            "colorbar": {
             "outlinewidth": 0,
             "ticks": ""
            },
            "colorscale": [
             [
              0,
              "#0d0887"
             ],
             [
              0.1111111111111111,
              "#46039f"
             ],
             [
              0.2222222222222222,
              "#7201a8"
             ],
             [
              0.3333333333333333,
              "#9c179e"
             ],
             [
              0.4444444444444444,
              "#bd3786"
             ],
             [
              0.5555555555555556,
              "#d8576b"
             ],
             [
              0.6666666666666666,
              "#ed7953"
             ],
             [
              0.7777777777777778,
              "#fb9f3a"
             ],
             [
              0.8888888888888888,
              "#fdca26"
             ],
             [
              1,
              "#f0f921"
             ]
            ],
            "type": "heatmap"
           }
          ],
          "heatmapgl": [
           {
            "colorbar": {
             "outlinewidth": 0,
             "ticks": ""
            },
            "colorscale": [
             [
              0,
              "#0d0887"
             ],
             [
              0.1111111111111111,
              "#46039f"
             ],
             [
              0.2222222222222222,
              "#7201a8"
             ],
             [
              0.3333333333333333,
              "#9c179e"
             ],
             [
              0.4444444444444444,
              "#bd3786"
             ],
             [
              0.5555555555555556,
              "#d8576b"
             ],
             [
              0.6666666666666666,
              "#ed7953"
             ],
             [
              0.7777777777777778,
              "#fb9f3a"
             ],
             [
              0.8888888888888888,
              "#fdca26"
             ],
             [
              1,
              "#f0f921"
             ]
            ],
            "type": "heatmapgl"
           }
          ],
          "histogram": [
           {
            "marker": {
             "pattern": {
              "fillmode": "overlay",
              "size": 10,
              "solidity": 0.2
             }
            },
            "type": "histogram"
           }
          ],
          "histogram2d": [
           {
            "colorbar": {
             "outlinewidth": 0,
             "ticks": ""
            },
            "colorscale": [
             [
              0,
              "#0d0887"
             ],
             [
              0.1111111111111111,
              "#46039f"
             ],
             [
              0.2222222222222222,
              "#7201a8"
             ],
             [
              0.3333333333333333,
              "#9c179e"
             ],
             [
              0.4444444444444444,
              "#bd3786"
             ],
             [
              0.5555555555555556,
              "#d8576b"
             ],
             [
              0.6666666666666666,
              "#ed7953"
             ],
             [
              0.7777777777777778,
              "#fb9f3a"
             ],
             [
              0.8888888888888888,
              "#fdca26"
             ],
             [
              1,
              "#f0f921"
             ]
            ],
            "type": "histogram2d"
           }
          ],
          "histogram2dcontour": [
           {
            "colorbar": {
             "outlinewidth": 0,
             "ticks": ""
            },
            "colorscale": [
             [
              0,
              "#0d0887"
             ],
             [
              0.1111111111111111,
              "#46039f"
             ],
             [
              0.2222222222222222,
              "#7201a8"
             ],
             [
              0.3333333333333333,
              "#9c179e"
             ],
             [
              0.4444444444444444,
              "#bd3786"
             ],
             [
              0.5555555555555556,
              "#d8576b"
             ],
             [
              0.6666666666666666,
              "#ed7953"
             ],
             [
              0.7777777777777778,
              "#fb9f3a"
             ],
             [
              0.8888888888888888,
              "#fdca26"
             ],
             [
              1,
              "#f0f921"
             ]
            ],
            "type": "histogram2dcontour"
           }
          ],
          "mesh3d": [
           {
            "colorbar": {
             "outlinewidth": 0,
             "ticks": ""
            },
            "type": "mesh3d"
           }
          ],
          "parcoords": [
           {
            "line": {
             "colorbar": {
              "outlinewidth": 0,
              "ticks": ""
             }
            },
            "type": "parcoords"
           }
          ],
          "pie": [
           {
            "automargin": true,
            "type": "pie"
           }
          ],
          "scatter": [
           {
            "fillpattern": {
             "fillmode": "overlay",
             "size": 10,
             "solidity": 0.2
            },
            "type": "scatter"
           }
          ],
          "scatter3d": [
           {
            "line": {
             "colorbar": {
              "outlinewidth": 0,
              "ticks": ""
             }
            },
            "marker": {
             "colorbar": {
              "outlinewidth": 0,
              "ticks": ""
             }
            },
            "type": "scatter3d"
           }
          ],
          "scattercarpet": [
           {
            "marker": {
             "colorbar": {
              "outlinewidth": 0,
              "ticks": ""
             }
            },
            "type": "scattercarpet"
           }
          ],
          "scattergeo": [
           {
            "marker": {
             "colorbar": {
              "outlinewidth": 0,
              "ticks": ""
             }
            },
            "type": "scattergeo"
           }
          ],
          "scattergl": [
           {
            "marker": {
             "colorbar": {
              "outlinewidth": 0,
              "ticks": ""
             }
            },
            "type": "scattergl"
           }
          ],
          "scattermapbox": [
           {
            "marker": {
             "colorbar": {
              "outlinewidth": 0,
              "ticks": ""
             }
            },
            "type": "scattermapbox"
           }
          ],
          "scatterpolar": [
           {
            "marker": {
             "colorbar": {
              "outlinewidth": 0,
              "ticks": ""
             }
            },
            "type": "scatterpolar"
           }
          ],
          "scatterpolargl": [
           {
            "marker": {
             "colorbar": {
              "outlinewidth": 0,
              "ticks": ""
             }
            },
            "type": "scatterpolargl"
           }
          ],
          "scatterternary": [
           {
            "marker": {
             "colorbar": {
              "outlinewidth": 0,
              "ticks": ""
             }
            },
            "type": "scatterternary"
           }
          ],
          "surface": [
           {
            "colorbar": {
             "outlinewidth": 0,
             "ticks": ""
            },
            "colorscale": [
             [
              0,
              "#0d0887"
             ],
             [
              0.1111111111111111,
              "#46039f"
             ],
             [
              0.2222222222222222,
              "#7201a8"
             ],
             [
              0.3333333333333333,
              "#9c179e"
             ],
             [
              0.4444444444444444,
              "#bd3786"
             ],
             [
              0.5555555555555556,
              "#d8576b"
             ],
             [
              0.6666666666666666,
              "#ed7953"
             ],
             [
              0.7777777777777778,
              "#fb9f3a"
             ],
             [
              0.8888888888888888,
              "#fdca26"
             ],
             [
              1,
              "#f0f921"
             ]
            ],
            "type": "surface"
           }
          ],
          "table": [
           {
            "cells": {
             "fill": {
              "color": "#EBF0F8"
             },
             "line": {
              "color": "white"
             }
            },
            "header": {
             "fill": {
              "color": "#C8D4E3"
             },
             "line": {
              "color": "white"
             }
            },
            "type": "table"
           }
          ]
         },
         "layout": {
          "annotationdefaults": {
           "arrowcolor": "#2a3f5f",
           "arrowhead": 0,
           "arrowwidth": 1
          },
          "autotypenumbers": "strict",
          "coloraxis": {
           "colorbar": {
            "outlinewidth": 0,
            "ticks": ""
           }
          },
          "colorscale": {
           "diverging": [
            [
             0,
             "#8e0152"
            ],
            [
             0.1,
             "#c51b7d"
            ],
            [
             0.2,
             "#de77ae"
            ],
            [
             0.3,
             "#f1b6da"
            ],
            [
             0.4,
             "#fde0ef"
            ],
            [
             0.5,
             "#f7f7f7"
            ],
            [
             0.6,
             "#e6f5d0"
            ],
            [
             0.7,
             "#b8e186"
            ],
            [
             0.8,
             "#7fbc41"
            ],
            [
             0.9,
             "#4d9221"
            ],
            [
             1,
             "#276419"
            ]
           ],
           "sequential": [
            [
             0,
             "#0d0887"
            ],
            [
             0.1111111111111111,
             "#46039f"
            ],
            [
             0.2222222222222222,
             "#7201a8"
            ],
            [
             0.3333333333333333,
             "#9c179e"
            ],
            [
             0.4444444444444444,
             "#bd3786"
            ],
            [
             0.5555555555555556,
             "#d8576b"
            ],
            [
             0.6666666666666666,
             "#ed7953"
            ],
            [
             0.7777777777777778,
             "#fb9f3a"
            ],
            [
             0.8888888888888888,
             "#fdca26"
            ],
            [
             1,
             "#f0f921"
            ]
           ],
           "sequentialminus": [
            [
             0,
             "#0d0887"
            ],
            [
             0.1111111111111111,
             "#46039f"
            ],
            [
             0.2222222222222222,
             "#7201a8"
            ],
            [
             0.3333333333333333,
             "#9c179e"
            ],
            [
             0.4444444444444444,
             "#bd3786"
            ],
            [
             0.5555555555555556,
             "#d8576b"
            ],
            [
             0.6666666666666666,
             "#ed7953"
            ],
            [
             0.7777777777777778,
             "#fb9f3a"
            ],
            [
             0.8888888888888888,
             "#fdca26"
            ],
            [
             1,
             "#f0f921"
            ]
           ]
          },
          "colorway": [
           "#636efa",
           "#EF553B",
           "#00cc96",
           "#ab63fa",
           "#FFA15A",
           "#19d3f3",
           "#FF6692",
           "#B6E880",
           "#FF97FF",
           "#FECB52"
          ],
          "font": {
           "color": "#2a3f5f"
          },
          "geo": {
           "bgcolor": "white",
           "lakecolor": "white",
           "landcolor": "#E5ECF6",
           "showlakes": true,
           "showland": true,
           "subunitcolor": "white"
          },
          "hoverlabel": {
           "align": "left"
          },
          "hovermode": "closest",
          "mapbox": {
           "style": "light"
          },
          "paper_bgcolor": "white",
          "plot_bgcolor": "#E5ECF6",
          "polar": {
           "angularaxis": {
            "gridcolor": "white",
            "linecolor": "white",
            "ticks": ""
           },
           "bgcolor": "#E5ECF6",
           "radialaxis": {
            "gridcolor": "white",
            "linecolor": "white",
            "ticks": ""
           }
          },
          "scene": {
           "xaxis": {
            "backgroundcolor": "#E5ECF6",
            "gridcolor": "white",
            "gridwidth": 2,
            "linecolor": "white",
            "showbackground": true,
            "ticks": "",
            "zerolinecolor": "white"
           },
           "yaxis": {
            "backgroundcolor": "#E5ECF6",
            "gridcolor": "white",
            "gridwidth": 2,
            "linecolor": "white",
            "showbackground": true,
            "ticks": "",
            "zerolinecolor": "white"
           },
           "zaxis": {
            "backgroundcolor": "#E5ECF6",
            "gridcolor": "white",
            "gridwidth": 2,
            "linecolor": "white",
            "showbackground": true,
            "ticks": "",
            "zerolinecolor": "white"
           }
          },
          "shapedefaults": {
           "line": {
            "color": "#2a3f5f"
           }
          },
          "ternary": {
           "aaxis": {
            "gridcolor": "white",
            "linecolor": "white",
            "ticks": ""
           },
           "baxis": {
            "gridcolor": "white",
            "linecolor": "white",
            "ticks": ""
           },
           "bgcolor": "#E5ECF6",
           "caxis": {
            "gridcolor": "white",
            "linecolor": "white",
            "ticks": ""
           }
          },
          "title": {
           "x": 0.05
          },
          "xaxis": {
           "automargin": true,
           "gridcolor": "white",
           "linecolor": "white",
           "ticks": "",
           "title": {
            "standoff": 15
           },
           "zerolinecolor": "white",
           "zerolinewidth": 2
          },
          "yaxis": {
           "automargin": true,
           "gridcolor": "white",
           "linecolor": "white",
           "ticks": "",
           "title": {
            "standoff": 15
           },
           "zerolinecolor": "white",
           "zerolinewidth": 2
          }
         }
        },
        "title": {
         "text": "Distribución de Productos por Categoría en México"
        }
       }
      }
     },
     "metadata": {},
     "output_type": "display_data"
    }
   ],
   "source": [
    "import plotly.express as px\n",
    "# Vamos a verlo de otra forma.\n",
    "# Denuevo filtramos los datos para México\n",
    "mexico_data = countries_5[countries_5['Mexico [MX]'] == 1]\n",
    "\n",
    "# Agrupa los datos por categoría y cuenta la cantidad de productos en cada una\n",
    "category_counts = mexico_data['Category'].value_counts().reset_index()\n",
    "category_counts.columns = ['Category', 'Count']  # Cambio el nombre del index\n",
    "\n",
    "# Crea un gráfico de pastel\n",
    "fig = px.pie(category_counts, names='Category', values='Count', title='Distribución de Productos por Categoría en México')\n",
    "\n",
    "# Define los colores personalizados\n",
    "colors = ['#56D500', '#00314E', '#01BEFF']\n",
    "fig.update_traces(marker=dict(colors=colors))\n",
    "\n",
    "# Muestra el gráfico\n",
    "fig.show()\n"
   ]
  },
  {
   "cell_type": "code",
   "execution_count": null,
   "metadata": {},
   "outputs": [],
   "source": []
  }
 ],
 "metadata": {
  "kernelspec": {
   "display_name": "Python 3",
   "language": "python",
   "name": "python3"
  },
  "language_info": {
   "codemirror_mode": {
    "name": "ipython",
    "version": 3
   },
   "file_extension": ".py",
   "mimetype": "text/x-python",
   "name": "python",
   "nbconvert_exporter": "python",
   "pygments_lexer": "ipython3",
   "version": "3.11.4"
  },
  "orig_nbformat": 4
 },
 "nbformat": 4,
 "nbformat_minor": 2
}
